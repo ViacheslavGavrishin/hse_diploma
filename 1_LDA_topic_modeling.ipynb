{
 "cells": [
  {
   "cell_type": "markdown",
   "id": "7ab17cb3",
   "metadata": {},
   "source": [
    "# General approach \n",
    "\n",
    "### Initial imports of necessary modules\n",
    "\n",
    "### Chapter 1: small amount of data\n",
    "\n",
    "0. Find abbreviations (def find_abbreviations)\n",
    "\n",
    "1. Convert abbreviations (def abbreviations_conversion)\n",
    "\n",
    "2. Get rid of digits, emails, ip addresses (def remove_digits_emails_ips)\n",
    "\n",
    "3. Lemmatize english and russiann words (def lemmatize_eng_rus_words)\n",
    "\n",
    "4. Find low and hi frequency words (def frequency_analysis)\n",
    "\n",
    "5. Apply stop words (nltk + low and hi frequency words) (def apply_stopwords_general)\n",
    "\n",
    "6. Build the LDA monogram model. \n",
    "\n",
    "7. Do some optimizations with a) getting rid of some english words b) including only 95% percntile words\n",
    "\n",
    "8. Build bigram and trigram models\n",
    "\n",
    "\n",
    "### Chapter 2: full dataset\n",
    "\n",
    "1. Prepare the dataset (Steps 1-6 in chapter 1)\n",
    "\n",
    "2. Make biigram model\n",
    "\n",
    "3. Check anomaly detection hipothesys\n",
    "\n",
    "\n",
    "### Chapter 3: berttopics and DBSCAN as an alternative way to conduct the problem"
   ]
  },
  {
   "cell_type": "markdown",
   "id": "d51440fd",
   "metadata": {},
   "source": [
    "------------------------------------------------------------------------------------------------------------"
   ]
  },
  {
   "cell_type": "markdown",
   "id": "8d0ef26b",
   "metadata": {},
   "source": [
    "## Initial imports of necessary modules"
   ]
  },
  {
   "cell_type": "code",
   "execution_count": 2,
   "id": "23f74a6f",
   "metadata": {},
   "outputs": [],
   "source": [
    "#!pip install -U pip setuptools wheel\n",
    "#!pip install -U spacy\n",
    "#!python -m spacy download en_core_web_sm\n",
    "#!python -m spacy download ru_core_news_sm\n",
    "#import spacy\n",
    "#!pip install pyLDAvis"
   ]
  },
  {
   "cell_type": "code",
   "execution_count": 3,
   "id": "1d8d2c71",
   "metadata": {},
   "outputs": [],
   "source": [
    "import pandas as pd\n",
    "import numpy as np\n",
    "import pickle\n",
    "import re\n",
    "import string\n",
    "from collections import defaultdict"
   ]
  },
  {
   "cell_type": "code",
   "execution_count": 4,
   "id": "23a81cc9-b8da-4084-8243-35d6defb628c",
   "metadata": {},
   "outputs": [],
   "source": [
    "#import spacy"
   ]
  },
  {
   "cell_type": "code",
   "execution_count": 5,
   "id": "64e97e50",
   "metadata": {},
   "outputs": [
    {
     "name": "stderr",
     "output_type": "stream",
     "text": [
      "[nltk_data] Downloading package stopwords to\n",
      "[nltk_data]     C:\\Users\\slavochka\\AppData\\Roaming\\nltk_data...\n",
      "[nltk_data]   Package stopwords is already up-to-date!\n"
     ]
    }
   ],
   "source": [
    "#from sklearn.feature_extraction.text import CountVectorizer\n",
    "#from sklearn.decomposition import LatentDirichletAllocation\n",
    "import nltk\n",
    "nltk.download('stopwords')\n",
    "from nltk.corpus import stopwords as nltk_stopwords\n",
    "import time\n",
    "from gensim.test.utils import datapath\n",
    "import datetime\n",
    "from pprint import pprint\n",
    "import gensim\n",
    "import gensim.corpora as corpora\n",
    "from gensim.utils import simple_preprocess\n",
    "from gensim.models import CoherenceModel\n",
    "import spacy\n",
    "import pyLDAvis\n",
    "import pyLDAvis.gensim  \n",
    "import matplotlib.pyplot as plt\n",
    "%matplotlib inline\n",
    "import logging\n",
    "logging.basicConfig(format='%(asctime)s : %(levelname)s : %(message)s', level=logging.ERROR)\n",
    "import warnings\n",
    "warnings.filterwarnings(\"ignore\",category=DeprecationWarning)"
   ]
  },
  {
   "cell_type": "markdown",
   "id": "578549f9",
   "metadata": {},
   "source": [
    "# Part 1: Small amount of data (test data)"
   ]
  },
  {
   "cell_type": "code",
   "execution_count": 6,
   "id": "d30c446e-e323-4276-90fd-1302fafe2542",
   "metadata": {},
   "outputs": [],
   "source": [
    "# Lets load the small test dataset (around 10000 records)\n",
    "df_test = pd.read_excel('test_1405.xlsx', sheet_name='Sheet1')"
   ]
  },
  {
   "cell_type": "code",
   "execution_count": 199,
   "id": "47f18a2c",
   "metadata": {},
   "outputs": [],
   "source": [
    "#df_test[10:12]"
   ]
  },
  {
   "cell_type": "code",
   "execution_count": 8,
   "id": "12d6168d",
   "metadata": {},
   "outputs": [],
   "source": [
    "df_test['full_request'] = df_test['Тема ЗНО'] + ' ' + df_test['Информация']"
   ]
  },
  {
   "cell_type": "code",
   "execution_count": 9,
   "id": "56e655fd",
   "metadata": {},
   "outputs": [
    {
     "data": {
      "text/plain": [
       "ЗНО                 False\n",
       "Категория           False\n",
       "Услуга(объект)      False\n",
       "Тема ЗНО            False\n",
       "Информация          False\n",
       "Дата регистрации    False\n",
       "full_request        False\n",
       "dtype: bool"
      ]
     },
     "execution_count": 9,
     "metadata": {},
     "output_type": "execute_result"
    }
   ],
   "source": [
    "df_test.isna().any()"
   ]
  },
  {
   "cell_type": "code",
   "execution_count": 10,
   "id": "557af269",
   "metadata": {},
   "outputs": [
    {
     "data": {
      "text/plain": [
       "(10795, 7)"
      ]
     },
     "execution_count": 10,
     "metadata": {},
     "output_type": "execute_result"
    }
   ],
   "source": [
    "df_test.shape"
   ]
  },
  {
   "cell_type": "markdown",
   "id": "4b7fb85e",
   "metadata": {},
   "source": [
    "## 1. Handle the data"
   ]
  },
  {
   "cell_type": "markdown",
   "id": "8c14b94c",
   "metadata": {},
   "source": [
    "### 1.1 Handle abbreviations"
   ]
  },
  {
   "cell_type": "code",
   "execution_count": 11,
   "id": "6c6e0819",
   "metadata": {},
   "outputs": [],
   "source": [
    "abbreviations = []\n",
    "abbreviations_set = set()\n",
    "\n",
    "# function to find abbreviations\n",
    "def find_abbreviations(text):\n",
    "    abbreviation_pattern = '[A-ZА-Я]{2,}'\n",
    "    found_list = re.findall(abbreviation_pattern, text)\n",
    "    \n",
    "    found_set = set(found_list)\n",
    "  \n",
    "    abbreviations_set.update(found_set)"
   ]
  },
  {
   "cell_type": "code",
   "execution_count": 12,
   "id": "d6801986",
   "metadata": {},
   "outputs": [],
   "source": [
    "#columns = df_test.columns\n",
    "columns = ['full_request']"
   ]
  },
  {
   "cell_type": "code",
   "execution_count": 13,
   "id": "0fc25c3c",
   "metadata": {},
   "outputs": [],
   "source": [
    "#collect all abbreviations\n",
    "for item in list(columns):\n",
    "    df_test[item].apply(find_abbreviations)"
   ]
  },
  {
   "cell_type": "code",
   "execution_count": 14,
   "id": "f36f2fe2",
   "metadata": {},
   "outputs": [],
   "source": [
    "found_abbreviations = sorted(list(abbreviations_set))"
   ]
  },
  {
   "cell_type": "code",
   "execution_count": 200,
   "id": "e45a0b0c",
   "metadata": {},
   "outputs": [],
   "source": [
    "#found_abbreviations"
   ]
  },
  {
   "cell_type": "markdown",
   "id": "564ea41e",
   "metadata": {},
   "source": [
    "#####  Found abbreviations"
   ]
  },
  {
   "cell_type": "code",
   "execution_count": 16,
   "id": "ce13f39e",
   "metadata": {},
   "outputs": [],
   "source": [
    "abbreviations = {\n",
    "    'https://rlm.ca.sbrf.ru/dashboard/services/createuser_pgsqlse':'сценарий создания пользователя',\n",
    " 'XXXXXXXXXXXXXXXXXXX':'',\n",
    " 'MAJOR CHECK':'стенды интеграционно функционального тестирования',\n",
    " 'СБЕРДРУГ': 'портал сервисного обслуживания',\n",
    " 'MAJOR GO': 'стенды приемо сдаточных испытаний',\n",
    " 'УЗ/ТУЗ':'учетная запись или технологическая учетная запись',\n",
    " 'Zabbix':'система мониторинга',\n",
    " 'СЭОДО':\"система электронного документооборота\",\n",
    " 'ТУЗов':\"технологических учетных записей\",\n",
    " 'PGSQL':\"Postgre SQL\",\n",
    " 'ПРРОМ':\"промышленная среда\",\n",
    " 'PROM':\"промышленная среда\",\n",
    " 'PGSE':\"Postgre SQL\",\n",
    " 'PGSQ':\"Postgre SQL\",\n",
    " 'ПРОМ':\"промышленная среда\",\n",
    " 'ППСИ':\"протокол приемо сдаточных испытаний\",\n",
    " 'PROD':\"промышленная среда\",\n",
    " 'АПТБ':\"автоматическая проверка требований безопасности\",\n",
    " 'РОНА':\"распоряжение о назначении администраторов\",\n",
    " 'СУБД':\"система управления базами данных\",\n",
    " 'ДРУГ':\"портал сервисного обслуживания\",\n",
    " 'ФРИЗ':\"период запрета на изменения в промышленных средах\",\n",
    " 'Prom':\"промышленная среда\",\n",
    " 'ИТФ':\"интеграционно функциональное тестирование\",\n",
    " 'PUZ':\"персональная учетная запись\",\n",
    " 'XXX':\"\",\n",
    " 'ЗНИ':\"запрос на изменение\",\n",
    " 'ИФТ':\"интеграционно функциональное тестирование\",\n",
    " 'СЗИ':\"средства защиты информации\",\n",
    " 'АТД':\"архитетурный технологический долг\",\n",
    " 'УБД':\"управление баз данных\",\n",
    " 'АФТ':\"автоматизированное функциональное тестирование\",\n",
    " 'АкР':\"аппетит к риску\",\n",
    " 'ФПД':\"фонд программ и документации\",\n",
    " 'АИБ':\"администратор информационной безопасности\",\n",
    " 'ТУЗ':\"технологическая учетная запись\",\n",
    " 'РОН':\"распоряжение о назначении администраторов\",\n",
    " 'PSI':\"стенд приемо сдаточных испытаний\",\n",
    " 'ЦОД':\"центр обработки данных\",\n",
    " 'ТКС':\"телефонная конференц связь\",\n",
    " 'ЗНО':\"запрос на обслуживание\",\n",
    " 'UAT':\"стенд приемо сдаточных испытаний\",\n",
    " 'ВНД':\"внутренняя нормативная документация\",\n",
    " 'ДКБ':\"департамент кибер безопасности\",\n",
    " 'ФИР':\"файловый информационный ресурс\",\n",
    " 'ЕФС':\"единая фронтальная система\",\n",
    " 'RML':\"портал самообслуживания\",\n",
    " 'УЭК':\"управление экспертизы кибербезопасности\",\n",
    " 'ЭДО':\"электронный документооборот\",\n",
    " 'ПУЗ':\"персональная учетная запись\",\n",
    " 'ПСИ':\"приемо сдаточные испытания\",\n",
    " 'IFT':\"интеграционно функциональное тестирование\",\n",
    " 'ДЕВ':\"стенд разработки\",\n",
    " 'QA':\"тестирование\",\n",
    " 'ФП':\"функциональная подсистема\",\n",
    " 'ДБ':\"департамент безопасности\",\n",
    " 'РБ':\"розничный бизнес\",\n",
    " 'XX':\"\",\n",
    " 'IP':\"ip адрес\",\n",
    " 'LT':\"стенд нагрузочного тестирования\",\n",
    " 'CR':\"запрос на изменение\",\n",
    " 'НТ':\"стенд нагрузочного тестирования\",\n",
    " 'BD':\"база данных\",\n",
    " 'ОС':\"операционная система\",\n",
    " 'КЭ':\"конфигурационный элемент\",\n",
    " 'ИБ':\"информационная безопасность\",\n",
    " 'АС':\"автоматизированная система\",\n",
    " 'ПЯ':\"почтовый ящик\",\n",
    " 'УЦ':\"удостоверяющий центр\",\n",
    " 'DB':\"база данных\",\n",
    " 'ДИ':\"портал динамической инфраструктуры\",\n",
    " 'БД':\"база данных\",\n",
    " 'УЗ':\"учетная запись\",\n",
    " 'ИП':\"инфраструктурный продукт\",\n",
    " 'ПЖ':\"прикладной журнал\",\n",
    " 'ЮЛ':\"юридическое лицо\"\n",
    "}"
   ]
  },
  {
   "cell_type": "code",
   "execution_count": 17,
   "id": "ee7ec6b2-c8b0-4122-a93b-9c568abef2a1",
   "metadata": {},
   "outputs": [],
   "source": [
    "# function to convert abbreviations\n",
    "def abbreviations_conversion(x):\n",
    "    modified_x = x\n",
    "    for k,v in abbreviations.items():\n",
    "        v = \" \" + v + \" \"\n",
    "        modified_x = re.sub(k, v, modified_x)\n",
    "    return modified_x"
   ]
  },
  {
   "cell_type": "code",
   "execution_count": 18,
   "id": "21223628",
   "metadata": {},
   "outputs": [],
   "source": [
    "# converting abbreviations \n",
    "df_test['full_request_modified']= df_test['full_request'].apply(abbreviations_conversion)"
   ]
  },
  {
   "cell_type": "code",
   "execution_count": 19,
   "id": "bbf9c4e9",
   "metadata": {},
   "outputs": [],
   "source": [
    "#df_test['full_request_modified'][0]"
   ]
  },
  {
   "cell_type": "markdown",
   "id": "f7ece1a1",
   "metadata": {},
   "source": [
    "### 1.2. Get rid of the digits, emails, ips"
   ]
  },
  {
   "cell_type": "code",
   "execution_count": 20,
   "id": "7dcea261-3f31-4553-97ff-7f6edff227c1",
   "metadata": {},
   "outputs": [],
   "source": [
    "def remove_digits_emails_ips(x):\n",
    "    ip_pattern='\\d+\\.+\\d+\\.+\\d+\\.+\\d'\n",
    "    mult_space_pattern = \"\\s+\"\n",
    "    rem_slash_pattern = '\\\\\\\\'\n",
    "    ci_pattern = 'CI\\d{8}|ci\\d{8}'\n",
    "    email_pattern = '[\\w\\.-]+@[\\w\\.-]+'\n",
    "    digits_punct_pattern = '[~£%^&*`@0-9,+;:.\\/\\?\\[\\]\\'\\\"=()>\\-!<#|_{}$\\\\n]'\n",
    "    x_d_pattern = '_x d_' \n",
    "    modified_x = re.sub(ip_pattern,' ', x)\n",
    "    modified_x = re.sub(ci_pattern,' ', modified_x)\n",
    "    modified_x = re.sub(email_pattern,' ', modified_x)\n",
    "    modified_x = re.sub(digits_punct_pattern,'  ', modified_x)\n",
    "    modified_x = re.sub(rem_slash_pattern,' ', modified_x)\n",
    "    modified_x = re.sub(x_d_pattern,' ', modified_x)\n",
    "    modified_x = re.sub(mult_space_pattern,' ', modified_x).lower().strip()\n",
    "    \n",
    "    return modified_x"
   ]
  },
  {
   "cell_type": "code",
   "execution_count": 21,
   "id": "0ff8a95c",
   "metadata": {},
   "outputs": [],
   "source": [
    "# eliminating digits, ips\n",
    "df_test['full_request_modified']= df_test['full_request_modified'].apply(remove_digits_emails_ips)"
   ]
  },
  {
   "cell_type": "markdown",
   "id": "1e4adbe1",
   "metadata": {},
   "source": [
    "### 1.3. Delete n-symbols words which carry no sense (1 symbol)"
   ]
  },
  {
   "cell_type": "code",
   "execution_count": 22,
   "id": "4cabd6a5",
   "metadata": {},
   "outputs": [],
   "source": [
    "def delete_n_symbols_word(text, n_symbols):\n",
    "    text2list = text.split(' ')\n",
    "    text_as_list = [word for word in text2list if len(word)>n_symbols]\n",
    "    res = ' '.join(text_as_list)\n",
    "    return res"
   ]
  },
  {
   "cell_type": "code",
   "execution_count": 23,
   "id": "c59b27b0",
   "metadata": {},
   "outputs": [],
   "source": [
    "# Delete one symbol words\n",
    "df_test['full_request_modified']= df_test['full_request_modified'].apply(lambda x: delete_n_symbols_word(x,1))"
   ]
  },
  {
   "cell_type": "markdown",
   "id": "87fbf846",
   "metadata": {},
   "source": [
    "### 1.4. Calculate low frequency words"
   ]
  },
  {
   "cell_type": "code",
   "execution_count": 24,
   "id": "411dd906",
   "metadata": {},
   "outputs": [
    {
     "data": {
      "text/plain": [
       "0        None\n",
       "1        None\n",
       "2        None\n",
       "3        None\n",
       "4        None\n",
       "         ... \n",
       "10790    None\n",
       "10791    None\n",
       "10792    None\n",
       "10793    None\n",
       "10794    None\n",
       "Name: full_request_modified, Length: 10795, dtype: object"
      ]
     },
     "execution_count": 24,
     "metadata": {},
     "output_type": "execute_result"
    }
   ],
   "source": [
    "frequency_test = defaultdict(int)\n",
    "def calculate_word_frequency(text, dictionary):\n",
    "    text2list = text.split(' ')\n",
    "    for token in text2list:\n",
    "        frequency_test[token]+=1\n",
    "\n",
    "# calculate frequency of words in the corpus\n",
    "df_test['full_request_modified'].apply(lambda x: calculate_word_frequency(x, frequency_test))"
   ]
  },
  {
   "cell_type": "code",
   "execution_count": 25,
   "id": "1531a8bd",
   "metadata": {},
   "outputs": [],
   "source": [
    "#[x for x in sorted(frequency_test.items(), key=lambda x: x[1], reverse = True)]"
   ]
  },
  {
   "cell_type": "code",
   "execution_count": 26,
   "id": "d48faa96",
   "metadata": {},
   "outputs": [],
   "source": [
    "# Function to form <=5 time occuring words\n",
    "def form_stop_words_by_frequency(frequency_dict, lower_limit):\n",
    "    stop_words_by_frequency=set()\n",
    "    for k,v in frequency_dict.items():\n",
    "        if v<=lower_limit:\n",
    "            stop_words_by_frequency.add(k)\n",
    "    return stop_words_by_frequency"
   ]
  },
  {
   "cell_type": "code",
   "execution_count": 27,
   "id": "4a6d3995",
   "metadata": {},
   "outputs": [],
   "source": [
    "# Find 2 times occuring words to exclude them from the corpus\n",
    "stop_words_by_frequency_5_times_test = form_stop_words_by_frequency(frequency_test,5)"
   ]
  },
  {
   "cell_type": "code",
   "execution_count": 28,
   "id": "0d7ebf58",
   "metadata": {},
   "outputs": [],
   "source": [
    "# Lets also take a look at hi frequency words\n",
    "#[x for x in sorted(frequency_test.items(), key=lambda x: x[1], reverse = True)]"
   ]
  },
  {
   "cell_type": "code",
   "execution_count": 29,
   "id": "f13d158f",
   "metadata": {},
   "outputs": [],
   "source": [
    "# Add some hi frequency words to the stop lists words\n",
    "stop_words_hi_frequency_test_list = [\"данных\", \"база\", \"для\", \"не\", \"просьба\", \"день\", \"добрый\", \"или\", \"то\", \"по\", \"если\", \"sbrf\"]"
   ]
  },
  {
   "cell_type": "code",
   "execution_count": 30,
   "id": "7539ec78",
   "metadata": {},
   "outputs": [],
   "source": [
    "# Lets unite hi and low frequency words\n",
    "stop_words_by_frequency_5_times_test.update(stop_words_hi_frequency_test_list)"
   ]
  },
  {
   "cell_type": "markdown",
   "id": "7e13d03a",
   "metadata": {},
   "source": [
    "### 1.5. Lemmatize eng and rus words"
   ]
  },
  {
   "cell_type": "code",
   "execution_count": 219,
   "id": "6f66a226",
   "metadata": {},
   "outputs": [],
   "source": [
    "# Load rus and eng lemmatizers\n",
    "nlp_ru = spacy.load(\"ru_core_news_sm\")\n",
    "lemmatizer_ru = nlp_ru.get_pipe(\"lemmatizer\")\n",
    "nlp_en = spacy.load(\"en_core_web_sm\")\n",
    "lemmatizer_en = nlp_en.get_pipe(\"lemmatizer\")"
   ]
  },
  {
   "cell_type": "code",
   "execution_count": 220,
   "id": "90e17d45",
   "metadata": {},
   "outputs": [],
   "source": [
    "def lemmatize_en_ru(text):\n",
    "    doc_ru = nlp_ru(text)\n",
    "    lem_ru_text = [token.lemma_ for token in doc_ru]\n",
    "    temp_text = ' '.join(lem_ru_text)\n",
    "    doc_fin = nlp_en(temp_text)\n",
    "    lem_final_text = ' '.join([token.lemma_ for token in doc_fin])\n",
    "    return lem_final_text"
   ]
  },
  {
   "cell_type": "code",
   "execution_count": 221,
   "id": "11431db2",
   "metadata": {},
   "outputs": [
    {
     "name": "stdout",
     "output_type": "stream",
     "text": [
      "Current datatime: 2024-05-15 08:47:11.800544\n",
      "Execution time: 600.15 seconds\n"
     ]
    }
   ],
   "source": [
    "# Lemmatize 'full request' field\n",
    "start_time = time.time()\n",
    "print ('Current datatime: {}'.format(datetime.datetime.now()))\n",
    "df_test['full_request_modified_lem']= df_test['full_request_modified'].apply(lemmatize_en_ru)\n",
    "end_time = time.time()\n",
    "elapsed_time = end_time - start_time\n",
    "print(f'Execution time: {elapsed_time:.2f} seconds')"
   ]
  },
  {
   "cell_type": "code",
   "execution_count": 222,
   "id": "551810f9",
   "metadata": {},
   "outputs": [
    {
     "data": {
      "text/plain": [
       "ЗНО                          0\n",
       "Категория                    0\n",
       "Услуга(объект)               0\n",
       "Тема ЗНО                     0\n",
       "Информация                   0\n",
       "Дата регистрации             0\n",
       "full_request                 0\n",
       "full_request_modified        0\n",
       "full_request_modified_lem    0\n",
       "dtype: int64"
      ]
     },
     "execution_count": 222,
     "metadata": {},
     "output_type": "execute_result"
    }
   ],
   "source": [
    "# Check if there are no NaNs\n",
    "df_test.isna().sum()"
   ]
  },
  {
   "cell_type": "code",
   "execution_count": 223,
   "id": "3965be6d",
   "metadata": {},
   "outputs": [],
   "source": [
    "# save intermediate data\n",
    "df_test.to_csv(\"test_data_after_lemmatization_0805.csv\")"
   ]
  },
  {
   "cell_type": "code",
   "execution_count": 30,
   "id": "94685fff",
   "metadata": {},
   "outputs": [],
   "source": [
    "df_test = pd.read_csv('test_data_after_lemmatization_0805.csv')"
   ]
  },
  {
   "cell_type": "code",
   "execution_count": 31,
   "id": "4d0eca2b",
   "metadata": {},
   "outputs": [
    {
     "data": {
      "text/plain": [
       "(10795, 10)"
      ]
     },
     "execution_count": 31,
     "metadata": {},
     "output_type": "execute_result"
    }
   ],
   "source": [
    "df_test.shape"
   ]
  },
  {
   "cell_type": "markdown",
   "id": "a34d4fa7",
   "metadata": {},
   "source": [
    "### 1.6. Calculate frequency words after lemmatization to get  rid of low frequency words "
   ]
  },
  {
   "cell_type": "code",
   "execution_count": 32,
   "id": "61e07750",
   "metadata": {},
   "outputs": [],
   "source": [
    "frequency_after_lem_test = defaultdict(int)\n",
    "\n",
    "# function to calculate frequence\n",
    "def calculate_word_frequency(text, dictionary):\n",
    "    text2list = text.split(' ')\n",
    "    for token in text2list:\n",
    "        frequency_after_lem_test[token]+=1"
   ]
  },
  {
   "cell_type": "code",
   "execution_count": 33,
   "id": "2b5a475f",
   "metadata": {},
   "outputs": [
    {
     "data": {
      "text/plain": [
       "0        None\n",
       "1        None\n",
       "2        None\n",
       "3        None\n",
       "4        None\n",
       "         ... \n",
       "10790    None\n",
       "10791    None\n",
       "10792    None\n",
       "10793    None\n",
       "10794    None\n",
       "Name: full_request_modified_lem, Length: 10795, dtype: object"
      ]
     },
     "execution_count": 33,
     "metadata": {},
     "output_type": "execute_result"
    }
   ],
   "source": [
    "# Build frequency after lemmatization dictionary (frequency_after_lem)\n",
    "df_test['full_request_modified_lem'].apply(lambda x: calculate_word_frequency(x, frequency_after_lem_test))"
   ]
  },
  {
   "cell_type": "code",
   "execution_count": 34,
   "id": "7abb35b4",
   "metadata": {},
   "outputs": [],
   "source": [
    "# Add low occurence words (<=2 times) to stop words list\n",
    "stop_words_by_frequency_after_lemmatization_5_times_test = form_stop_words_by_frequency(frequency_after_lem_test,5)"
   ]
  },
  {
   "cell_type": "code",
   "execution_count": 35,
   "id": "b8b9539a",
   "metadata": {},
   "outputs": [],
   "source": [
    "# Union stop words beefore and after lemmatization\n",
    "stop_words_by_frequency_5_times_test.update(stop_words_by_frequency_after_lemmatization_5_times_test)"
   ]
  },
  {
   "cell_type": "code",
   "execution_count": 36,
   "id": "08ff985f",
   "metadata": {},
   "outputs": [],
   "source": [
    "# take a look at frequency words which are mentioned less than 5 time\n",
    "#stop_words_by_frequency_5_times_test"
   ]
  },
  {
   "cell_type": "markdown",
   "id": "d06288ab",
   "metadata": {},
   "source": [
    "### 1.7. Add  general stop words"
   ]
  },
  {
   "cell_type": "code",
   "execution_count": 37,
   "id": "5a9ad9b0",
   "metadata": {},
   "outputs": [],
   "source": [
    "# load stop words from nltk\n",
    "stopwords_eng = set(nltk_stopwords.words('english'))\n",
    "stopwords_rus = set(nltk_stopwords.words('russian'))\n",
    "nltk_stopwords_general = stopwords_eng.union(stopwords_rus)\n",
    "\n",
    "# Add some seen words which carry no sense\n",
    "stop_phrases_spec = [\"добрый день\", \"добрый вечер\", \"уважаемые коллеги\", \"спасибо\", \"заранее спасибо\", \"пожалуйста\", \"sbrf\", \"ru\", \n",
    "                \"https\",\"support_PostgreSQL_sbt@sberbank.ru\",\"https://confluence.ca.sbrf.ru/pages/viewpage.action?pageId=8049721948\",\n",
    "                \"https://sbtatlas.sigma.sbrf.ru/wiki/pages/viewpage.action?pageId=1214912031\",\n",
    "                \"[10.62.55.109]\",\"SberEdition\",\"Sberbank\",\"день\", \"коллеги\", \"добрый\", \"день\", \n",
    "                         \"вечер\", \"sber\", \"прошу\", \"просить\", \"здравствовать\", \"просьба\"]\n",
    "stop_phrases_specific = [item.lower() for item in stop_phrases_spec]\n",
    "stop_phrases_all = nltk_stopwords_general.union(set(stop_phrases_specific))\n",
    "\n",
    "# Build final stop words dictionary (from frequency words and nltk)\n",
    "stop_phrases_all_test = stop_phrases_all\n",
    "stop_phrases_all_test.update(stop_words_by_frequency_5_times_test)\n",
    "\n",
    "# Exclude no sense words as well\n",
    "cust_set = set(['база', 'баз', ',базы', 'данных', 'данные'])\n",
    "stop_phrases_all_test.update(cust_set)"
   ]
  },
  {
   "cell_type": "markdown",
   "id": "183d0e1d",
   "metadata": {},
   "source": [
    "### 1.8. Apply stop words to lemmatized text"
   ]
  },
  {
   "cell_type": "code",
   "execution_count": 38,
   "id": "6577eaf7-f3c0-4f7b-9e07-7accfa99c7be",
   "metadata": {},
   "outputs": [],
   "source": [
    "# Function to delete stop words from the texts\n",
    "def delete_stop_words(text):\n",
    "    modified_x = [item for item in text.split(' ') if item not in stop_phrases_all_test]\n",
    "    no_stop_words_text = ' '.join(modified_x)\n",
    "    return no_stop_words_text"
   ]
  },
  {
   "cell_type": "code",
   "execution_count": 39,
   "id": "6c5e79bf",
   "metadata": {},
   "outputs": [
    {
     "name": "stdout",
     "output_type": "stream",
     "text": [
      "Current datatime: 2024-05-15 22:23:49.604296\n",
      "Execution time: 0.39 seconds\n"
     ]
    }
   ],
   "source": [
    "print ('Current datatime: {}'.format(datetime.datetime.now()))\n",
    "start_time = time.time()\n",
    "df_test['full_request_modified_lem'] = df_test['full_request_modified_lem'].apply(delete_stop_words)\n",
    "end_time = time.time()\n",
    "elapsed_time = end_time - start_time\n",
    "print(f'Execution time: {elapsed_time:.2f} seconds')"
   ]
  },
  {
   "cell_type": "markdown",
   "id": "7996bf6f",
   "metadata": {},
   "source": [
    "##### !!! Lets save the data"
   ]
  },
  {
   "cell_type": "code",
   "execution_count": 40,
   "id": "fa87aa6f",
   "metadata": {},
   "outputs": [],
   "source": [
    "df_test.to_excel(r'data_cleaned_lemmatized_stopwords_applied_test_0805.xlsx')"
   ]
  },
  {
   "cell_type": "markdown",
   "id": "049a4c13",
   "metadata": {},
   "source": [
    "### 1.9. Find meaningful english words"
   ]
  },
  {
   "cell_type": "markdown",
   "id": "0ba861ab",
   "metadata": {},
   "source": [
    "In the context of our problem some english words and phrases are meaningful. Take database error messages, for example. They show the essence of the problem and very often copied by the engineer into the request. Somee other phrases or words may carry no sense: like specific database names, user names, network zones and so on. So lets not include them into our context."
   ]
  },
  {
   "cell_type": "code",
   "execution_count": 41,
   "id": "e368a81b",
   "metadata": {},
   "outputs": [],
   "source": [
    "eng_words_test = []\n",
    "eng_set_test = set()\n",
    "def find_eng_words_test(text):\n",
    "    eng_words_pattern = '[a-z]{2,}'\n",
    "    found_list = re.findall(eng_words_pattern, text)\n",
    "    #print(found_list)\n",
    "    found_set = set(found_list)\n",
    "    #print(found_set)\n",
    "    eng_set_test.update(found_set)\n",
    "\n",
    "df_test['full_request_modified_lem'].apply(find_eng_words_test)\n",
    "\n",
    "eng_words_test = list(eng_set_test)\n",
    "\n",
    "eng_words_dict_test = {}\n",
    "\n",
    "frequency_eng_words_test = defaultdict(int)\n",
    "\n",
    "def calculate_word_frequency_eng_test(text):\n",
    "    text2list = text.split(' ')\n",
    "    for token in text2list:\n",
    "        if token in eng_set_test:\n",
    "            frequency_eng_words_test[token]+=1    \n",
    "\n",
    "df_test['full_request_modified_lem'].apply(calculate_word_frequency_eng_test)\n",
    "\n",
    "allowed_eng_word_test = \"\"\"secman, physical, batch, dynatrace, call ,current, schemas, integration, group, problem, journal, wrapper, result, load, \n",
    "commit, pgsql, sberlinux, sync, domain, watchdog, election, old, varchar, float, pgerrorlogs, meta, datacenter, ram,\n",
    "rep, ls, pgerrorlogs, rolpassword, dss, authid, utilization, target, write, show, gss, hibernate, strict, like, \n",
    "ldapsuffix, build, hashed, gate, custom, realm, infa, list, rdwh, warn, info, conn, ldapserver, boost, yum, \n",
    "endpoint, procarch, decode, row, hash, unable, mapping, package, leader, digitalapi, project, product, attribute, billing, \n",
    "date, history, partition, plugin, instance, toolkit, tcp, username, source, end, auditor, object, export, explain,\n",
    "timestamp, millisecond, restart, mapper, map, member, pid, plann, reassign, sender, finnd, common, link, maxconn,\n",
    "nobypassrls, stg, predproc, keep, gateway, proctps, entry, upgrade, idle, specsoft, systemctl, shard, auto, retry, standalone,\n",
    "heartbeat, stop, effective, take, use, security, foreign, lib, sdwh, tmp, metric, hint, superuser, view, maintenance, ttl,\n",
    "inherit, message, ignore, task, driver, autz, arch, sm, portal, value, hikari, internal, library, userlist,\n",
    "loop, pages, adm, slave, deploy, pgu, code, lock, wait, liquibase, dml, nit, repository, token, state, routine, state, routine, null, preload, backend, standin, ceert, ca, local, extension, node, exist, line,\n",
    "order, cpu, publication, nexus, noreplication, cache, analyze, nosuperuser, reset, primary, notification, hikaripool,\n",
    "enabl, synchronous, prepared, setting, standby, min, encryption, truncate, catalog, support, comment, \n",
    "timezone, util, storage, request, root, detail, txt, exception, process, pgarclog, bin, pgarclog, work, pgarclog, parallel,\n",
    "ctl, eventid, discover, option, procedure, hostnossl, noinherit, java, loginn, false, parameter, monitoring,\n",
    "rule, activity, usr, track, sample, report, limit, schedule, subscription, idea, enabler, command, change, public, buffer, \n",
    "bounceer, config, version, policy, archive, start, exporter, pub, slot, sid, backup, monit, quick, crt, level, status,\n",
    "major, sequence, services, manager, fdw, etc, connct, data, query, targetservertype, oracle, reject, pgbackup, nologin,\n",
    "medium, haproxy, dev, system, rpm, etcd, time, core, scale, factor, linnux, trigger, int, check, transaction, pgerrorlog,\n",
    "port, require, dict, delete, method, appl, cluster, prefer, replication, psql, oasubd, pool, authentication, home,\n",
    "delay, drop, run, app, ro, yml, preparethreshold, sslmode, worker, insert, allow, arbiter, stat, logical,\n",
    "fatal, hostssl, job, owner, share, cab, psi, full, tablespace, session, fail, md, service, high, execute, update, create, mainn, ldap,\n",
    "password, vacuum, cloud, pgdata, prom, scram, profile, server, verify, autovacuum, zabbix, function, read, ext, revoke, page, wal, patroni,\n",
    "viewpag, pageid, jdbc, cipher, replica, ini, table, sha, master, default, log, connection, select, max, auth, sql,none,\n",
    "privilege, altr, db, search, host, path, set, sccchema, tls, ssl, user, client, grant, cron, hba, pgbouncer, tuz, role, conf, \n",
    "admin, rlm, pangolin, migration, receive, block ,scan, receive, ldapscheme, oadb, snapshot, digit, open, expertise, roletype, infratuz, clientcert, revise\n",
    "adapter, prod, release, exec, directory, sberca, register, ldaptls, publish, copy, pci, space, count, statistics,\n",
    "maven, scheduler, collate, subscribe, ldapport, disk, fullhost, tps, warning, operation, pathman, registry, duration, record, card, \n",
    "nest, region, import, observer, join, localhost, sudo, agent, reader, preinstall, rename, threshold, index,global, dwh,  extend,\n",
    "csv, vector, parser, fqdn, confirmation, claim, distrib, stable, receiver, reference, protocol,probackup,refuse,patronictl,\n",
    "total, module, perl, sessionsdb, stand, include, sap, databaseexception, thread, ssh, timescaledb, stderr, alert, tag,\n",
    "assert, springframework, loader, dataspace, relation, external, get, attempt, console, close, terminate, certificate,\n",
    "creation, nobypassrl, failover, refresh, kernel, form, active, score, zoneinfo, ngam, intger, minor, mark,  initialization,\n",
    "compress, deal, location, js, trace, expect, largeobject, device, cast, position, vault, dkb, vendor, destination, repl, notifications, verifyfull,\n",
    "writer, dbname, dbname, jenkins, semidba, disconnection, unexpected, overwrite, destination, raw, queue, collector,\n",
    "skip, recovery, grafana, sys, authorization, blocker, tar, counter, checkpoint, pgbadger, document, jsonb, noarch, listen,\n",
    "operator, servername, sqlstate, metadata, react, critical, model, running, disable, agreement, response, information,\n",
    "leave, sitcmon, pgadmin, handshake, datasource, risk, execution, upload, parameters, kintsugi, replicator, systemd,\n",
    "naptime, currentschema, without, filename, acquire, constraint, valid, template, push, template, makessl, objmod, logs, edulib, wall, logexception, workspace, char, postgresqlcreatedumpse, russian, logic\n",
    "makeconnection, impexp, sert, within, orchestrator, heap, loops, odbc, jdbc, workercontroller, processor, processor, minvalue, maxvalue,\n",
    "tuningpgbouncer, poll, grpc, readconfig, clientauthentication, pgpassword, haproxi, pgpouncer, receipt, rotate, repack, restore, upper,\n",
    "syslogfacility, syslogtag, questionnaire, permisiion, pgbounser, disconnect, executeinternal, bad, observe, observe, haproxi, mkdir, rotate,addchunk,\n",
    "readableaddchunk, debezium, assume, smoke, authdb, soft, automate, ticket, nodb, portnumber, nodename, nodeport, tsearch, timer, capacity,\n",
    "extract, compressed, sleep, pipeline, badge, hub, execstart, description, arbitor, waldir, json, reindex, truncatetable, relname, regexp,\n",
    "vanila, pgbench, sign, devops, listener, concurrency, walstat, mean, authorize, initialize, loading, huge, identification, kerbero, \n",
    "resource, manage, loglevel, jpg, roll, merge, void, collection, vakuum, packages, permition, commandline, try, dustrib, cannotgetjdbcconnectionexception,\n",
    "timescale, dll, namespace, telnet, sslcert, sslkey, balancer, castcontext,castsource, casttarget,handler, numeric, debug, reuseport,\n",
    "distributor, logi, anonymous, constructor, isolation, passwordcheck,yaml, pgbauncer, initiate, suppress, channel, keycloakhelper,\n",
    "temporary, contain, rsyslogd, volume, parse, lob, extention, realtime, issue, subset, terminal, tde, planning, cancel, actuator, createuser,\n",
    "modification, basebackup, low, isudbuser, isudbuser, tryconnect, pod, whitelist, configuration, middle, poolbase, proxyconnection,\n",
    "encrypt, replink, intlink, dbload, dbinstaller, permissive, vacuumlo, getconnection, successfully, refund, scrum, author, compliance, verifyca, issuer,doauthentication, hadoop, \n",
    "perform, datafactory, truncatealltablesinschema, logfile, legacy, async, greenplum, download, privelege, keycloakdb,\n",
    "dictionary, registrator, unloader, validation, peer, break, openconnectionimpl, pgconnection, unload, install, serialization,\n",
    "abort, hist, avtovacuum, violate, duplicate, spring, manual, incident, switchover, baremetal, keytab, dictionarie,\n",
    "prometheus, dist, testdb, lockout, runblock, kerberos, actualizer, jdbcenvironmentinitiator, increase, reinit, selfportal,\n",
    "large, heartbeats, workers, encode, arbitr, rotation, identity, crash, plpython, materialize, defaults, bind, establish, router,\n",
    "archlogs, lead, bytes, framework, tablename, deployment, hot, entity, license, connector, shutdown, readable, pgpreparedstatement,\n",
    "subsidiarie, postmaster, pcidss, pgstatement, typname, crontab, aud, filesystem, instal, conflicting, right, right, need, expire,provide,\n",
    "normal, mail, bash, replace, openssl, content, scheme, dbc, tracker, prepare, split, metrix, generate, memory, calculation, edit, \n",
    "databasechangeloglock, throwpoolinitializationexception, verbose, coordinator, di, purginator, healthcheck, periodic,\n",
    "success, tcplog, tunnel, modifier, apache, return, dir, access, zone, stdout, application, mount, signal, health, safe, fraud,\n",
    "force, proxy, prohibit, dumpall, chunk, context, init, sharedb, direction, chmod, python, stage, keeper, class\"\"\"\n",
    "\n",
    "allowed_list_test = allowed_eng_word_test.split(',')\n",
    "allowed_list_test = [x.strip() for x in allowed_list_test]\n",
    "allowed_list_test = [x.strip() for x in allowed_list_test]\n",
    "allowed_eng_words_set_test = set(allowed_list_test)"
   ]
  },
  {
   "cell_type": "code",
   "execution_count": 42,
   "id": "bd4240f1",
   "metadata": {},
   "outputs": [],
   "source": [
    "def leave_allowed_eng_words(text):\n",
    "    text2list = [item for item in text.split(' ')]   \n",
    "    eng_words_pattern = '[a-z]{2,}'\n",
    "    rus_words_pattern = '[а-я]{2,}'\n",
    "    temp_list = []\n",
    "    for item in text2list:\n",
    "        if re.search(rus_words_pattern, item) != None:\n",
    "            temp_list.append(item)\n",
    "        else:\n",
    "            if re.search(eng_words_pattern, item) != None and item in allowed_eng_words_set_test:\n",
    "                temp_list.append(item)\n",
    "    with_allowed_eng_words_text = ' '.join(temp_list)\n",
    "    return with_allowed_eng_words_text"
   ]
  },
  {
   "cell_type": "code",
   "execution_count": 43,
   "id": "529786ea",
   "metadata": {},
   "outputs": [
    {
     "data": {
      "text/plain": [
       "Unnamed: 0                   0\n",
       "ЗНО                          0\n",
       "Категория                    0\n",
       "Услуга(объект)               0\n",
       "Тема ЗНО                     0\n",
       "Информация                   0\n",
       "Дата регистрации             0\n",
       "full_request                 0\n",
       "full_request_modified        0\n",
       "full_request_modified_lem    0\n",
       "dtype: int64"
      ]
     },
     "execution_count": 43,
     "metadata": {},
     "output_type": "execute_result"
    }
   ],
   "source": [
    "df_test.isna().sum()"
   ]
  },
  {
   "cell_type": "code",
   "execution_count": 44,
   "id": "4af6dbd3",
   "metadata": {},
   "outputs": [],
   "source": [
    "#df_test.dropna(inplace = True)"
   ]
  },
  {
   "cell_type": "markdown",
   "id": "2e14ea01",
   "metadata": {},
   "source": [
    "### 1.10 Apply \"while list\" for english words"
   ]
  },
  {
   "cell_type": "code",
   "execution_count": 45,
   "id": "1e71229e",
   "metadata": {},
   "outputs": [
    {
     "name": "stdout",
     "output_type": "stream",
     "text": [
      "Current datatime: 2024-05-15 22:24:07.230650\n",
      "Execution time: 2.25 seconds\n"
     ]
    }
   ],
   "source": [
    "# Leave only allowed English words\n",
    "print ('Current datatime: {}'.format(datetime.datetime.now()))\n",
    "start_time = time.time()\n",
    "df_test['full_request_modified_lem_allowed_eng_words'] = df_test['full_request_modified_lem'].apply(leave_allowed_eng_words)\n",
    "end_time = time.time()\n",
    "elapsed_time = end_time - start_time\n",
    "print(f'Execution time: {elapsed_time:.2f} seconds')"
   ]
  },
  {
   "cell_type": "code",
   "execution_count": 46,
   "id": "54449690",
   "metadata": {},
   "outputs": [],
   "source": [
    "#df_lem = df_test[['full_request_modified_lem','full_request_modified_lem_allowed_eng_words']]\n",
    "df_lem = df_test"
   ]
  },
  {
   "cell_type": "code",
   "execution_count": 47,
   "id": "8f008885",
   "metadata": {},
   "outputs": [
    {
     "data": {
      "text/plain": [
       "Unnamed: 0                                     0\n",
       "ЗНО                                            0\n",
       "Категория                                      0\n",
       "Услуга(объект)                                 0\n",
       "Тема ЗНО                                       0\n",
       "Информация                                     0\n",
       "Дата регистрации                               0\n",
       "full_request                                   0\n",
       "full_request_modified                          0\n",
       "full_request_modified_lem                      0\n",
       "full_request_modified_lem_allowed_eng_words    0\n",
       "dtype: int64"
      ]
     },
     "execution_count": 47,
     "metadata": {},
     "output_type": "execute_result"
    }
   ],
   "source": [
    "#\n",
    "df_lem.isna().sum()"
   ]
  },
  {
   "cell_type": "markdown",
   "id": "c527b397",
   "metadata": {},
   "source": [
    "#### !!! Save cleaned and coverted and lemmatized data"
   ]
  },
  {
   "cell_type": "code",
   "execution_count": 48,
   "id": "7952456e",
   "metadata": {},
   "outputs": [],
   "source": [
    "# save data to excel\n",
    "df_lem.to_excel(r'data_cleaned_lemmatized_stopwords_applied_meaningful_eng_words_1005.xlsx')"
   ]
  },
  {
   "cell_type": "code",
   "execution_count": 49,
   "id": "97a28b4f",
   "metadata": {},
   "outputs": [],
   "source": [
    "#data = pd.read_excel('data_cleaned_lemmatized_stopwords_applied_meaningful_eng_words_0805.xlsx', sheet_name='Sheet1')\n",
    "data = df_lem"
   ]
  },
  {
   "cell_type": "code",
   "execution_count": 50,
   "id": "220b2179",
   "metadata": {},
   "outputs": [
    {
     "data": {
      "text/plain": [
       "Unnamed: 0                                     0\n",
       "ЗНО                                            0\n",
       "Категория                                      0\n",
       "Услуга(объект)                                 0\n",
       "Тема ЗНО                                       0\n",
       "Информация                                     0\n",
       "Дата регистрации                               0\n",
       "full_request                                   0\n",
       "full_request_modified                          0\n",
       "full_request_modified_lem                      0\n",
       "full_request_modified_lem_allowed_eng_words    0\n",
       "dtype: int64"
      ]
     },
     "execution_count": 50,
     "metadata": {},
     "output_type": "execute_result"
    }
   ],
   "source": [
    "data.isna().sum()"
   ]
  },
  {
   "cell_type": "markdown",
   "id": "c28411d6",
   "metadata": {},
   "source": [
    "## 2. Models"
   ]
  },
  {
   "cell_type": "code",
   "execution_count": 51,
   "id": "c58b8840",
   "metadata": {},
   "outputs": [],
   "source": [
    "results_test = {} "
   ]
  },
  {
   "cell_type": "markdown",
   "id": "6d44e499",
   "metadata": {},
   "source": [
    "### 2.1 Let us work with meaningfull english words (\"white list\" applied - abbreviation _wla)"
   ]
  },
  {
   "cell_type": "markdown",
   "id": "00543bb2",
   "metadata": {},
   "source": [
    "#### 2.1.1. Gensim. First LDA model with Gensim library, white list of english words applied"
   ]
  },
  {
   "cell_type": "code",
   "execution_count": 52,
   "id": "ee784115",
   "metadata": {},
   "outputs": [],
   "source": [
    "def simple_tokenize(text):\n",
    "    tokenized = [item for item in text.split(' ')]\n",
    "    return tokenized"
   ]
  },
  {
   "cell_type": "code",
   "execution_count": 53,
   "id": "aec88c47",
   "metadata": {},
   "outputs": [
    {
     "name": "stdout",
     "output_type": "stream",
     "text": [
      "len data dict =  2168\n",
      "len of texts 10795\n",
      "len of corpus 10795\n"
     ]
    }
   ],
   "source": [
    "\n",
    "\n",
    "data['full_request_wla_tokenized'] = data['full_request_modified_lem_allowed_eng_words'].apply(simple_tokenize)\n",
    "\n",
    "data_wla_lemmatized = data['full_request_wla_tokenized']\n",
    "\n",
    "# Build the dictionary\n",
    "dict_wla = corpora.Dictionary(data_wla_lemmatized)\n",
    "# Corpus\n",
    "texts_wla = data_wla_lemmatized\n",
    "# Term / document matrix\n",
    "corpus_wla = [dict_wla.doc2bow(text) for text in texts_wla]\n",
    "\n",
    "print(\"len data dict = \",len(dict_wla))\n",
    "print(\"len of texts\", len(texts_wla))\n",
    "print(\"len of corpus\", len(corpus_wla))"
   ]
  },
  {
   "cell_type": "code",
   "execution_count": 54,
   "id": "7532d24b",
   "metadata": {},
   "outputs": [
    {
     "name": "stdout",
     "output_type": "stream",
     "text": [
      "Current datatime: 2024-05-15 12:45:39.667876\n",
      "Execution time: 36.71 seconds\n"
     ]
    }
   ],
   "source": [
    "# Try first LDA model\n",
    "print ('Current datatime: {}'.format(datetime.datetime.now()))\n",
    "start_time = time.time()\n",
    "lda_model = gensim.models.ldamodel.LdaModel(corpus=corpus_wla,\n",
    "                                           id2word=dict_wla,\n",
    "                                           num_topics=20, \n",
    "                                           random_state=100,\n",
    "                                           update_every=1,\n",
    "                                           chunksize=500,\n",
    "                                           passes=10,\n",
    "                                           alpha='auto',\n",
    "                                           per_word_topics=True)\n",
    "\n",
    "end_time = time.time()\n",
    "elapsed_time = end_time - start_time\n",
    "print(f'Execution time: {elapsed_time:.2f} seconds')"
   ]
  },
  {
   "cell_type": "code",
   "execution_count": 55,
   "id": "8c10a578",
   "metadata": {},
   "outputs": [
    {
     "name": "stdout",
     "output_type": "stream",
     "text": [
      "Model Perplexity:  -6.762198309044392\n",
      "Model Coherence Score:  0.5426594615630009\n"
     ]
    }
   ],
   "source": [
    "#  Lets calculate the perplexity of the model\n",
    "print('Model Perplexity: ', lda_model.log_perplexity(corpus_wla))  # the lower the better\n",
    "\n",
    "#  Coherence Score\n",
    "coherence_model_lda = CoherenceModel(model=lda_model, texts=texts_wla, dictionary=dict_wla, coherence='c_v')\n",
    "coherence_lda = coherence_model_lda.get_coherence()\n",
    "print('Model Coherence Score: ', coherence_lda)"
   ]
  },
  {
   "cell_type": "code",
   "execution_count": 56,
   "id": "52f5f7d9",
   "metadata": {},
   "outputs": [],
   "source": [
    "results_test[\"2.1.1\"] = round(coherence_lda,3)"
   ]
  },
  {
   "cell_type": "code",
   "execution_count": 57,
   "id": "d36c2cd0",
   "metadata": {},
   "outputs": [
    {
     "data": {
      "text/plain": [
       "{'2.1.1': 0.543}"
      ]
     },
     "execution_count": 57,
     "metadata": {},
     "output_type": "execute_result"
    }
   ],
   "source": [
    "results_test"
   ]
  },
  {
   "cell_type": "code",
   "execution_count": 201,
   "id": "6f2fc4b6",
   "metadata": {
    "scrolled": false
   },
   "outputs": [],
   "source": [
    "# Let's look at the topics\n",
    "#lda_model.print_topics()"
   ]
  },
  {
   "cell_type": "code",
   "execution_count": 202,
   "id": "2599f9a6",
   "metadata": {},
   "outputs": [],
   "source": [
    "#[x[1] for x in lda_model.print_topics()]"
   ]
  },
  {
   "cell_type": "markdown",
   "id": "461b2c11",
   "metadata": {},
   "source": [
    "#### 2.1.2. Gensim. Second Gensim model with inreased number of passes (white list of english words applied)"
   ]
  },
  {
   "cell_type": "code",
   "execution_count": 60,
   "id": "fd930971",
   "metadata": {},
   "outputs": [
    {
     "name": "stdout",
     "output_type": "stream",
     "text": [
      "Current datatime: 2024-05-15 12:46:33.432064\n",
      "Execution time: 245.42 seconds\n"
     ]
    }
   ],
   "source": [
    "# Second model with 50 passes\n",
    "print ('Current datatime: {}'.format(datetime.datetime.now()))\n",
    "start_time = time.time()\n",
    "lda_model2 = gensim.models.ldamodel.LdaModel(corpus=corpus_wla,\n",
    "                                           id2word=dict_wla,\n",
    "                                           num_topics=15, \n",
    "                                           random_state=100,\n",
    "                                           update_every=1,\n",
    "                                           chunksize=500,\n",
    "                                           passes=70,\n",
    "                                           alpha='auto',\n",
    "                                           per_word_topics=True)\n",
    "\n",
    "end_time = time.time()\n",
    "elapsed_time = end_time - start_time\n",
    "print(f'Execution time: {elapsed_time:.2f} seconds')"
   ]
  },
  {
   "cell_type": "code",
   "execution_count": 61,
   "id": "a0c8c7e6",
   "metadata": {},
   "outputs": [
    {
     "name": "stdout",
     "output_type": "stream",
     "text": [
      "Model Perplexity:  -6.160077636823482\n",
      "Model Coherence Score:  0.5651796479225382\n"
     ]
    }
   ],
   "source": [
    "#  Perplexity\n",
    "print('Model Perplexity: ', lda_model2.log_perplexity(corpus_wla))  # the lower the better\n",
    "\n",
    "#  Coherence Score\n",
    "coherence_model_lda = CoherenceModel(model=lda_model2, texts=texts_wla, dictionary=dict_wla, coherence='c_v')\n",
    "coherence_lda = coherence_model_lda.get_coherence()\n",
    "print('Model Coherence Score: ', coherence_lda)"
   ]
  },
  {
   "cell_type": "code",
   "execution_count": 62,
   "id": "b3b7316c",
   "metadata": {},
   "outputs": [],
   "source": [
    "results_test[\"2.1.2\"] = round(coherence_lda,3)"
   ]
  },
  {
   "cell_type": "code",
   "execution_count": 203,
   "id": "9c74430f",
   "metadata": {},
   "outputs": [],
   "source": [
    "# Lets look at the topics\n",
    "#lda_model2.print_topics()"
   ]
  },
  {
   "cell_type": "markdown",
   "id": "2131e971",
   "metadata": {},
   "source": [
    "#### 2.1.3. GenSim 3rd model, with increased chunk size (white list of english words applied)"
   ]
  },
  {
   "cell_type": "code",
   "execution_count": 64,
   "id": "6eb29809",
   "metadata": {},
   "outputs": [
    {
     "name": "stdout",
     "output_type": "stream",
     "text": [
      "Current datatime: 2024-05-15 12:51:51.566709\n",
      "Execution time: 257.61 seconds\n"
     ]
    }
   ],
   "source": [
    "# Chunksize = 1000\n",
    "print ('Current datatime: {}'.format(datetime.datetime.now()))\n",
    "start_time = time.time()\n",
    "lda_model3 = gensim.models.ldamodel.LdaModel(corpus=corpus_wla,\n",
    "                                           id2word=dict_wla,\n",
    "                                           num_topics=15, \n",
    "                                           random_state=100,\n",
    "                                           update_every=1,\n",
    "                                           chunksize=1000,\n",
    "                                           passes=70,\n",
    "                                           alpha='auto',\n",
    "                                           per_word_topics=True)\n",
    "\n",
    "end_time = time.time()\n",
    "elapsed_time = end_time - start_time\n",
    "print(f'Execution time: {elapsed_time:.2f} seconds')"
   ]
  },
  {
   "cell_type": "code",
   "execution_count": 65,
   "id": "f22ed3f2",
   "metadata": {
    "scrolled": true
   },
   "outputs": [],
   "source": [
    "# topics\n",
    "#lda_model3.print_topics()"
   ]
  },
  {
   "cell_type": "code",
   "execution_count": 66,
   "id": "ca589d86",
   "metadata": {},
   "outputs": [
    {
     "name": "stdout",
     "output_type": "stream",
     "text": [
      "Model Perplexity:  -5.794687106685637\n",
      "Model Coherence Score:  0.5471281210956368\n"
     ]
    }
   ],
   "source": [
    "# Lets calculate the perplexity of the model\n",
    "print('Model Perplexity: ', lda_model3.log_perplexity(corpus_wla))  # the lower the better.\n",
    "\n",
    "# Coherence Score\n",
    "coherence_model_lda = CoherenceModel(model=lda_model3, texts=texts_wla, dictionary=dict_wla, coherence='c_v')\n",
    "coherence_lda = coherence_model_lda.get_coherence()\n",
    "print('Model Coherence Score: ', coherence_lda)"
   ]
  },
  {
   "cell_type": "code",
   "execution_count": 67,
   "id": "99313b0e",
   "metadata": {},
   "outputs": [],
   "source": [
    "results_test[\"2.1.3.1\"] = round(coherence_lda,3)"
   ]
  },
  {
   "cell_type": "code",
   "execution_count": 68,
   "id": "104ca1ba",
   "metadata": {},
   "outputs": [
    {
     "name": "stdout",
     "output_type": "stream",
     "text": [
      "Current datatime: 2024-05-15 12:56:24.089218\n",
      "Execution time: 225.38 seconds\n"
     ]
    }
   ],
   "source": [
    "# Chunksize = 2000\n",
    "start_time = time.time()\n",
    "print ('Current datatime: {}'.format(datetime.datetime.now()))\n",
    "lda_model4 = gensim.models.ldamodel.LdaModel(corpus=corpus_wla,\n",
    "                                           id2word=dict_wla,\n",
    "                                           num_topics=15, \n",
    "                                           random_state=100,\n",
    "                                           update_every=1,\n",
    "                                           chunksize=2000,\n",
    "                                           passes=70,\n",
    "                                           alpha='auto',\n",
    "                                           per_word_topics=True)\n",
    "\n",
    "end_time = time.time()\n",
    "elapsed_time = end_time - start_time\n",
    "print(f'Execution time: {elapsed_time:.2f} seconds')"
   ]
  },
  {
   "cell_type": "code",
   "execution_count": 69,
   "id": "37ee0c2a",
   "metadata": {},
   "outputs": [
    {
     "name": "stdout",
     "output_type": "stream",
     "text": [
      "Model Perplexity:  -5.556549768546466\n",
      "Model Coherence Score:  0.5107721796881618\n"
     ]
    }
   ],
   "source": [
    "# Compute Lets calculate the perplexity of the model\n",
    "print('Model Perplexity: ', lda_model4.log_perplexity(corpus_wla))  # a measure of how good the model is. lower the better.\n",
    "\n",
    "# Compute Coherence Score\n",
    "coherence_model_lda = CoherenceModel(model=lda_model4, texts=texts_wla, dictionary=dict_wla, coherence='c_v')\n",
    "coherence_lda = coherence_model_lda.get_coherence()\n",
    "print('Model Coherence Score: ', coherence_lda)"
   ]
  },
  {
   "cell_type": "code",
   "execution_count": 70,
   "id": "fa9d924b",
   "metadata": {},
   "outputs": [],
   "source": [
    "results_test[\"2.1.3.2\"] = round(coherence_lda,3)"
   ]
  },
  {
   "cell_type": "code",
   "execution_count": 71,
   "id": "7415c353",
   "metadata": {},
   "outputs": [],
   "source": [
    "# Save model to disk.\n",
    "temp_file = datapath(\"lda_wla\")\n",
    "lda_model4.save(temp_file)\n",
    "#my_model = gensim.models.ldamodel.LdaModel.load(temp_file)"
   ]
  },
  {
   "cell_type": "markdown",
   "id": "f1ff8860",
   "metadata": {},
   "source": [
    "#### 2.1.4. Gensim. Find the best model by varying the parameter of topics number (white list of english words applied)"
   ]
  },
  {
   "cell_type": "code",
   "execution_count": 72,
   "id": "a6158a84",
   "metadata": {},
   "outputs": [
    {
     "name": "stdout",
     "output_type": "stream",
     "text": [
      "Current datatime: 2024-05-15 13:00:24.280240\n",
      "Execution time: 967.21 seconds\n"
     ]
    },
    {
     "data": {
      "image/png": "[encoded data removed]",
      "text/plain": [
       "<Figure size 640x480 with 1 Axes>"
      ]
     },
     "metadata": {},
     "output_type": "display_data"
    },
    {
     "name": "stdout",
     "output_type": "stream",
     "text": [
      "Num Topics = 8  has Coherence Value of 0.5037\n",
      "Num Topics = 10  has Coherence Value of 0.5535\n",
      "Num Topics = 12  has Coherence Value of 0.5779\n",
      "Num Topics = 14  has Coherence Value of 0.5558\n",
      "Num Topics = 16  has Coherence Value of 0.5857\n"
     ]
    }
   ],
   "source": [
    "limit=17; start=8; step=2;\n",
    "def calculate_coherence(dictionary, corpus, texts, limit, start, step):\n",
    "    coherences = []\n",
    "    models = []\n",
    "    for num_topics in range(start, limit, step):\n",
    "        model = gensim.models.ldamodel.LdaModel(corpus=corpus,\n",
    "                                           id2word=dictionary,\n",
    "                                           num_topics=num_topics, \n",
    "                                           random_state=100,\n",
    "                                           update_every=1,\n",
    "                                           chunksize=1000,\n",
    "                                           passes=50,\n",
    "                                           alpha='auto',\n",
    "                                           per_word_topics=True)\n",
    "        models.append(model)\n",
    "        coherencemodel = CoherenceModel(model=model, texts=texts, dictionary=dictionary, coherence='c_v')\n",
    "        coherences.append(coherencemodel.get_coherence())\n",
    "\n",
    "    return models, coherences\n",
    "\n",
    "# Time consuming task\n",
    "start_time = time.time()\n",
    "print ('Current datatime: {}'.format(datetime.datetime.now()))\n",
    "models, coherences = calculate_coherence(dictionary=dict_wla, corpus=corpus_wla, texts=texts_wla, start=start, limit=limit, step=step)\n",
    "end_time = time.time()\n",
    "elapsed_time = end_time - start_time\n",
    "print(f'Execution time: {elapsed_time:.2f} seconds')\n",
    "\n",
    "# Show graph\n",
    "#limit=70; start=2; step=6;\n",
    "x = range(start, limit, step)\n",
    "plt.plot(x, coherences)\n",
    "plt.xlabel(\"Num Topics\")\n",
    "plt.ylabel(\"Coherence score\")\n",
    "plt.legend((\"coherence_values\"), loc='best')\n",
    "plt.show()\n",
    "\n",
    "# Print the coherence scores\n",
    "for m, cv in zip(x, coherences):\n",
    "    print(\"Num Topics =\", m, \" has Coherence Value of\", round(cv, 4))"
   ]
  },
  {
   "cell_type": "code",
   "execution_count": 204,
   "id": "fc230181",
   "metadata": {},
   "outputs": [],
   "source": [
    "# Select the model and print the topics\n",
    "#optimal_model = models[2]\n",
    "#model_topics = optimal_model.show_topics(formatted=False)\n",
    "#pprint(optimal_model.print_topics(num_words=10))"
   ]
  },
  {
   "cell_type": "code",
   "execution_count": 74,
   "id": "d261cb3c",
   "metadata": {},
   "outputs": [],
   "source": [
    "results_test[\"2.1.4\"] = round(coherences[2],3)"
   ]
  },
  {
   "cell_type": "markdown",
   "id": "a5545dda",
   "metadata": {},
   "source": [
    "!!! Save the best model"
   ]
  },
  {
   "cell_type": "markdown",
   "id": "768a4117",
   "metadata": {},
   "source": [
    "#### 2.1.5 Find the best model by varying the chunk size (white list of english words applied)"
   ]
  },
  {
   "cell_type": "code",
   "execution_count": 75,
   "id": "144bb57f",
   "metadata": {},
   "outputs": [
    {
     "name": "stdout",
     "output_type": "stream",
     "text": [
      "Current datatime: 2024-05-15 13:16:32.468403\n",
      "Execution time: 1757.39 seconds\n"
     ]
    },
    {
     "data": {
      "image/png": "[encoded data removed]",
      "text/plain": [
       "<Figure size 640x480 with 1 Axes>"
      ]
     },
     "metadata": {},
     "output_type": "display_data"
    },
    {
     "name": "stdout",
     "output_type": "stream",
     "text": [
      "Chunk size = 300  has Coherence Value of 0.4907\n",
      "Chunk size = 500  has Coherence Value of 0.5006\n",
      "Chunk size = 700  has Coherence Value of 0.5174\n",
      "Chunk size = 900  has Coherence Value of 0.5401\n",
      "Chunk size = 1100  has Coherence Value of 0.5679\n",
      "Chunk size = 1300  has Coherence Value of 0.5618\n",
      "Chunk size = 1500  has Coherence Value of 0.5476\n",
      "Chunk size = 1700  has Coherence Value of 0.5035\n",
      "Chunk size = 1900  has Coherence Value of 0.5123\n",
      "Chunk size = 2100  has Coherence Value of 0.5089\n"
     ]
    }
   ],
   "source": [
    "limit=2200; start=300; step=200;\n",
    "\n",
    "def calculate_coherence(dictionary, corpus, texts, limit, start, step):\n",
    "    coherences = []\n",
    "    models = []\n",
    "    for chunksize in range(start, limit, step):\n",
    "        model = gensim.models.ldamodel.LdaModel(corpus=corpus,\n",
    "                                           id2word=dictionary,\n",
    "                                           num_topics=12, \n",
    "                                           random_state=100,\n",
    "                                           update_every=1,\n",
    "                                           chunksize=chunksize,\n",
    "                                           passes=50,\n",
    "                                           alpha='auto',\n",
    "                                           per_word_topics=True)\n",
    "        models.append(model)\n",
    "        coherencemodel = CoherenceModel(model=model, texts=texts, dictionary=dictionary, coherence='c_v')\n",
    "        coherences.append(coherencemodel.get_coherence())\n",
    "\n",
    "    return models, coherences\n",
    "\n",
    "# Time consuming task\n",
    "start_time = time.time()\n",
    "print ('Current datatime: {}'.format(datetime.datetime.now()))\n",
    "models, coherences = calculate_coherence(dictionary=dict_wla, corpus=corpus_wla, texts=texts_wla, start=start, limit=limit, step=step)\n",
    "end_time = time.time()\n",
    "elapsed_time = end_time - start_time\n",
    "print(f'Execution time: {elapsed_time:.2f} seconds')\n",
    "\n",
    "# Show graph\n",
    "#limit=70; start=2; step=6;\n",
    "x = range(start, limit, step)\n",
    "plt.plot(x, coherences)\n",
    "plt.xlabel(\"Chunk size\")\n",
    "plt.ylabel(\"Coherence score\")\n",
    "plt.legend((\"coherence_values\"), loc='best')\n",
    "plt.show()\n",
    "\n",
    "# Print the coherence scores\n",
    "for m, cv in zip(x, coherences):\n",
    "    print(\"Chunk size =\", m, \" has Coherence Value of\", round(cv, 4))"
   ]
  },
  {
   "cell_type": "markdown",
   "id": "0174ed57",
   "metadata": {},
   "source": [
    "#### 2.1.6 Let us try to find the best model (white list of english words applied)"
   ]
  },
  {
   "cell_type": "code",
   "execution_count": 81,
   "id": "522bbcf6",
   "metadata": {},
   "outputs": [
    {
     "name": "stdout",
     "output_type": "stream",
     "text": [
      "Current datatime: 2024-05-15 15:53:23.303812\n",
      "Execution time: 182.82 seconds\n"
     ]
    }
   ],
   "source": [
    "# best wla\n",
    "start_time = time.time()\n",
    "print ('Current datatime: {}'.format(datetime.datetime.now()))\n",
    "lda_model_wla = gensim.models.ldamodel.LdaModel(corpus=corpus_wla,\n",
    "                                           id2word=dict_wla,\n",
    "                                           num_topics=12, \n",
    "                                           random_state=100,\n",
    "                                           update_every=1,\n",
    "                                           chunksize=1300,\n",
    "                                           passes=50,\n",
    "                                           alpha='auto',\n",
    "                                           per_word_topics=True)\n",
    "\n",
    "end_time = time.time()\n",
    "elapsed_time = end_time - start_time\n",
    "print(f'Execution time: {elapsed_time:.2f} seconds')"
   ]
  },
  {
   "cell_type": "code",
   "execution_count": 82,
   "id": "8efd49d5",
   "metadata": {},
   "outputs": [
    {
     "name": "stdout",
     "output_type": "stream",
     "text": [
      "Model Perplexity:  -5.442514248093942\n",
      "Model Coherence Score:  0.5617595783406928\n"
     ]
    }
   ],
   "source": [
    "# Lets calculate the perplexity of the model\n",
    "print('Model Perplexity: ', lda_model_wla.log_perplexity(corpus_wla))  # the lower the better.\n",
    "\n",
    "# Coherence Score\n",
    "coherence_model_lda = CoherenceModel(model=lda_model_wla, texts=texts_wla, dictionary=dict_wla, coherence='c_v')\n",
    "coherence_lda = coherence_model_lda.get_coherence()\n",
    "print('Model Coherence Score: ', coherence_lda)"
   ]
  },
  {
   "cell_type": "code",
   "execution_count": 83,
   "id": "c4d83cdc",
   "metadata": {},
   "outputs": [],
   "source": [
    "results_test[\"2.1.6\"] = round(coherence_lda,3)"
   ]
  },
  {
   "cell_type": "code",
   "execution_count": 84,
   "id": "7aca15d1",
   "metadata": {},
   "outputs": [
    {
     "data": {
      "text/plain": [
       "{'2.1.1': 0.543,\n",
       " '2.1.2': 0.565,\n",
       " '2.1.3.1': 0.547,\n",
       " '2.1.3.2': 0.511,\n",
       " '2.1.4': 0.578,\n",
       " '2.1.6': 0.562}"
      ]
     },
     "execution_count": 84,
     "metadata": {},
     "output_type": "execute_result"
    }
   ],
   "source": [
    "results_test"
   ]
  },
  {
   "cell_type": "code",
   "execution_count": 205,
   "id": "56d6cf20",
   "metadata": {},
   "outputs": [],
   "source": [
    "#lda_model_wla.print_topics()"
   ]
  },
  {
   "cell_type": "markdown",
   "id": "a7880d79",
   "metadata": {},
   "source": [
    "## 2.2 Let us work with all the english words (\"white list is not applied\", _aew)"
   ]
  },
  {
   "cell_type": "code",
   "execution_count": 85,
   "id": "31389bca",
   "metadata": {},
   "outputs": [
    {
     "name": "stdout",
     "output_type": "stream",
     "text": [
      "len data dict =  3909\n",
      "len of texts 10795\n",
      "len of corpus 10795\n"
     ]
    }
   ],
   "source": [
    "def simple_tokenize(text):\n",
    "    tokenized = [item for item in text.split(' ')]\n",
    "    return tokenized\n",
    "\n",
    "data['full_request_tokenized'] = data['full_request_modified_lem'].apply(simple_tokenize)\n",
    "\n",
    "data_lemmatized_aew = data['full_request_tokenized']\n",
    "\n",
    "# build the dictionary\n",
    "dict_aew = corpora.Dictionary(data_lemmatized_aew)\n",
    "# build the Corpus\n",
    "texts_aew = data_lemmatized_aew\n",
    "\n",
    "# corpus_wla = [dict_wla.doc2bow(text) for text in texts_wla]\n",
    "\n",
    "# Term / document matrix\n",
    "corpus_aew = [dict_aew.doc2bow(text) for text in texts_aew]\n",
    "\n",
    "\n",
    "print(\"len data dict = \",len(dict_aew))\n",
    "print(\"len of texts\", len(texts_aew))\n",
    "print(\"len of corpus\", len(corpus_aew))"
   ]
  },
  {
   "cell_type": "markdown",
   "id": "70bbb58b",
   "metadata": {},
   "source": [
    "#### 2.2.1 First LDA model with all english words. (all english words)"
   ]
  },
  {
   "cell_type": "code",
   "execution_count": 86,
   "id": "cd2edf2e",
   "metadata": {},
   "outputs": [
    {
     "name": "stdout",
     "output_type": "stream",
     "text": [
      "Current datatime: 2024-05-15 17:23:25.423461\n",
      "Execution time: 47.40 seconds\n"
     ]
    }
   ],
   "source": [
    "# Try first LDA model\n",
    "print ('Current datatime: {}'.format(datetime.datetime.now()))\n",
    "start_time = time.time()\n",
    "lda_model_aew_1 = gensim.models.ldamodel.LdaModel(corpus=corpus_aew,\n",
    "                                           id2word=dict_aew,\n",
    "                                           num_topics=20, \n",
    "                                           random_state=100,\n",
    "                                           update_every=1,\n",
    "                                           chunksize=500,\n",
    "                                           passes=10,\n",
    "                                           alpha='auto',\n",
    "                                           per_word_topics=True)\n",
    "\n",
    "end_time = time.time()\n",
    "elapsed_time = end_time - start_time\n",
    "print(f'Execution time: {elapsed_time:.2f} seconds')"
   ]
  },
  {
   "cell_type": "code",
   "execution_count": 87,
   "id": "094c866a",
   "metadata": {},
   "outputs": [
    {
     "name": "stdout",
     "output_type": "stream",
     "text": [
      "Model Perplexity:  -7.924653489024674\n",
      "Model Coherence Score:  0.5280115784109382\n"
     ]
    }
   ],
   "source": [
    "#  Lets calculate the perplexity of the model\n",
    "print('Model Perplexity: ', lda_model_aew_1.log_perplexity(corpus_aew))  # the lower the better.\n",
    "\n",
    "#  Coherence Score\n",
    "coherence_model_lda = CoherenceModel(model=lda_model_aew_1, texts=texts_aew, dictionary=dict_aew, coherence='c_v')\n",
    "coherence_lda = coherence_model_lda.get_coherence()\n",
    "print('Model Coherence Score: ', coherence_lda)"
   ]
  },
  {
   "cell_type": "code",
   "execution_count": 88,
   "id": "b5fb2c4f",
   "metadata": {},
   "outputs": [],
   "source": [
    "results_test[\"2.2.1\"] = round(coherence_lda,3)"
   ]
  },
  {
   "cell_type": "code",
   "execution_count": 206,
   "id": "1b5e7468",
   "metadata": {},
   "outputs": [],
   "source": [
    "#lda_model_aew_1.print_topics()"
   ]
  },
  {
   "cell_type": "markdown",
   "id": "ee0d9bd1",
   "metadata": {},
   "source": [
    "#### 2.2.2 Second model with 50 passes (all english words)"
   ]
  },
  {
   "cell_type": "code",
   "execution_count": 90,
   "id": "e693b1c5",
   "metadata": {},
   "outputs": [
    {
     "name": "stdout",
     "output_type": "stream",
     "text": [
      "Current datatime: 2024-05-15 17:24:36.240722\n",
      "Execution time: 202.65 seconds\n"
     ]
    }
   ],
   "source": [
    "# Second model with 50 passes\n",
    "print ('Current datatime: {}'.format(datetime.datetime.now()))\n",
    "start_time = time.time()\n",
    "lda_model_aew2 = gensim.models.ldamodel.LdaModel(corpus=corpus_aew,\n",
    "                                           id2word=dict_aew,\n",
    "                                           num_topics=20, \n",
    "                                           random_state=100,\n",
    "                                           update_every=1,\n",
    "                                           chunksize=500,\n",
    "                                           passes=50,\n",
    "                                           alpha='auto',\n",
    "                                           per_word_topics=True)\n",
    "\n",
    "end_time = time.time()\n",
    "elapsed_time = end_time - start_time\n",
    "print(f'Execution time: {elapsed_time:.2f} seconds')"
   ]
  },
  {
   "cell_type": "code",
   "execution_count": 91,
   "id": "5dbb9547",
   "metadata": {},
   "outputs": [
    {
     "name": "stdout",
     "output_type": "stream",
     "text": [
      "Model Perplexity:  -7.907713454435972\n",
      "Model Coherence Score:  0.5274538207213293\n"
     ]
    }
   ],
   "source": [
    "#  Perplexity\n",
    "print('Model Perplexity: ', lda_model_aew2.log_perplexity(corpus_aew))  # the lower the better\n",
    "\n",
    "#  Coherence Score\n",
    "coherence_model_lda = CoherenceModel(model=lda_model_aew2, texts=texts_aew, dictionary=dict_aew, coherence='c_v')\n",
    "coherence_lda = coherence_model_lda.get_coherence()\n",
    "print('Model Coherence Score: ', coherence_lda)"
   ]
  },
  {
   "cell_type": "code",
   "execution_count": 92,
   "id": "341243b3",
   "metadata": {},
   "outputs": [],
   "source": [
    "results_test[\"2.2.2\"] = round(coherence_lda,3)"
   ]
  },
  {
   "cell_type": "markdown",
   "id": "fb7c847d",
   "metadata": {},
   "source": [
    "#### 2.2.3. 3rd model, with increased chunk size (all english words)"
   ]
  },
  {
   "cell_type": "code",
   "execution_count": 93,
   "id": "d13288ef",
   "metadata": {},
   "outputs": [
    {
     "name": "stdout",
     "output_type": "stream",
     "text": [
      "Current datatime: 2024-05-15 17:28:19.247191\n",
      "Execution time: 217.46 seconds\n"
     ]
    }
   ],
   "source": [
    "# Second model with 50 passes\n",
    "print ('Current datatime: {}'.format(datetime.datetime.now()))\n",
    "start_time = time.time()\n",
    "lda_model_aew3 = gensim.models.ldamodel.LdaModel(corpus=corpus_aew,\n",
    "                                           id2word=dict_aew,\n",
    "                                           num_topics=20, \n",
    "                                           random_state=100,\n",
    "                                           update_every=1,\n",
    "                                           chunksize=1000,\n",
    "                                           passes=50,\n",
    "                                           alpha='auto',\n",
    "                                           per_word_topics=True)\n",
    "\n",
    "end_time = time.time()\n",
    "elapsed_time = end_time - start_time\n",
    "print(f'Execution time: {elapsed_time:.2f} seconds')"
   ]
  },
  {
   "cell_type": "code",
   "execution_count": 94,
   "id": "bdaaa21e",
   "metadata": {},
   "outputs": [
    {
     "name": "stdout",
     "output_type": "stream",
     "text": [
      "Model Perplexity:  -7.07259906559968\n",
      "Model Coherence Score:  0.5090270811404997\n"
     ]
    }
   ],
   "source": [
    "#  Perplexity\n",
    "print('Model Perplexity: ', lda_model_aew3.log_perplexity(corpus_aew))  # the lower the better\n",
    "\n",
    "#  Coherence Score\n",
    "coherence_model_lda = CoherenceModel(model=lda_model_aew3, texts=texts_aew, dictionary=dict_aew, coherence='c_v')\n",
    "coherence_lda = coherence_model_lda.get_coherence()\n",
    "print('Model Coherence Score: ', coherence_lda)"
   ]
  },
  {
   "cell_type": "code",
   "execution_count": 95,
   "id": "9785687b",
   "metadata": {},
   "outputs": [],
   "source": [
    "results_test[\"2.2.3\"] = coherence_lda"
   ]
  },
  {
   "cell_type": "markdown",
   "id": "ed66bf9d",
   "metadata": {},
   "source": [
    "#### 2.2.4. Gensim. Find the best model by varying the parameter of topics number (all english words)"
   ]
  },
  {
   "cell_type": "code",
   "execution_count": 96,
   "id": "bf7d808c",
   "metadata": {},
   "outputs": [
    {
     "name": "stdout",
     "output_type": "stream",
     "text": [
      "Current datatime: 2024-05-15 17:32:16.192337\n",
      "Execution time: 832.69 seconds\n"
     ]
    },
    {
     "data": {
      "image/png": "[encoded data removed]",
      "text/plain": [
       "<Figure size 640x480 with 1 Axes>"
      ]
     },
     "metadata": {},
     "output_type": "display_data"
    },
    {
     "name": "stdout",
     "output_type": "stream",
     "text": [
      "Num Topics = 5  has Coherence Value of 0.5713\n",
      "Num Topics = 10  has Coherence Value of 0.5165\n",
      "Num Topics = 15  has Coherence Value of 0.5139\n",
      "Num Topics = 20  has Coherence Value of 0.5275\n"
     ]
    }
   ],
   "source": [
    "limit=21; start=5; step=5;\n",
    "def calculate_coherence(dictionary, corpus, texts, limit, start, step):\n",
    "    coherences = []\n",
    "    models = []\n",
    "    for num_topics in range(start, limit, step):\n",
    "        model = gensim.models.ldamodel.LdaModel(corpus=corpus,\n",
    "                                           id2word=dictionary,\n",
    "                                           num_topics=num_topics, \n",
    "                                           random_state=100,\n",
    "                                           update_every=1,\n",
    "                                           chunksize=500,\n",
    "                                           passes=50,\n",
    "                                           alpha='auto',\n",
    "                                           per_word_topics=True)\n",
    "        models.append(model)\n",
    "        coherencemodel = CoherenceModel(model=model, texts=texts, dictionary=dictionary, coherence='c_v')\n",
    "        coherences.append(coherencemodel.get_coherence())\n",
    "\n",
    "    return models, coherences\n",
    "\n",
    "# Time consuming task\n",
    "start_time = time.time()\n",
    "print ('Current datatime: {}'.format(datetime.datetime.now()))\n",
    "models, coherences = calculate_coherence(dictionary=dict_aew, corpus=corpus_aew, texts=texts_aew, start=start, limit=limit, step=step)\n",
    "end_time = time.time()\n",
    "elapsed_time = end_time - start_time\n",
    "print(f'Execution time: {elapsed_time:.2f} seconds')\n",
    "\n",
    "# Show graph\n",
    "#limit=70; start=2; step=6;\n",
    "x = range(start, limit, step)\n",
    "plt.plot(x, coherences)\n",
    "plt.xlabel(\"Num Topics\")\n",
    "plt.ylabel(\"Coherence score\")\n",
    "plt.legend((\"coherence_values\"), loc='best')\n",
    "plt.show()\n",
    "\n",
    "# Print the coherence scores\n",
    "for m, cv in zip(x, coherences):\n",
    "    print(\"Num Topics =\", m, \" has Coherence Value of\", round(cv, 4))"
   ]
  },
  {
   "cell_type": "markdown",
   "id": "087a4698",
   "metadata": {},
   "source": [
    "#### 2.2.5 Find the best model by varying the chunk size (all english words)"
   ]
  },
  {
   "cell_type": "code",
   "execution_count": 97,
   "id": "a1502085",
   "metadata": {},
   "outputs": [
    {
     "name": "stdout",
     "output_type": "stream",
     "text": [
      "Current datatime: 2024-05-15 17:46:09.081555\n",
      "Execution time: 1855.59 seconds\n"
     ]
    },
    {
     "data": {
      "image/png": "[encoded data removed]",
      "text/plain": [
       "<Figure size 640x480 with 1 Axes>"
      ]
     },
     "metadata": {},
     "output_type": "display_data"
    },
    {
     "name": "stdout",
     "output_type": "stream",
     "text": [
      "Chunk Size = 200  has Coherence Value of 0.4985\n",
      "Chunk Size = 700  has Coherence Value of 0.5254\n",
      "Chunk Size = 1200  has Coherence Value of 0.5277\n",
      "Chunk Size = 1700  has Coherence Value of 0.5294\n",
      "Chunk Size = 2200  has Coherence Value of 0.544\n",
      "Chunk Size = 2700  has Coherence Value of 0.5321\n",
      "Chunk Size = 3200  has Coherence Value of 0.5608\n",
      "Chunk Size = 3700  has Coherence Value of 0.5319\n"
     ]
    }
   ],
   "source": [
    "limit=4100; start=200; step=500;\n",
    "\n",
    "def calculate_coherence(dictionary, corpus, texts, limit, start, step):\n",
    "    coherences = []\n",
    "    models = []\n",
    "    for chunksize in range(start, limit, step):\n",
    "        model = gensim.models.ldamodel.LdaModel(corpus=corpus,\n",
    "                                           id2word=dictionary,\n",
    "                                           num_topics=15, \n",
    "                                           random_state=100,\n",
    "                                           update_every=1,\n",
    "                                           chunksize=chunksize,\n",
    "                                           passes=50,\n",
    "                                           alpha='auto',\n",
    "                                           per_word_topics=True)\n",
    "        models.append(model)\n",
    "        coherencemodel = CoherenceModel(model=model, texts=texts, dictionary=dictionary, coherence='c_v')\n",
    "        coherences.append(coherencemodel.get_coherence())\n",
    "\n",
    "    return models, coherences\n",
    "\n",
    "# Time consuming task\n",
    "start_time = time.time()\n",
    "print ('Current datatime: {}'.format(datetime.datetime.now()))\n",
    "models, coherences = calculate_coherence(dictionary=dict_aew, corpus=corpus_aew, texts=texts_aew, start=start, limit=limit, step=step)\n",
    "end_time = time.time()\n",
    "elapsed_time = end_time - start_time\n",
    "print(f'Execution time: {elapsed_time:.2f} seconds')\n",
    "\n",
    "# Show graph\n",
    "#limit=70; start=2; step=6;\n",
    "x = range(start, limit, step)\n",
    "plt.plot(x, coherences)\n",
    "plt.xlabel(\"Chunk size\")\n",
    "plt.ylabel(\"Coherence score\")\n",
    "plt.legend((\"coherence_values\"), loc='best')\n",
    "plt.show()\n",
    "\n",
    "# Print the coherence scores\n",
    "for m, cv in zip(x, coherences):\n",
    "    print(\"Chunk Size =\", m, \" has Coherence Value of\", round(cv, 4))"
   ]
  },
  {
   "cell_type": "markdown",
   "id": "3f7e125d",
   "metadata": {},
   "source": [
    "#### 2.2.6 Find the optimal model"
   ]
  },
  {
   "cell_type": "code",
   "execution_count": 106,
   "id": "8f948ad8",
   "metadata": {},
   "outputs": [
    {
     "name": "stdout",
     "output_type": "stream",
     "text": [
      "Current datatime: 2024-05-15 20:37:05.904608\n",
      "Execution time: 210.44 seconds\n"
     ]
    }
   ],
   "source": [
    "# Second model with 50 passes\n",
    "print ('Current datatime: {}'.format(datetime.datetime.now()))\n",
    "start_time = time.time()\n",
    "lda_model_aew_6 = gensim.models.ldamodel.LdaModel(corpus=corpus_aew,\n",
    "                                           id2word=dict_aew,\n",
    "                                           num_topics=15, \n",
    "                                           random_state=100,\n",
    "                                           update_every=1,\n",
    "                                           chunksize=3200,\n",
    "                                           passes=50,\n",
    "                                           alpha='auto',\n",
    "                                           per_word_topics=True)\n",
    "\n",
    "end_time = time.time()\n",
    "elapsed_time = end_time - start_time\n",
    "print(f'Execution time: {elapsed_time:.2f} seconds')"
   ]
  },
  {
   "cell_type": "code",
   "execution_count": 107,
   "id": "22405ffe",
   "metadata": {},
   "outputs": [
    {
     "name": "stdout",
     "output_type": "stream",
     "text": [
      "Model Perplexity:  -6.014837850004772\n",
      "Model Coherence Score:  0.5608422644398324\n"
     ]
    }
   ],
   "source": [
    "#  Perplexity\n",
    "print('Model Perplexity: ', lda_model_aew_6.log_perplexity(corpus_aew))  # the lower the better\n",
    "\n",
    "#  Coherence Score\n",
    "coherence_model_lda = CoherenceModel(model=lda_model_aew_6, texts=texts_aew, dictionary=dict_aew, coherence='c_v')\n",
    "coherence_lda = coherence_model_lda.get_coherence()\n",
    "print('Model Coherence Score: ', coherence_lda)"
   ]
  },
  {
   "cell_type": "code",
   "execution_count": 108,
   "id": "f5925faf",
   "metadata": {},
   "outputs": [],
   "source": [
    "results_test[\"2.2.6\"] = round(coherence_lda,3)"
   ]
  },
  {
   "cell_type": "code",
   "execution_count": 105,
   "id": "d978f786",
   "metadata": {},
   "outputs": [
    {
     "data": {
      "text/plain": [
       "{'2.1.1': 0.543,\n",
       " '2.1.2': 0.565,\n",
       " '2.1.3.1': 0.547,\n",
       " '2.1.3.2': 0.511,\n",
       " '2.1.4': 0.578,\n",
       " '2.1.6': 0.562,\n",
       " '2.2.1': 0.528,\n",
       " '2.2.2': 0.527,\n",
       " '2.2.3': 0.5090270811404997,\n",
       " '2.2.6': 0.542}"
      ]
     },
     "execution_count": 105,
     "metadata": {},
     "output_type": "execute_result"
    }
   ],
   "source": [
    "results_test"
   ]
  },
  {
   "cell_type": "markdown",
   "id": "cc372ef9",
   "metadata": {},
   "source": [
    "Result: we see that leaving all english words leads to slightly worse reults. So we will continue applying the white list of english words."
   ]
  },
  {
   "cell_type": "markdown",
   "id": "10874f61",
   "metadata": {},
   "source": [
    "### 2.3. Optimize the data further and apply model"
   ]
  },
  {
   "cell_type": "markdown",
   "id": "5937a269",
   "metadata": {},
   "source": [
    "####  Let's try to futher optimize the initial data\n",
    "\n",
    "a) take out n=1 symbol words if there are any  \n",
    "\n",
    "b) get rid of the words with occurence = 1,2,3 in the whole corpus\n",
    "\n",
    "c) take out requests which are less than 10 words inside\n",
    "\n",
    "Note: we will add _opt suffix for doing so"
   ]
  },
  {
   "cell_type": "markdown",
   "id": "035a06da",
   "metadata": {},
   "source": [
    "#### 2.3.1. Delete n=1 symbols words"
   ]
  },
  {
   "cell_type": "code",
   "execution_count": 54,
   "id": "6e92dff6",
   "metadata": {},
   "outputs": [],
   "source": [
    "# function to delete n symbols words\n",
    "def delete_n_symbols_word_print(text, n_symbols):\n",
    "    try:\n",
    "        text2list = text.split(' ')\n",
    "    except Exception:\n",
    "        print('Can not split text')   \n",
    "    text_as_list = [word for word in text2list if len(word)>n_symbols]\n",
    "    res = ' '.join(text_as_list)\n",
    "    return res"
   ]
  },
  {
   "cell_type": "code",
   "execution_count": 56,
   "id": "8a213a0b",
   "metadata": {},
   "outputs": [],
   "source": [
    "# Lets delete 1 symbol words\n",
    "#data['request_details_modified_lem_opt'] = data['request_details_modified_lem'].apply(lambda x: delete_n_symbols_word_print(x,1))\n",
    "data['full_request_modified_lem_opt'] = data['full_request_modified_lem_allowed_eng_words'].apply(lambda x: delete_n_symbols_word_print(x,1))"
   ]
  },
  {
   "cell_type": "markdown",
   "id": "3d23228e",
   "metadata": {},
   "source": [
    "#### 2.3.2. Calculate the requests length and take out less than 5 words requests"
   ]
  },
  {
   "cell_type": "code",
   "execution_count": 57,
   "id": "823ac495",
   "metadata": {},
   "outputs": [],
   "source": [
    "data['full_request_lem_opt_len'] = data['full_request_modified_lem_opt'].apply(lambda x: len(x))\n",
    "# Lets get rid of requests less than 5 words\n",
    "data_shortened = data[data['full_request_lem_opt_len']>5].copy()"
   ]
  },
  {
   "cell_type": "markdown",
   "id": "f22fa28c",
   "metadata": {},
   "source": [
    "#### 2.3.3. Delete low frequency words"
   ]
  },
  {
   "cell_type": "code",
   "execution_count": 58,
   "id": "ecbdda0c",
   "metadata": {},
   "outputs": [],
   "source": [
    "# Dictionary and function to calculate the frequency\n",
    "frequency_opt = defaultdict(int)\n",
    "def calculate_word_frequency(text):\n",
    "    text2list = text.split(' ')\n",
    "    for token in text2list:\n",
    "        frequency_opt[token]+=1\n",
    "\n",
    "# Lets calculate the frequency of words using full_request lemmatized column\n",
    "data_shortened['full_request_modified_lem_opt'].apply(calculate_word_frequency)\n",
    "\n",
    "# Lets bulid auxilary dataframe to calculate the frequency 95% range\n",
    "freq_opt_values = frequency_opt.values()\n",
    "freq_opt_keys = frequency_opt.keys()\n",
    "df_freq = pd.DataFrame()\n",
    "df_freq = pd.concat([pd.Series(freq_opt_values), pd.Series(freq_opt_keys)], axis=1)\n",
    "df_freq.columns = ['counts', 'word']\n",
    "\n",
    "# Calculate the percentage (building Paretto rule)\n",
    "summ = df_freq['counts'].sum()\n",
    "df_freq['percent'] = df_freq['counts'].apply(lambda x: round(x/summ*100,4))\n",
    "df_freq = df_freq.sort_values(by='counts', ascending=False)\n",
    "df_freq['cumul_percent'] = 100*(df_freq.percent.cumsum() / df_freq.percent.sum())\n",
    "\n",
    "#df_freq\n",
    "\n",
    "stopwords_opt_95range = df_freq[df_freq['cumul_percent']>95]['word']\n",
    "stopwords_opt_95range_set = set(stopwords_opt_95range)"
   ]
  },
  {
   "cell_type": "code",
   "execution_count": 59,
   "id": "805dfbd5",
   "metadata": {},
   "outputs": [],
   "source": [
    "# first two words add no meaning in the seence of the business problem we are dealing with\n",
    "# base and data in russian are used together as Database\n",
    "stopwords_opt_95range_set.update(set(['база', 'данных']))"
   ]
  },
  {
   "cell_type": "code",
   "execution_count": 60,
   "id": "a9982bc0",
   "metadata": {},
   "outputs": [],
   "source": [
    "# include 95range frequency stop words into overall stopwords set\n",
    "stop_phrases_all_test.update(stopwords_opt_95range_set)"
   ]
  },
  {
   "cell_type": "code",
   "execution_count": 207,
   "id": "d6e30724",
   "metadata": {},
   "outputs": [],
   "source": [
    "#data_shortened.head(1)"
   ]
  },
  {
   "cell_type": "code",
   "execution_count": 62,
   "id": "140c3d17",
   "metadata": {},
   "outputs": [
    {
     "name": "stdout",
     "output_type": "stream",
     "text": [
      "Current datatime: 2024-05-15 22:25:21.002945\n",
      "Execution time: 0.17 seconds\n"
     ]
    }
   ],
   "source": [
    "# finally, lets delete low frequency words from the dataset\n",
    "start_time = time.time()\n",
    "print ('Current datatime: {}'.format(datetime.datetime.now()))\n",
    "data_shortened['full_request_modified_lem_opt']= data_shortened['full_request_modified_lem_opt'].apply(delete_stop_words)\n",
    "end_time = time.time()\n",
    "elapsed_time = end_time - start_time\n",
    "print(f'Execution time: {elapsed_time:.2f} seconds')"
   ]
  },
  {
   "cell_type": "code",
   "execution_count": 63,
   "id": "e594ac2c",
   "metadata": {},
   "outputs": [
    {
     "data": {
      "text/plain": [
       "'def form_stop_words_by_frequency(frequency_dict, lower_limit):\\n    stop_words_by_frequency=set()\\n    for k,v in frequency_dict.items():\\n        if v<=lower_limit:\\n            stop_words_by_frequency.add(k)\\n    return stop_words_by_frequency\\n\\nstop_words_by_frequency_opt = form_stop_words_by_frequency(frequency_opt,1)\\n'"
      ]
     },
     "execution_count": 63,
     "metadata": {},
     "output_type": "execute_result"
    }
   ],
   "source": [
    "'''def form_stop_words_by_frequency(frequency_dict, lower_limit):\n",
    "    stop_words_by_frequency=set()\n",
    "    for k,v in frequency_dict.items():\n",
    "        if v<=lower_limit:\n",
    "            stop_words_by_frequency.add(k)\n",
    "    return stop_words_by_frequency\n",
    "\n",
    "stop_words_by_frequency_opt = form_stop_words_by_frequency(frequency_opt,1)\n",
    "'''"
   ]
  },
  {
   "cell_type": "code",
   "execution_count": 208,
   "id": "5cc86bca",
   "metadata": {},
   "outputs": [],
   "source": [
    "#data_shortened.isna().sum()"
   ]
  },
  {
   "cell_type": "code",
   "execution_count": 65,
   "id": "a2385788",
   "metadata": {},
   "outputs": [],
   "source": [
    "data_shortened['request_tokenized'] = data_shortened['full_request_modified_lem_opt'].apply(simple_tokenize)"
   ]
  },
  {
   "cell_type": "code",
   "execution_count": 66,
   "id": "6fbb36b6",
   "metadata": {},
   "outputs": [],
   "source": [
    "data_lemmatized_opt = data_shortened['request_tokenized']"
   ]
  },
  {
   "cell_type": "code",
   "execution_count": 67,
   "id": "a1b8c4d3",
   "metadata": {},
   "outputs": [],
   "source": [
    "# Build the dictionary\n",
    "data_dict_opt = corpora.Dictionary(data_lemmatized_opt)\n",
    "# Corpus\n",
    "texts_opt = data_lemmatized_opt\n",
    "# Term / document matrix\n",
    "corpus_opt = [data_dict_opt.doc2bow(text) for text in texts_opt]\n",
    "# View\n",
    "#print(corpus[:1])"
   ]
  },
  {
   "cell_type": "code",
   "execution_count": 69,
   "id": "bb3087ce",
   "metadata": {},
   "outputs": [
    {
     "name": "stdout",
     "output_type": "stream",
     "text": [
      "Current datatime: 2024-05-15 22:27:52.986780\n",
      "Execution time: 215.58 seconds\n"
     ]
    }
   ],
   "source": [
    "# Build the model using previous parameters\n",
    "start_time = time.time()\n",
    "print ('Current datatime: {}'.format(datetime.datetime.now()))\n",
    "lda_model_opt = gensim.models.ldamodel.LdaModel(corpus=corpus_opt,\n",
    "                                           id2word=data_dict_opt,\n",
    "                                           num_topics=12, \n",
    "                                           random_state=100,\n",
    "                                           update_every=1,\n",
    "                                           chunksize=1000,\n",
    "                                           passes=50,\n",
    "                                           alpha='auto',\n",
    "                                           per_word_topics=True)\n",
    "\n",
    "end_time = time.time()\n",
    "elapsed_time = end_time - start_time\n",
    "print(f'Execution time: {elapsed_time:.2f} seconds')"
   ]
  },
  {
   "cell_type": "code",
   "execution_count": 70,
   "id": "61281a08",
   "metadata": {},
   "outputs": [
    {
     "name": "stdout",
     "output_type": "stream",
     "text": [
      "Model Perplexity:  -5.086011891120887\n",
      "Model Coherence Score:  0.5447176550427271\n"
     ]
    }
   ],
   "source": [
    "# вычислаяем сложность и согласованность\n",
    "# Compute Lets calculate the perplexity of the model\n",
    "print('Model Perplexity: ', lda_model_opt.log_perplexity(corpus_opt))  # a measure of how good the model is. lower the better.\n",
    "\n",
    "# Compute Coherence Score\n",
    "coherence_model_lda = CoherenceModel(model=lda_model_opt, texts=data_lemmatized_opt, dictionary=data_dict_opt, coherence='c_v')\n",
    "coherence_lda = coherence_model_lda.get_coherence()\n",
    "print('Model Coherence Score: ', coherence_lda)"
   ]
  },
  {
   "cell_type": "code",
   "execution_count": 209,
   "id": "339d6631",
   "metadata": {},
   "outputs": [],
   "source": [
    "# посмотрим топики\n",
    "#lda_model_opt.print_topics()"
   ]
  },
  {
   "cell_type": "code",
   "execution_count": 74,
   "id": "bc7ec100",
   "metadata": {},
   "outputs": [
    {
     "name": "stdout",
     "output_type": "stream",
     "text": [
      "Current datatime: 2024-05-15 22:35:14.923526\n",
      "Execution time: 1383.53 seconds\n"
     ]
    },
    {
     "data": {
      "image/png": "[encoded data removed]",
      "text/plain": [
       "<Figure size 640x480 with 1 Axes>"
      ]
     },
     "metadata": {},
     "output_type": "display_data"
    },
    {
     "name": "stdout",
     "output_type": "stream",
     "text": [
      "Chunk Size = 200  has Coherence Value of 0.4914\n",
      "Chunk Size = 700  has Coherence Value of 0.5607\n",
      "Chunk Size = 1200  has Coherence Value of 0.557\n",
      "Chunk Size = 1700  has Coherence Value of 0.5607\n",
      "Chunk Size = 2200  has Coherence Value of 0.574\n",
      "Chunk Size = 2700  has Coherence Value of 0.5294\n"
     ]
    }
   ],
   "source": [
    "limit=3100; start=200; step=500;\n",
    "\n",
    "def calculate_coherence(dictionary, corpus, texts, limit, start, step):\n",
    "    coherences = []\n",
    "    models = []\n",
    "    for chunksize in range(start, limit, step):\n",
    "        model = gensim.models.ldamodel.LdaModel(corpus=corpus,\n",
    "                                           id2word=dictionary,\n",
    "                                           num_topics=12, \n",
    "                                           random_state=100,\n",
    "                                           update_every=1,\n",
    "                                           chunksize=chunksize,\n",
    "                                           passes=50,\n",
    "                                           alpha='auto',\n",
    "                                           per_word_topics=True)\n",
    "        models.append(model)\n",
    "        coherencemodel = CoherenceModel(model=model, texts=texts, dictionary=dictionary, coherence='c_v')\n",
    "        coherences.append(coherencemodel.get_coherence())\n",
    "\n",
    "    return models, coherences\n",
    "\n",
    "# Time consuming task\n",
    "start_time = time.time()\n",
    "print ('Current datatime: {}'.format(datetime.datetime.now()))\n",
    "models, coherences = calculate_coherence(dictionary=data_dict_opt, corpus=corpus_opt, texts=texts_opt, start=start, limit=limit, step=step)\n",
    "end_time = time.time()\n",
    "elapsed_time = end_time - start_time\n",
    "print(f'Execution time: {elapsed_time:.2f} seconds')\n",
    "\n",
    "# Show graph\n",
    "#limit=70; start=2; step=6;\n",
    "x = range(start, limit, step)\n",
    "plt.plot(x, coherences)\n",
    "plt.xlabel(\"Chunk size\")\n",
    "plt.ylabel(\"Coherence score\")\n",
    "plt.legend((\"coherence_values\"), loc='best')\n",
    "plt.show()\n",
    "\n",
    "# Print the coherence scores\n",
    "for m, cv in zip(x, coherences):\n",
    "    print(\"Chunk Size =\", m, \" has Coherence Value of\", round(cv, 4))"
   ]
  },
  {
   "cell_type": "code",
   "execution_count": 75,
   "id": "72168683",
   "metadata": {},
   "outputs": [
    {
     "name": "stdout",
     "output_type": "stream",
     "text": [
      "Current datatime: 2024-05-15 23:20:09.720273\n",
      "Execution time: 878.06 seconds\n"
     ]
    },
    {
     "data": {
      "image/png": "[encoded data removed]",
      "text/plain": [
       "<Figure size 640x480 with 1 Axes>"
      ]
     },
     "metadata": {},
     "output_type": "display_data"
    },
    {
     "name": "stdout",
     "output_type": "stream",
     "text": [
      "Num Topics = 10  has Coherence Value of 0.4949\n",
      "Num Topics = 12  has Coherence Value of 0.5528\n",
      "Num Topics = 14  has Coherence Value of 0.5202\n",
      "Num Topics = 16  has Coherence Value of 0.5118\n"
     ]
    }
   ],
   "source": [
    "limit=17; start=10; step=2;\n",
    "def calculate_coherence(dictionary, corpus, texts, limit, start, step):\n",
    "    coherences = []\n",
    "    models = []\n",
    "    for num_topics in range(start, limit, step):\n",
    "        model = gensim.models.ldamodel.LdaModel(corpus=corpus,\n",
    "                                           id2word=dictionary,\n",
    "                                           num_topics=num_topics, \n",
    "                                           random_state=100,\n",
    "                                           update_every=1,\n",
    "                                           chunksize=500,\n",
    "                                           passes=50,\n",
    "                                           alpha='auto',\n",
    "                                           per_word_topics=True)\n",
    "        models.append(model)\n",
    "        coherencemodel = CoherenceModel(model=model, texts=texts, dictionary=dictionary, coherence='c_v')\n",
    "        coherences.append(coherencemodel.get_coherence())\n",
    "\n",
    "    return models, coherences\n",
    "\n",
    "# Time consuming task\n",
    "start_time = time.time()\n",
    "print ('Current datatime: {}'.format(datetime.datetime.now()))\n",
    "models, coherences = calculate_coherence(dictionary=data_dict_opt, corpus=corpus_opt, texts=texts_opt, start=start, limit=limit, step=step)\n",
    "end_time = time.time()\n",
    "elapsed_time = end_time - start_time\n",
    "print(f'Execution time: {elapsed_time:.2f} seconds')\n",
    "\n",
    "# Show graph\n",
    "#limit=70; start=2; step=6;\n",
    "x = range(start, limit, step)\n",
    "plt.plot(x, coherences)\n",
    "plt.xlabel(\"Num Topics\")\n",
    "plt.ylabel(\"Coherence score\")\n",
    "plt.legend((\"coherence_values\"), loc='best')\n",
    "plt.show()\n",
    "\n",
    "# Print the coherence scores\n",
    "for m, cv in zip(x, coherences):\n",
    "    print(\"Num Topics =\", m, \" has Coherence Value of\", round(cv, 4))"
   ]
  },
  {
   "cell_type": "code",
   "execution_count": 76,
   "id": "916a3e74",
   "metadata": {},
   "outputs": [
    {
     "name": "stdout",
     "output_type": "stream",
     "text": [
      "Current datatime: 2024-05-15 23:38:09.176625\n",
      "Execution time: 237.93 seconds\n"
     ]
    }
   ],
   "source": [
    "# Build the model using previous parameters\n",
    "start_time = time.time()\n",
    "print ('Current datatime: {}'.format(datetime.datetime.now()))\n",
    "lda_model_opt_best = gensim.models.ldamodel.LdaModel(corpus=corpus_opt,\n",
    "                                           id2word=data_dict_opt,\n",
    "                                           num_topics=12, \n",
    "                                           random_state=100,\n",
    "                                           update_every=1,\n",
    "                                           chunksize=2200,\n",
    "                                           passes=50,\n",
    "                                           alpha='auto',\n",
    "                                           per_word_topics=True)\n",
    "\n",
    "end_time = time.time()\n",
    "elapsed_time = end_time - start_time\n",
    "print(f'Execution time: {elapsed_time:.2f} seconds')"
   ]
  },
  {
   "cell_type": "code",
   "execution_count": 77,
   "id": "912046be",
   "metadata": {},
   "outputs": [
    {
     "name": "stdout",
     "output_type": "stream",
     "text": [
      "Model Perplexity:  -5.026703404632835\n",
      "Model Coherence Score:  0.5740312830954357\n"
     ]
    }
   ],
   "source": [
    "# вычислаяем сложность и согласованность\n",
    "# Compute Lets calculate the perplexity of the model\n",
    "print('Model Perplexity: ', lda_model_opt_best.log_perplexity(corpus_opt))  # a measure of how good the model is. lower the better.\n",
    "\n",
    "# Compute Coherence Score\n",
    "coherence_model_lda = CoherenceModel(model=lda_model_opt_best, texts=data_lemmatized_opt, dictionary=data_dict_opt, coherence='c_v')\n",
    "coherence_lda = coherence_model_lda.get_coherence()\n",
    "print('Model Coherence Score: ', coherence_lda)"
   ]
  },
  {
   "cell_type": "markdown",
   "id": "613ea63f",
   "metadata": {},
   "source": [
    "## 2.4. Lets do requests analysis"
   ]
  },
  {
   "cell_type": "markdown",
   "id": "1580747f",
   "metadata": {},
   "source": [
    "### We see that model with the white list applied (2.1.6) has the best coherence score "
   ]
  },
  {
   "cell_type": "markdown",
   "id": "8a89c9a2",
   "metadata": {},
   "source": [
    "#### 2.4.1 For each request let us find key topic, its probability and keywords"
   ]
  },
  {
   "cell_type": "code",
   "execution_count": 130,
   "id": "2dcd9ac1",
   "metadata": {},
   "outputs": [
    {
     "data": {
      "text/plain": [
       "\"\\n# Lets calculate the perplexity of the model\\nprint('Model Perplexity: ', lda_model_wla.log_perplexity(corpus_wla))  # the lower the better.\\n\\n# Coherence Score\\ncoherence_model_lda = CoherenceModel(model=lda_model_wla, texts=texts_wla, dictionary=dict_wla, coherence='c_v')\\ncoherence_lda = coherence_model_lda.get_coherence()\\nprint('Model Coherence Score: ', coherence_lda)\\n\""
      ]
     },
     "execution_count": 130,
     "metadata": {},
     "output_type": "execute_result"
    }
   ],
   "source": [
    "\"\"\"\n",
    "# Lets calculate the perplexity of the model\n",
    "print('Model Perplexity: ', lda_model_wla.log_perplexity(corpus_wla))  # the lower the better.\n",
    "\n",
    "# Coherence Score\n",
    "coherence_model_lda = CoherenceModel(model=lda_model_wla, texts=texts_wla, dictionary=dict_wla, coherence='c_v')\n",
    "coherence_lda = coherence_model_lda.get_coherence()\n",
    "print('Model Coherence Score: ', coherence_lda)\n",
    "\"\"\"\n",
    "#We see that model with thee white list applid has the best cogherence score "
   ]
  },
  {
   "cell_type": "code",
   "execution_count": 78,
   "id": "8b98e678",
   "metadata": {},
   "outputs": [
    {
     "ename": "NameError",
     "evalue": "name 'lda_model_wla' is not defined",
     "output_type": "error",
     "traceback": [
      "\u001b[1;31m---------------------------------------------------------------------------\u001b[0m",
      "\u001b[1;31mNameError\u001b[0m                                 Traceback (most recent call last)",
      "Cell \u001b[1;32mIn[78], line 1\u001b[0m\n\u001b[1;32m----> 1\u001b[0m best_test_model \u001b[38;5;241m=\u001b[39m lda_model_wla\n\u001b[0;32m      2\u001b[0m best_test_model_texts\u001b[38;5;241m=\u001b[39mtexts_wla\n\u001b[0;32m      3\u001b[0m best_test_model_dict \u001b[38;5;241m=\u001b[39m dict_wla\n",
      "\u001b[1;31mNameError\u001b[0m: name 'lda_model_wla' is not defined"
     ]
    }
   ],
   "source": [
    "best_test_model = lda_model_wla\n",
    "best_test_model_texts=texts_wla\n",
    "best_test_model_dict = dict_wla\n",
    "best_test_model_corpus = corpus_wla"
   ]
  },
  {
   "cell_type": "code",
   "execution_count": 132,
   "id": "bc75d856",
   "metadata": {},
   "outputs": [],
   "source": [
    "import pandas as pd"
   ]
  },
  {
   "cell_type": "code",
   "execution_count": 133,
   "id": "002c70f3",
   "metadata": {},
   "outputs": [],
   "source": [
    "#print(len(corpus))\n",
    "#print(len(data_lemmatized))"
   ]
  },
  {
   "cell_type": "code",
   "execution_count": 135,
   "id": "7ef3af6e",
   "metadata": {},
   "outputs": [
    {
     "data": {
      "text/plain": [
       "'\\nbest_test_model = lda_model_wla\\nbest_test_model_texts=texts_wla\\nbest_test_model_dict = dict_wla\\nbest_test_model_corpus = corpus_wla\\n'"
      ]
     },
     "execution_count": 135,
     "metadata": {},
     "output_type": "execute_result"
    }
   ],
   "source": [
    "\"\"\"\n",
    "best_test_model = lda_model_wla\n",
    "best_test_model_texts=texts_wla\n",
    "best_test_model_dict = dict_wla\n",
    "best_test_model_corpus = corpus_wla\n",
    "\"\"\""
   ]
  },
  {
   "cell_type": "code",
   "execution_count": 134,
   "id": "ddce0be0",
   "metadata": {},
   "outputs": [],
   "source": [
    "# Build topic keywords\n",
    "def retrieve_topic_keywords_from_request(ldamodel, corpus, texts, num_topics, num_words):\n",
    "    # Init output\n",
    "    sent_topics_df = pd.DataFrame()\n",
    "    temp_list = []\n",
    "    \n",
    "    # для каждого предложения - наиболее вероятные тема id, и ее вероятность\n",
    "    topic_probability = ldamodel.get_document_topics(corpus, minimum_probability=None, minimum_phi_value=None, per_word_topics=False)\n",
    "\n",
    "    # вывод наиболее значимых тем и слов к ним\n",
    "    \n",
    "    # Get main topic in each document\n",
    "    for i in range(len(corpus)):  \n",
    "        #row = sorted(topic_probability[i], key=lambda x: (x[1]), reverse=True)\n",
    "        highest_topic_prob = sorted(topic_probability[i], key=lambda x: (x[1]), reverse=True)[0]\n",
    "        topic_id = highest_topic_prob[0]\n",
    "        probability = highest_topic_prob[1]\n",
    "        \n",
    "        words_with_probabilities = ldamodel.show_topic(topic_id)\n",
    "        topic_keywords = \", \".join([word for word, prop in words_with_probabilities])\n",
    "        temp_series = pd.DataFrame([[int(topic_id), round(probability,2), topic_keywords]])\n",
    "        sent_topics_df = pd.concat([sent_topics_df, temp_series])\n",
    "        #sent_topics_df = sent_topics_df.concat(pd.Series([int(topic_id), round(probability,2), topic_keywords]), ignore_index=True)\n",
    "\n",
    "    sent_topics_df.columns = ['key_topic', 'topic_probability', 'top_keywords']\n",
    "\n",
    "    # Add request as a column\n",
    "    #requests = pd.DataFrame(texts)\n",
    "    #result = pd.concat([sent_topics_df, requests], axis=1)\n",
    "    \n",
    "    return sent_topics_df"
   ]
  },
  {
   "cell_type": "code",
   "execution_count": null,
   "id": "0082d1c8",
   "metadata": {},
   "outputs": [],
   "source": []
  },
  {
   "cell_type": "code",
   "execution_count": 136,
   "id": "67f2b22f",
   "metadata": {},
   "outputs": [],
   "source": [
    "# Let us build the DataFrame with Topic overall probability, top keywords for each request\n",
    "df_requests_topic_keywords_test = retrieve_topic_keywords_from_request(ldamodel=best_test_model, corpus=corpus_wla, \n",
    "                                                  texts=best_test_model_texts, num_topics = 15, num_words=10)\n",
    "df_requests_topic_keywords_test.reset_index(drop=True, inplace = True)\n",
    "req_test = pd.DataFrame(best_test_model_texts)\n",
    "#req_test = df_4vasya\n",
    "req_test.reset_index(drop=True, inplace = True)\n",
    "analysis_test = pd.concat([df_requests_topic_keywords_test, req_test], axis=1)"
   ]
  },
  {
   "cell_type": "code",
   "execution_count": 137,
   "id": "29aeb6fc",
   "metadata": {},
   "outputs": [
    {
     "data": {
      "text/plain": [
       "key_topic                     0\n",
       "topic_probability             0\n",
       "top_keywords                  0\n",
       "full_request_wla_tokenized    0\n",
       "dtype: int64"
      ]
     },
     "execution_count": 137,
     "metadata": {},
     "output_type": "execute_result"
    }
   ],
   "source": [
    "analysis_test.isna().sum()"
   ]
  },
  {
   "cell_type": "code",
   "execution_count": 138,
   "id": "8524c4da",
   "metadata": {},
   "outputs": [],
   "source": [
    "analysis_test.dropna(inplace = True)"
   ]
  },
  {
   "cell_type": "code",
   "execution_count": 139,
   "id": "324bd8a7",
   "metadata": {},
   "outputs": [],
   "source": [
    "#analysis_test.to_csv(\"4vasya_requests_with_topics_not_lemm.csv\")"
   ]
  },
  {
   "cell_type": "markdown",
   "id": "d3e0d512",
   "metadata": {},
   "source": [
    "#### 2.4.2 Overall statistics for key topics"
   ]
  },
  {
   "cell_type": "code",
   "execution_count": 210,
   "id": "282f87ca",
   "metadata": {},
   "outputs": [
    {
     "data": {
      "text/plain": [
       "'\\n# # of docs for each topic\\ntopic_counts_test = analysis_test[\\'key_topic\\'].value_counts()\\n#topic_counts\\n\\n# % of docs for each topic\\ntopic_contribution_test = round(topic_counts_test/topic_counts_test.sum(), 4)\\n#topic_contribution\\n\\ndef build_topics(ldamodel):\\n    # Init output\\n    temp_df = pd.DataFrame()\\n    \\n    for topic_id in list(topic_counts_test.index):\\n        counts = topic_counts_test[topic_id]\\n        percent = topic_contribution_test[topic_id]\\n        words_with_probabilities = ldamodel.show_topic(topic_id)\\n        topic_keywords = \", \".join([word for word, prop in words_with_probabilities])\\n        row_df = pd.DataFrame([[int(topic_id), counts, percent, topic_keywords]])\\n        \\n        temp_df = pd.concat([temp_df, row_df], ignore_index=True)\\n\\n    temp_df.columns = [\\'topic_id\\', \\'counts\\', \\'percent\\', \\'keywords\\']\\n    return temp_df      \\n\\ndf_topics_counts_percent_test = build_topics(best_test_model)\\n'"
      ]
     },
     "execution_count": 210,
     "metadata": {},
     "output_type": "execute_result"
    }
   ],
   "source": [
    "\n",
    "# # of docs for each topic\n",
    "topic_counts_test = analysis_test['key_topic'].value_counts()\n",
    "#topic_counts\n",
    "\n",
    "# % of docs for each topic\n",
    "topic_contribution_test = round(topic_counts_test/topic_counts_test.sum(), 4)\n",
    "#topic_contribution\n",
    "\n",
    "def build_topics(ldamodel):\n",
    "    # Init output\n",
    "    temp_df = pd.DataFrame()\n",
    "    \n",
    "    for topic_id in list(topic_counts_test.index):\n",
    "        counts = topic_counts_test[topic_id]\n",
    "        percent = topic_contribution_test[topic_id]\n",
    "        words_with_probabilities = ldamodel.show_topic(topic_id)\n",
    "        topic_keywords = \", \".join([word for word, prop in words_with_probabilities])\n",
    "        row_df = pd.DataFrame([[int(topic_id), counts, percent, topic_keywords]])\n",
    "        \n",
    "        temp_df = pd.concat([temp_df, row_df], ignore_index=True)\n",
    "\n",
    "    temp_df.columns = ['topic_id', 'counts', 'percent', 'keywords']\n",
    "    return temp_df      \n",
    "\n",
    "df_topics_counts_percent_test = build_topics(best_test_model)\n"
   ]
  },
  {
   "cell_type": "code",
   "execution_count": 211,
   "id": "bc035496",
   "metadata": {},
   "outputs": [
    {
     "data": {
      "text/plain": [
       "'\\nfor i in range(df_topics_counts_percent_test.shape[0]):\\n    percent = df_topics_counts_percent_test[\\'percent\\'][i]\\n    counts = df_topics_counts_percent_test[\\'counts\\'][i]\\n    keywords = df_topics_counts_percent_test[\\'keywords\\'][i]\\n    print(i, \" :  % = \", percent, \" counts = \", counts, \" keywords = \", keywords )\\n    print(\"---\")\\n'"
      ]
     },
     "execution_count": 211,
     "metadata": {},
     "output_type": "execute_result"
    }
   ],
   "source": [
    "\"\"\"\n",
    "for i in range(df_topics_counts_percent_test.shape[0]):\n",
    "    percent = df_topics_counts_percent_test['percent'][i]\n",
    "    counts = df_topics_counts_percent_test['counts'][i]\n",
    "    keywords = df_topics_counts_percent_test['keywords'][i]\n",
    "    print(i, \" :  % = \", percent, \" counts = \", counts, \" keywords = \", keywords )\n",
    "    print(\"---\")\n",
    "\"\"\""
   ]
  },
  {
   "cell_type": "markdown",
   "id": "c82d7eac",
   "metadata": {},
   "source": [
    "## 2.5. Models with bigrams and trigrams"
   ]
  },
  {
   "cell_type": "markdown",
   "id": "0b147979",
   "metadata": {},
   "source": [
    "#### Prepare/convert the data"
   ]
  },
  {
   "cell_type": "code",
   "execution_count": 80,
   "id": "8e536c18",
   "metadata": {},
   "outputs": [],
   "source": [
    "data_test = pd.read_excel('data_cleaned_lemmatized_stopwords_applied_meaningful_eng_words_1005.xlsx', sheet_name='Sheet1')"
   ]
  },
  {
   "cell_type": "code",
   "execution_count": 81,
   "id": "87c0bc1c",
   "metadata": {},
   "outputs": [
    {
     "data": {
      "text/plain": [
       "(10795, 12)"
      ]
     },
     "execution_count": 81,
     "metadata": {},
     "output_type": "execute_result"
    }
   ],
   "source": [
    "data_test.shape"
   ]
  },
  {
   "cell_type": "code",
   "execution_count": 83,
   "id": "f84fa6c3",
   "metadata": {},
   "outputs": [],
   "source": [
    "def simple_tokenize(text):\n",
    "    tokenized = [item for item in text.split(' ')]\n",
    "    return tokenized"
   ]
  },
  {
   "cell_type": "code",
   "execution_count": 212,
   "id": "53096039",
   "metadata": {},
   "outputs": [],
   "source": [
    "#data_test['full_request_modified_lem_allowed_eng_words'][0]"
   ]
  },
  {
   "cell_type": "code",
   "execution_count": 213,
   "id": "8f7fed6e",
   "metadata": {},
   "outputs": [],
   "source": [
    "#data_test.isna().sum()"
   ]
  },
  {
   "cell_type": "code",
   "execution_count": 86,
   "id": "2772aacd",
   "metadata": {},
   "outputs": [],
   "source": [
    "data_test.dropna(inplace=True)"
   ]
  },
  {
   "cell_type": "markdown",
   "id": "f8693019",
   "metadata": {},
   "source": [
    "We will usee \"full_request_modified_lem_allowed_eng_words\" column, because it showed better perplexity and coherence"
   ]
  },
  {
   "cell_type": "code",
   "execution_count": 87,
   "id": "8c175381",
   "metadata": {},
   "outputs": [],
   "source": [
    "data_test['full_request_tokenized'] = data_test['full_request_modified_lem_allowed_eng_words'].apply(simple_tokenize)"
   ]
  },
  {
   "cell_type": "code",
   "execution_count": 88,
   "id": "6ffa16f4",
   "metadata": {},
   "outputs": [],
   "source": [
    "data_words_test = data_test['full_request_tokenized']"
   ]
  },
  {
   "cell_type": "code",
   "execution_count": 89,
   "id": "c342669e",
   "metadata": {},
   "outputs": [],
   "source": [
    "# Build the bigram and trigram models\n",
    "bigram = gensim.models.Phrases(data_words_test, min_count=5, threshold=100) # higher threshold fewer phrases.\n",
    "trigram = gensim.models.Phrases(bigram[data_words_test], threshold=100)  \n",
    "\n",
    "# Faster way to get a sentence clubbed as a trigram/bigram\n",
    "bigram_mod = gensim.models.phrases.Phraser(bigram)\n",
    "trigram_mod = gensim.models.phrases.Phraser(trigram)"
   ]
  },
  {
   "cell_type": "code",
   "execution_count": 90,
   "id": "7b4af5c6",
   "metadata": {},
   "outputs": [],
   "source": [
    "def make_bigrams(texts):\n",
    "    return [bigram_mod[doc] for doc in texts]\n",
    "\n",
    "def make_trigrams(texts):\n",
    "    return [trigram_mod[bigram_mod[doc]] for doc in texts]"
   ]
  },
  {
   "cell_type": "code",
   "execution_count": 91,
   "id": "ea1150c3",
   "metadata": {},
   "outputs": [],
   "source": [
    "data_words_bigrams_test = make_bigrams(data_words_test)"
   ]
  },
  {
   "cell_type": "code",
   "execution_count": 92,
   "id": "00f36547",
   "metadata": {},
   "outputs": [],
   "source": [
    "data_words_trigrams_test = make_trigrams(data_words_test)"
   ]
  },
  {
   "cell_type": "markdown",
   "id": "f239a6ec",
   "metadata": {},
   "source": [
    "###  2.5.1 Models with bigrams"
   ]
  },
  {
   "cell_type": "markdown",
   "id": "daa20e13",
   "metadata": {},
   "source": [
    "####  Create dictionary, corpus, tdf"
   ]
  },
  {
   "cell_type": "code",
   "execution_count": 93,
   "id": "a00f27cc",
   "metadata": {},
   "outputs": [],
   "source": [
    "# Create Dictionary\n",
    "id2word_bi_test = corpora.Dictionary(data_words_bigrams_test)\n",
    "# Create Corpus\n",
    "texts_bi_test = data_words_bigrams_test\n",
    "# Term Document Frequency\n",
    "corpus_bi_test = [id2word_bi_test.doc2bow(text) for text in texts_bi_test]"
   ]
  },
  {
   "cell_type": "code",
   "execution_count": 94,
   "id": "70c27d01",
   "metadata": {},
   "outputs": [
    {
     "data": {
      "text/plain": [
       "'метрика'"
      ]
     },
     "execution_count": 94,
     "metadata": {},
     "output_type": "execute_result"
    }
   ],
   "source": [
    "id2word_bi_test[10]"
   ]
  },
  {
   "cell_type": "markdown",
   "id": "5e83c00e",
   "metadata": {},
   "source": [
    "#### 2.5.1.1. First model with bigrams"
   ]
  },
  {
   "cell_type": "code",
   "execution_count": 103,
   "id": "500978a6",
   "metadata": {},
   "outputs": [
    {
     "name": "stdout",
     "output_type": "stream",
     "text": [
      "Model Perplexity:  -6.249427372510831\n",
      "Model Coherence Score:  0.47702802927434\n"
     ]
    }
   ],
   "source": [
    "lda_model_bigram1 = gensim.models.ldamodel.LdaModel(corpus=corpus_bi_test,\n",
    "                                           id2word=id2word_bi_test,\n",
    "                                           num_topics=15, \n",
    "                                           random_state=100,\n",
    "                                           update_every=1,\n",
    "                                           chunksize=500,\n",
    "                                           passes=10,\n",
    "                                           alpha='auto',\n",
    "                                           per_word_topics=True)\n",
    "\n",
    "\n",
    "# Compute Lets calculate the perplexity of the model\n",
    "print('Model Perplexity: ', lda_model_bigram1.log_perplexity(corpus_bi_test))  # a measure of how good the model is. lower the better.\n",
    "# Compute Coherence Score\n",
    "coherence_model_lda = CoherenceModel(model=lda_model_bigram1, texts=texts_bi_test, dictionary= id2word_bi_test, coherence='c_v')\n",
    "coherence_lda = coherence_model_lda.get_coherence()\n",
    "print('Model Coherence Score: ', coherence_lda)"
   ]
  },
  {
   "cell_type": "code",
   "execution_count": 104,
   "id": "4bb16926",
   "metadata": {},
   "outputs": [],
   "source": [
    "results_test[\"2.5.1.1\"] = round(coherence_lda,3)"
   ]
  },
  {
   "cell_type": "code",
   "execution_count": 214,
   "id": "29401c07",
   "metadata": {},
   "outputs": [],
   "source": [
    "#lda_model_bigram1.print_topics()"
   ]
  },
  {
   "cell_type": "markdown",
   "id": "2f3205dd",
   "metadata": {},
   "source": [
    "#### 2.5.1.2 Second model with bigrams and with increased number of passes"
   ]
  },
  {
   "cell_type": "code",
   "execution_count": 106,
   "id": "1011874a",
   "metadata": {},
   "outputs": [
    {
     "name": "stdout",
     "output_type": "stream",
     "text": [
      "Model Perplexity:  -6.209286700580603\n",
      "Model Coherence Score:  0.49251385045589563\n"
     ]
    }
   ],
   "source": [
    "lda_model_bigram2 = gensim.models.ldamodel.LdaModel(corpus=corpus_bi_test,\n",
    "                                           id2word=id2word_bi_test,\n",
    "                                           num_topics=15, \n",
    "                                           random_state=100,\n",
    "                                           update_every=1,\n",
    "                                           chunksize=500,\n",
    "                                           passes=50,\n",
    "                                           alpha='auto',\n",
    "                                           per_word_topics=True)\n",
    "\n",
    "\n",
    "# Compute Lets calculate the perplexity of the model\n",
    "print('Model Perplexity: ', lda_model_bigram2.log_perplexity(corpus_bi_test))  # a measure of how good the model is. lower the better.\n",
    "# Compute Coherence Score\n",
    "coherence_model_lda = CoherenceModel(model=lda_model_bigram2, texts=texts_bi_test, dictionary=id2word_bi_test, coherence='c_v')\n",
    "coherence_lda = coherence_model_lda.get_coherence()\n",
    "print('Model Coherence Score: ', coherence_lda)"
   ]
  },
  {
   "cell_type": "code",
   "execution_count": 107,
   "id": "0a1cda9d",
   "metadata": {},
   "outputs": [],
   "source": [
    "results_test[\"2.5.1.2\"] = round(coherence_lda,3)"
   ]
  },
  {
   "cell_type": "markdown",
   "id": "b0b0ca99",
   "metadata": {},
   "source": [
    "#### 2.5.1.3. Third model with bigrams and varied number of topics"
   ]
  },
  {
   "cell_type": "code",
   "execution_count": 100,
   "id": "6b18aab1",
   "metadata": {},
   "outputs": [],
   "source": [
    "start = 8\n",
    "step = 2\n",
    "limit = 15\n",
    "\n",
    "def calculate_coherence(dictionary, corpus, texts, limit, start, step):\n",
    "    coherences = []\n",
    "    models = []\n",
    "    for num_topics in range(start, limit, step):\n",
    "        model = gensim.models.ldamodel.LdaModel(corpus=corpus,\n",
    "                                           id2word=dictionary,\n",
    "                                           num_topics=num_topics, \n",
    "                                           random_state=100,\n",
    "                                           update_every=1,\n",
    "                                           chunksize=700,\n",
    "                                           passes=10,\n",
    "                                           alpha='auto',\n",
    "                                           per_word_topics=True)\n",
    "        models.append(model)\n",
    "        coherencemodel = CoherenceModel(model=model, texts=texts, dictionary=dictionary, coherence='c_v')\n",
    "        coherences.append(coherencemodel.get_coherence())\n",
    "\n",
    "    return models, coherences"
   ]
  },
  {
   "cell_type": "code",
   "execution_count": 101,
   "id": "ff7aa2f3",
   "metadata": {},
   "outputs": [
    {
     "name": "stdout",
     "output_type": "stream",
     "text": [
      "Current datatime: 2024-05-15 23:52:51.051384\n",
      "Execution time: 206.88 seconds\n"
     ]
    }
   ],
   "source": [
    "# Time consuming task\n",
    "start_time = time.time()\n",
    "print ('Current datatime: {}'.format(datetime.datetime.now()))\n",
    "models, coherences = calculate_coherence(dictionary=id2word_bi_test, corpus=corpus_bi_test, texts=texts_bi_test, start=start, limit=limit, step=step)\n",
    "end_time = time.time()\n",
    "elapsed_time = end_time - start_time\n",
    "print(f'Execution time: {elapsed_time:.2f} seconds')\n"
   ]
  },
  {
   "cell_type": "code",
   "execution_count": 102,
   "id": "ea98808f",
   "metadata": {},
   "outputs": [
    {
     "data": {
      "image/png": "[encoded data removed]",
      "text/plain": [
       "<Figure size 640x480 with 1 Axes>"
      ]
     },
     "metadata": {},
     "output_type": "display_data"
    },
    {
     "name": "stdout",
     "output_type": "stream",
     "text": [
      "Num Topics = 8  has Coherence Value of 0.4986\n",
      "Num Topics = 10  has Coherence Value of 0.5204\n",
      "Num Topics = 12  has Coherence Value of 0.4851\n",
      "Num Topics = 14  has Coherence Value of 0.489\n"
     ]
    }
   ],
   "source": [
    "# Show graph\n",
    "#limit=30; start=5; step=5;\n",
    "x = range(start, limit, step)\n",
    "plt.plot(x, coherences)\n",
    "plt.xlabel(\"Num Topics\")\n",
    "plt.ylabel(\"Coherence score\")\n",
    "plt.legend((\"coherence_values\"), loc='best')\n",
    "plt.show()\n",
    "\n",
    "# Print the coherence scores\n",
    "for m, cv in zip(x, coherences):\n",
    "    print(\"Num Topics =\", m, \" has Coherence Value of\", round(cv, 4))"
   ]
  },
  {
   "cell_type": "markdown",
   "id": "bb3364ad",
   "metadata": {},
   "source": [
    "#### 2.5.1.4. 4th model with bigrams and varying chunk size"
   ]
  },
  {
   "cell_type": "code",
   "execution_count": 108,
   "id": "6b998f38",
   "metadata": {},
   "outputs": [
    {
     "name": "stdout",
     "output_type": "stream",
     "text": [
      "Current datatime: 2024-05-16 00:07:51.275684\n",
      "Execution time: 1304.69 seconds\n"
     ]
    },
    {
     "data": {
      "image/png": "[encoded data removed]",
      "text/plain": [
       "<Figure size 640x480 with 1 Axes>"
      ]
     },
     "metadata": {},
     "output_type": "display_data"
    },
    {
     "name": "stdout",
     "output_type": "stream",
     "text": [
      "Chunk Size = 540  has Coherence Value of 0.5282\n",
      "Chunk Size = 1620  has Coherence Value of 0.5507\n",
      "Chunk Size = 2700  has Coherence Value of 0.4968\n",
      "Chunk Size = 3780  has Coherence Value of 0.504\n",
      "Chunk Size = 4860  has Coherence Value of 0.5231\n"
     ]
    }
   ],
   "source": [
    "limit = round(len(texts_bi_test)/2)\n",
    "start = round(limit/10)\n",
    "step = start*2\n",
    "\n",
    "\n",
    "def calculate_coherence(dictionary, corpus, texts, limit, start, step):\n",
    "    coherences = []\n",
    "    models = []\n",
    "    for chunksize in range(start, limit, step):\n",
    "        model = gensim.models.ldamodel.LdaModel(corpus=corpus,\n",
    "                                           id2word=dictionary,\n",
    "                                           num_topics=10, \n",
    "                                           random_state=100,\n",
    "                                           update_every=1,\n",
    "                                           chunksize=chunksize,\n",
    "                                           passes=50,\n",
    "                                           alpha='auto',\n",
    "                                           per_word_topics=True)\n",
    "        models.append(model)\n",
    "        coherencemodel = CoherenceModel(model=model, texts=texts, dictionary=dictionary, coherence='c_v')\n",
    "        coherences.append(coherencemodel.get_coherence())\n",
    "\n",
    "    return models, coherences\n",
    "\n",
    "# Time consuming task\n",
    "start_time = time.time()\n",
    "print ('Current datatime: {}'.format(datetime.datetime.now()))\n",
    "models, coherences = calculate_coherence(dictionary=id2word_bi_test, corpus=corpus_bi_test, texts=texts_bi_test, start=start, limit=limit, step=step)\n",
    "end_time = time.time()\n",
    "elapsed_time = end_time - start_time\n",
    "print(f'Execution time: {elapsed_time:.2f} seconds')\n",
    "\n",
    "# Show graph\n",
    "#limit=30; start=5; step=5;\n",
    "x = range(start, limit, step)\n",
    "plt.plot(x, coherences)\n",
    "plt.xlabel(\"Chunk Size\")\n",
    "plt.ylabel(\"Coherence score\")\n",
    "plt.legend((\"coherence_values\"), loc='best')\n",
    "plt.show()\n",
    "\n",
    "# Print the coherence scores\n",
    "for m, cv in zip(x, coherences):\n",
    "    print(\"Chunk Size =\", m, \" has Coherence Value of\", round(cv, 4))"
   ]
  },
  {
   "cell_type": "code",
   "execution_count": 109,
   "id": "9f3ff864",
   "metadata": {},
   "outputs": [
    {
     "name": "stdout",
     "output_type": "stream",
     "text": [
      "Current datatime: 2024-05-16 00:29:36.149993\n",
      "Execution time: 1072.01 seconds\n"
     ]
    },
    {
     "data": {
      "image/png": "[encoded data removed]",
      "text/plain": [
       "<Figure size 640x480 with 1 Axes>"
      ]
     },
     "metadata": {},
     "output_type": "display_data"
    },
    {
     "name": "stdout",
     "output_type": "stream",
     "text": [
      "Chunk Size = 270  has Coherence Value of 0.5456\n",
      "Chunk Size = 810  has Coherence Value of 0.5131\n",
      "Chunk Size = 1350  has Coherence Value of 0.5543\n",
      "Chunk Size = 1890  has Coherence Value of 0.5061\n",
      "Chunk Size = 2430  has Coherence Value of 0.5115\n"
     ]
    }
   ],
   "source": [
    "limit = round(len(texts_bi_test)/4)\n",
    "start = round(limit/10)\n",
    "step = start*2\n",
    "\n",
    "# Time consuming task\n",
    "start_time = time.time()\n",
    "print ('Current datatime: {}'.format(datetime.datetime.now()))\n",
    "models, coherences = calculate_coherence(dictionary=id2word_bi_test, corpus=corpus_bi_test, texts=texts_bi_test, start=start, limit=limit, step=step)\n",
    "end_time = time.time()\n",
    "elapsed_time = end_time - start_time\n",
    "print(f'Execution time: {elapsed_time:.2f} seconds')\n",
    "\n",
    "# Show graph\n",
    "#limit=30; start=5; step=5;\n",
    "x = range(start, limit, step)\n",
    "plt.plot(x, coherences)\n",
    "plt.xlabel(\"Chunk Size\")\n",
    "plt.ylabel(\"Coherence score\")\n",
    "plt.legend((\"coherence_values\"), loc='best')\n",
    "plt.show()\n",
    "\n",
    "# Print the coherence scores\n",
    "for m, cv in zip(x, coherences):\n",
    "    print(\"Chunk Size =\", m, \" has Coherence Value of\", round(cv, 4))"
   ]
  },
  {
   "cell_type": "markdown",
   "id": "24286198",
   "metadata": {},
   "source": [
    "#### 2.5.1.5. Let us define the best bigram model"
   ]
  },
  {
   "cell_type": "code",
   "execution_count": 110,
   "id": "a88c0408",
   "metadata": {},
   "outputs": [
    {
     "name": "stdout",
     "output_type": "stream",
     "text": [
      "Model Perplexity:  -5.384158468760262\n",
      "Model Coherence Score:  0.5557373368150459\n"
     ]
    }
   ],
   "source": [
    "lda_model_bigram_best = gensim.models.ldamodel.LdaModel(corpus=corpus_bi_test,\n",
    "                                           id2word=id2word_bi_test,\n",
    "                                           num_topics=10, \n",
    "                                           random_state=100,\n",
    "                                           update_every=1,\n",
    "                                           chunksize=1300,\n",
    "                                           passes=50,\n",
    "                                           alpha='auto',\n",
    "                                           per_word_topics=True)\n",
    "\n",
    "\n",
    "lda_model_bigram_best.print_topics()\n",
    "\n",
    "# Compute Lets calculate the perplexity of the model\n",
    "print('Model Perplexity: ', lda_model_bigram_best.log_perplexity(corpus_bi_test))  # a measure of how good the model is. lower the better.\n",
    "# Compute Coherence Score\n",
    "coherence_model_lda = CoherenceModel(model=lda_model_bigram_best, texts=texts_bi_test, dictionary=id2word_bi_test, coherence='c_v')\n",
    "coherence_lda = coherence_model_lda.get_coherence()\n",
    "print('Model Coherence Score: ', coherence_lda)"
   ]
  },
  {
   "cell_type": "code",
   "execution_count": 111,
   "id": "1fe4ff32",
   "metadata": {},
   "outputs": [],
   "source": [
    "results_test[\"2.5.1.5\"] = coherence_model_lda.get_coherence()"
   ]
  },
  {
   "cell_type": "code",
   "execution_count": 112,
   "id": "2b63a999",
   "metadata": {
    "scrolled": true
   },
   "outputs": [],
   "source": [
    "#lda_model_bigram_best.print_topics()"
   ]
  },
  {
   "cell_type": "markdown",
   "id": "43cc9537",
   "metadata": {},
   "source": [
    "### 2.5.2 Trigram model"
   ]
  },
  {
   "cell_type": "code",
   "execution_count": 113,
   "id": "0e2e1319",
   "metadata": {},
   "outputs": [],
   "source": [
    "# Create Dictionary\n",
    "id2word_trigram_test = corpora.Dictionary(data_words_trigrams_test)\n",
    "# Create Corpus\n",
    "texts_trigram_test = data_words_trigrams_test\n",
    "# Term Document Frequency\n",
    "corpus_trigram_test = [id2word_trigram_test.doc2bow(text) for text in texts_trigram_test]"
   ]
  },
  {
   "cell_type": "markdown",
   "id": "efb7d3db",
   "metadata": {},
   "source": [
    "#### 2.5.2.1. First trigram model"
   ]
  },
  {
   "cell_type": "code",
   "execution_count": 114,
   "id": "0a6a3eef",
   "metadata": {},
   "outputs": [
    {
     "name": "stdout",
     "output_type": "stream",
     "text": [
      "Model Perplexity:  -6.868377894021322\n",
      "Model Coherence Score:  0.4683707894919723\n"
     ]
    }
   ],
   "source": [
    "lda_model_trigram1 = gensim.models.ldamodel.LdaModel(corpus=corpus_trigram_test,\n",
    "                                           id2word=id2word_trigram_test,\n",
    "                                           num_topics=20, \n",
    "                                           random_state=100,\n",
    "                                           update_every=1,\n",
    "                                           chunksize=500,\n",
    "                                           passes=10,\n",
    "                                           alpha='auto',\n",
    "                                           per_word_topics=True)\n",
    "# Compute Lets calculate the perplexity of the model\n",
    "print('Model Perplexity: ', lda_model_trigram1.log_perplexity(corpus_trigram_test))  # a measure of how good the model is. lower the better.\n",
    "# Compute Coherence Score\n",
    "coherence_model_lda = CoherenceModel(model=lda_model_trigram1, texts=texts_trigram_test, dictionary=id2word_trigram_test, coherence='c_v')\n",
    "coherence_lda = coherence_model_lda.get_coherence()\n",
    "print('Model Coherence Score: ', coherence_lda)"
   ]
  },
  {
   "cell_type": "code",
   "execution_count": 115,
   "id": "427fdf7e",
   "metadata": {},
   "outputs": [],
   "source": [
    "results_test[\"2.5.2.1\"] = round(coherence_lda, 3)"
   ]
  },
  {
   "cell_type": "code",
   "execution_count": 215,
   "id": "92a7b176",
   "metadata": {},
   "outputs": [],
   "source": [
    "#lda_model_trigram1.print_topics()"
   ]
  },
  {
   "cell_type": "markdown",
   "id": "c2350e2e",
   "metadata": {},
   "source": [
    "#### 2.5.2.2. Second trigram model, # passes increased"
   ]
  },
  {
   "cell_type": "code",
   "execution_count": 117,
   "id": "e48d213d",
   "metadata": {},
   "outputs": [
    {
     "name": "stdout",
     "output_type": "stream",
     "text": [
      "Model Perplexity:  -6.855839435207245\n",
      "Model Coherence Score:  0.4675128247857506\n"
     ]
    }
   ],
   "source": [
    "lda_model_trigram2 = gensim.models.ldamodel.LdaModel(corpus=corpus_trigram_test,\n",
    "                                           id2word=id2word_trigram_test,\n",
    "                                           num_topics=20, \n",
    "                                           random_state=100,\n",
    "                                           update_every=1,\n",
    "                                           chunksize=500,\n",
    "                                           passes=50,\n",
    "                                           alpha='auto',\n",
    "                                           per_word_topics=True)\n",
    "\n",
    "# Compute Lets calculate the perplexity of the model\n",
    "print('Model Perplexity: ', lda_model_trigram2.log_perplexity(corpus_trigram_test))  # a measure of how good the model is. lower the better.\n",
    "# Compute Coherence Score\n",
    "coherence_model_lda = CoherenceModel(model=lda_model_trigram2, texts=texts_trigram_test, dictionary=id2word_trigram_test, coherence='c_v')\n",
    "coherence_lda = coherence_model_lda.get_coherence()\n",
    "print('Model Coherence Score: ', coherence_lda)"
   ]
  },
  {
   "cell_type": "code",
   "execution_count": 118,
   "id": "15b11057",
   "metadata": {},
   "outputs": [],
   "source": [
    "results_test[\"2.5.2.2\"] = coherence_model_lda.get_coherence()"
   ]
  },
  {
   "cell_type": "code",
   "execution_count": 119,
   "id": "01a99367",
   "metadata": {},
   "outputs": [],
   "source": [
    "#lda_model_trigram2.print_topics()"
   ]
  },
  {
   "cell_type": "markdown",
   "id": "7c75fa1e",
   "metadata": {},
   "source": [
    "#### 2.5.2.3. 3rd trigram model with varying # of topics"
   ]
  },
  {
   "cell_type": "code",
   "execution_count": 251,
   "id": "5644e5c6",
   "metadata": {},
   "outputs": [],
   "source": [
    "start = 5\n",
    "step = 5\n",
    "limit =31\n",
    "\n",
    "def calculate_coherence(dictionary, corpus, texts, limit, start, step):\n",
    "    coherences = []\n",
    "    models = []\n",
    "    for num_topics in range(start, limit, step):\n",
    "        model = gensim.models.ldamodel.LdaModel(corpus=corpus,\n",
    "                                           id2word=dictionary,\n",
    "                                           num_topics=num_topics, \n",
    "                                           random_state=100,\n",
    "                                           update_every=1,\n",
    "                                           chunksize=500,\n",
    "                                           passes=50,\n",
    "                                           alpha='auto',\n",
    "                                           per_word_topics=True)\n",
    "        models.append(model)\n",
    "        coherencemodel = CoherenceModel(model=model, texts=texts, dictionary=dictionary, coherence='c_v')\n",
    "        coherences.append(coherencemodel.get_coherence())\n",
    "\n",
    "    return models, coherences"
   ]
  },
  {
   "cell_type": "code",
   "execution_count": 252,
   "id": "72ef9305",
   "metadata": {},
   "outputs": [
    {
     "name": "stdout",
     "output_type": "stream",
     "text": [
      "Current datatime: 2024-05-06 12:58:45.978399\n",
      "Execution time: 1026.18 seconds\n"
     ]
    },
    {
     "data": {
      "image/png": "[encoded data removed]",
      "text/plain": [
       "<Figure size 640x480 with 1 Axes>"
      ]
     },
     "metadata": {},
     "output_type": "display_data"
    },
    {
     "name": "stdout",
     "output_type": "stream",
     "text": [
      "Num Topics = 5  has Coherence Value of 0.5413\n",
      "Num Topics = 10  has Coherence Value of 0.5243\n",
      "Num Topics = 15  has Coherence Value of 0.527\n",
      "Num Topics = 20  has Coherence Value of 0.4596\n",
      "Num Topics = 25  has Coherence Value of 0.4848\n",
      "Num Topics = 30  has Coherence Value of 0.474\n"
     ]
    }
   ],
   "source": [
    "# Time consuming task\n",
    "start_time = time.time()\n",
    "print ('Current datatime: {}'.format(datetime.datetime.now()))\n",
    "models, coherences = calculate_coherence(dictionary=id2word_trigram_test, corpus=corpus_trigram_test, texts=texts_trigram_test, start=start, limit=limit, step=step)\n",
    "end_time = time.time()\n",
    "elapsed_time = end_time - start_time\n",
    "print(f'Execution time: {elapsed_time:.2f} seconds')\n",
    "\n",
    "# Show graph\n",
    "#limit=30; start=5; step=5;\n",
    "x = range(start, limit, step)\n",
    "plt.plot(x, coherences)\n",
    "plt.xlabel(\"Num Topics\")\n",
    "plt.ylabel(\"Coherence score\")\n",
    "plt.legend((\"coherence_values\"), loc='best')\n",
    "plt.show()\n",
    "\n",
    "# Print the coherence scores\n",
    "for m, cv in zip(x, coherences):\n",
    "    print(\"Num Topics =\", m, \" has Coherence Value of\", round(cv, 4))"
   ]
  },
  {
   "cell_type": "markdown",
   "id": "6e36fa00",
   "metadata": {},
   "source": [
    "#### 2.5.2.4. 4th trigram model with varying cunksize"
   ]
  },
  {
   "cell_type": "code",
   "execution_count": 229,
   "id": "3c531354",
   "metadata": {},
   "outputs": [],
   "source": [
    "limit = round(len(texts_trigram_test)/2)\n",
    "start = round(limit/10)\n",
    "step = start*2"
   ]
  },
  {
   "cell_type": "code",
   "execution_count": 231,
   "id": "e7efd17c",
   "metadata": {},
   "outputs": [
    {
     "data": {
      "text/plain": [
       "10080"
      ]
     },
     "execution_count": 231,
     "metadata": {},
     "output_type": "execute_result"
    }
   ],
   "source": [
    "len(texts_trigram_test)"
   ]
  },
  {
   "cell_type": "code",
   "execution_count": 235,
   "id": "3c3e93d0",
   "metadata": {},
   "outputs": [],
   "source": [
    "def calculate_coherence(dictionary, corpus, texts, limit, start, step):\n",
    "    coherences = []\n",
    "    models = []\n",
    "    for chunksize in range(start, limit, step):\n",
    "        model = gensim.models.ldamodel.LdaModel(corpus=corpus,\n",
    "                                           id2word=dictionary,\n",
    "                                           num_topics=10, \n",
    "                                           random_state=100,\n",
    "                                           update_every=1,\n",
    "                                           chunksize=chunksize,\n",
    "                                           passes=50,\n",
    "                                           alpha='auto',\n",
    "                                           per_word_topics=True)\n",
    "        models.append(model)\n",
    "        coherencemodel = CoherenceModel(model=model, texts=texts, dictionary=dictionary, coherence='c_v')\n",
    "        coherences.append(coherencemodel.get_coherence())\n",
    "\n",
    "    return models, coherences"
   ]
  },
  {
   "cell_type": "code",
   "execution_count": 236,
   "id": "f3f669fd",
   "metadata": {},
   "outputs": [
    {
     "name": "stdout",
     "output_type": "stream",
     "text": [
      "Current datatime: 2024-05-06 11:08:03.904622\n",
      "Execution time: 617.45 seconds\n"
     ]
    },
    {
     "data": {
      "image/png": "[encoded data removed]",
      "text/plain": [
       "<Figure size 640x480 with 1 Axes>"
      ]
     },
     "metadata": {},
     "output_type": "display_data"
    },
    {
     "name": "stdout",
     "output_type": "stream",
     "text": [
      "Chunk Size = 504  has Coherence Value of 0.5296\n",
      "Chunk Size = 1512  has Coherence Value of 0.5516\n",
      "Chunk Size = 2520  has Coherence Value of 0.5729\n",
      "Chunk Size = 3528  has Coherence Value of 0.5471\n",
      "Chunk Size = 4536  has Coherence Value of 0.5284\n"
     ]
    }
   ],
   "source": [
    "# Time consuming task\n",
    "start_time = time.time()\n",
    "print ('Current datatime: {}'.format(datetime.datetime.now()))\n",
    "models, coherences = calculate_coherence(dictionary=id2word_trigram_test, corpus=corpus_trigram_test, texts=texts_trigram_test, start=start, limit=limit, step=step)\n",
    "end_time = time.time()\n",
    "elapsed_time = end_time - start_time\n",
    "print(f'Execution time: {elapsed_time:.2f} seconds')\n",
    "\n",
    "# Show graph\n",
    "#limit=30; start=5; step=5;\n",
    "x = range(start, limit, step)\n",
    "plt.plot(x, coherences)\n",
    "plt.xlabel(\"Chunk Size\")\n",
    "plt.ylabel(\"Coherence score\")\n",
    "plt.legend((\"coherence_values\"), loc='best')\n",
    "plt.show()\n",
    "\n",
    "# Print the coherence scores\n",
    "for m, cv in zip(x, coherences):\n",
    "    print(\"Chunk Size =\", m, \" has Coherence Value of\", round(cv, 4))"
   ]
  },
  {
   "cell_type": "code",
   "execution_count": 238,
   "id": "75cd18be",
   "metadata": {},
   "outputs": [],
   "source": [
    "limit = round(len(texts_trigram_test)/10)\n",
    "start = round(limit/10)\n",
    "step = start*2"
   ]
  },
  {
   "cell_type": "code",
   "execution_count": 240,
   "id": "ad7af06a",
   "metadata": {},
   "outputs": [
    {
     "name": "stdout",
     "output_type": "stream",
     "text": [
      "Current datatime: 2024-05-06 11:19:01.779110\n",
      "Execution time: 1349.43 seconds\n"
     ]
    },
    {
     "data": {
      "image/png": "[encoded data removed]",
      "text/plain": [
       "<Figure size 640x480 with 1 Axes>"
      ]
     },
     "metadata": {},
     "output_type": "display_data"
    },
    {
     "name": "stdout",
     "output_type": "stream",
     "text": [
      "Chunk Size = 101  has Coherence Value of 0.5084\n",
      "Chunk Size = 303  has Coherence Value of 0.5311\n",
      "Chunk Size = 505  has Coherence Value of 0.5345\n",
      "Chunk Size = 707  has Coherence Value of 0.5352\n",
      "Chunk Size = 909  has Coherence Value of 0.5393\n"
     ]
    }
   ],
   "source": [
    "# Time consuming task\n",
    "start_time = time.time()\n",
    "print ('Current datatime: {}'.format(datetime.datetime.now()))\n",
    "models, coherences = calculate_coherence(dictionary=id2word_trigram_test, corpus=corpus_trigram_test, texts=texts_trigram_test, start=start, limit=limit, step=step)\n",
    "end_time = time.time()\n",
    "elapsed_time = end_time - start_time\n",
    "print(f'Execution time: {elapsed_time:.2f} seconds')\n",
    "\n",
    "# Show graph\n",
    "#limit=30; start=5; step=5;\n",
    "x = range(start, limit, step)\n",
    "plt.plot(x, coherences)\n",
    "plt.xlabel(\"Chunk Size\")\n",
    "plt.ylabel(\"Coherence score\")\n",
    "plt.legend((\"coherence_values\"), loc='best')\n",
    "plt.show()\n",
    "\n",
    "# Print the coherence scores\n",
    "for m, cv in zip(x, coherences):\n",
    "    print(\"Chunk Size =\", m, \" has Coherence Value of\", round(cv, 4))"
   ]
  },
  {
   "cell_type": "markdown",
   "id": "e8598610",
   "metadata": {},
   "source": [
    "#### 2.5.2.5. 5th trigram model, best"
   ]
  },
  {
   "cell_type": "code",
   "execution_count": 255,
   "id": "3473fe60",
   "metadata": {},
   "outputs": [
    {
     "name": "stdout",
     "output_type": "stream",
     "text": [
      "Model Perplexity:  -5.5275776223156035\n",
      "Model Coherence Score:  0.5311510099094393\n"
     ]
    }
   ],
   "source": [
    "lda_model_trigram_best = gensim.models.ldamodel.LdaModel(corpus=corpus_trigram_test,\n",
    "                                           id2word=id2word_trigram_test,\n",
    "                                           num_topics=15, \n",
    "                                           random_state=100,\n",
    "                                           update_every=1,\n",
    "                                           chunksize=2500,\n",
    "                                           passes=50,\n",
    "                                           alpha='auto',\n",
    "                                           per_word_topics=True)\n",
    "\n",
    "# Compute Lets calculate the perplexity of the model\n",
    "print('Model Perplexity: ', lda_model_trigram_best.log_perplexity(corpus_trigram_test))  # a measure of how good the model is. lower the better.\n",
    "# Compute Coherence Score\n",
    "coherence_model_lda = CoherenceModel(model=lda_model_trigram_best, texts=texts_trigram_test, dictionary=id2word_trigram_test, coherence='c_v')\n",
    "coherence_lda = coherence_model_lda.get_coherence()\n",
    "print('Model Coherence Score: ', coherence_lda)"
   ]
  },
  {
   "cell_type": "code",
   "execution_count": 256,
   "id": "8df814f3",
   "metadata": {},
   "outputs": [],
   "source": [
    "results_test[\"2.5.2.5\"] = round(coherence_lda, 3)"
   ]
  },
  {
   "cell_type": "code",
   "execution_count": 216,
   "id": "afae72f5",
   "metadata": {},
   "outputs": [],
   "source": [
    "#lda_model_trigram_best.print_topics()"
   ]
  },
  {
   "cell_type": "code",
   "execution_count": 258,
   "id": "7ad030f0",
   "metadata": {},
   "outputs": [],
   "source": [
    "# Save model to disk.\n",
    "temp_file = datapath(\"mybest_bigram_model\")\n",
    "lda_model_bigram_best.save(temp_file)\n",
    "# Load a potentially pretrained model from disk."
   ]
  },
  {
   "cell_type": "code",
   "execution_count": 259,
   "id": "d279962c",
   "metadata": {},
   "outputs": [],
   "source": [
    "# Save model to disk.\n",
    "temp_file = datapath(\"mybest_trigram_model\")\n",
    "lda_model_trigram_best.save(temp_file)\n",
    "# Load a potentially pretrained model from disk.\n",
    "my_model = gensim.models.ldamodel.LdaModel.load(temp_file)"
   ]
  },
  {
   "cell_type": "markdown",
   "id": "0924630f",
   "metadata": {},
   "source": [
    "# Part 2. Full data models"
   ]
  },
  {
   "cell_type": "markdown",
   "id": "56b689d1",
   "metadata": {},
   "source": [
    "## 1. Handle the data"
   ]
  },
  {
   "cell_type": "markdown",
   "id": "a57fdf7b",
   "metadata": {},
   "source": [
    "### 1.1 Let us load the full data"
   ]
  },
  {
   "cell_type": "code",
   "execution_count": 120,
   "id": "cafe60db",
   "metadata": {},
   "outputs": [],
   "source": [
    "df_full = pd.read_excel('file2_1205.xlsx', sheet_name='Sheet1')"
   ]
  },
  {
   "cell_type": "code",
   "execution_count": 217,
   "id": "04b46494",
   "metadata": {},
   "outputs": [],
   "source": [
    "#df_full.head(1)"
   ]
  },
  {
   "cell_type": "code",
   "execution_count": 122,
   "id": "3e965088",
   "metadata": {},
   "outputs": [],
   "source": [
    "data_full = df_full[df_full['Категория']=='Запрос информации'][[\"ЗНО\",\"Тема ЗНО\", \"Информация\", \"Дата регистрации\"]].copy()"
   ]
  },
  {
   "cell_type": "code",
   "execution_count": 123,
   "id": "e70b4c45",
   "metadata": {},
   "outputs": [],
   "source": [
    "data_full[\"full_request\"] = data_full[\"Тема ЗНО\"] +' '+ data_full[\"Информация\"]"
   ]
  },
  {
   "cell_type": "markdown",
   "id": "653962ae",
   "metadata": {},
   "source": [
    "### 1.2 Let us load the full data"
   ]
  },
  {
   "cell_type": "code",
   "execution_count": 124,
   "id": "f37f90fe",
   "metadata": {},
   "outputs": [],
   "source": [
    "# 1. converting abbreviations \n",
    "data_full['full_request_modified']= data_full['full_request'].apply(abbreviations_conversion)"
   ]
  },
  {
   "cell_type": "code",
   "execution_count": 218,
   "id": "148963ad",
   "metadata": {},
   "outputs": [
    {
     "data": {
      "text/plain": [
       "'for i in range(10):\\n    print(i, \" ---\")\\n    print(data_full[\\'full_request_modified\\'][i])\\n    print(\"\")\\n'"
      ]
     },
     "execution_count": 218,
     "metadata": {},
     "output_type": "execute_result"
    }
   ],
   "source": [
    "\"\"\"for i in range(10):\n",
    "    print(i, \" ---\")\n",
    "    print(data_full['full_request_modified'][i])\n",
    "    print(\"\")\n",
    "\"\"\""
   ]
  },
  {
   "cell_type": "markdown",
   "id": "1e0d6855",
   "metadata": {},
   "source": [
    "### 1.3 Eliminate digits, ips"
   ]
  },
  {
   "cell_type": "code",
   "execution_count": 126,
   "id": "320eb306",
   "metadata": {},
   "outputs": [],
   "source": [
    "# 2. Eliminating digits, ips\n",
    "data_full['full_request_modified']= data_full['full_request_modified'].apply(remove_digits_emails_ips)"
   ]
  },
  {
   "cell_type": "code",
   "execution_count": 219,
   "id": "a59931fa",
   "metadata": {},
   "outputs": [
    {
     "data": {
      "text/plain": [
       "'for i in range(10):\\n    print(i, \" ---\")\\n    print(data_full[\\'full_request_modified\\'][i])\\n    print(\"\")\\n    '"
      ]
     },
     "execution_count": 219,
     "metadata": {},
     "output_type": "execute_result"
    }
   ],
   "source": [
    "\"\"\"for i in range(10):\n",
    "    print(i, \" ---\")\n",
    "    print(data_full['full_request_modified'][i])\n",
    "    print(\"\")\n",
    "    \"\"\""
   ]
  },
  {
   "cell_type": "markdown",
   "id": "bea02e2b",
   "metadata": {},
   "source": [
    "### 1.4 Eliminate one symbol word"
   ]
  },
  {
   "cell_type": "code",
   "execution_count": 128,
   "id": "77f108f6",
   "metadata": {},
   "outputs": [],
   "source": [
    "# 3. Delete one symbol words\n",
    "data_full['full_request_modified']= data_full['full_request_modified'].apply(lambda x: delete_n_symbols_word(x,1))"
   ]
  },
  {
   "cell_type": "code",
   "execution_count": 220,
   "id": "7236518b",
   "metadata": {},
   "outputs": [
    {
     "data": {
      "text/plain": [
       "'for i in range(10):\\n    print(\"---\")\\n    print(i, \": len = \", len(data_full[\\'full_request_modified\\'][i]))\\n    print(data_full[\\'full_request_modified\\'][i])\\n    '"
      ]
     },
     "execution_count": 220,
     "metadata": {},
     "output_type": "execute_result"
    }
   ],
   "source": [
    "\"\"\"for i in range(10):\n",
    "    print(\"---\")\n",
    "    print(i, \": len = \", len(data_full['full_request_modified'][i]))\n",
    "    print(data_full['full_request_modified'][i])\n",
    "    \"\"\""
   ]
  },
  {
   "cell_type": "code",
   "execution_count": 130,
   "id": "772cc049",
   "metadata": {},
   "outputs": [],
   "source": [
    "#dfff = pd.concat([data_full, ZNO], axis=1)"
   ]
  },
  {
   "cell_type": "code",
   "execution_count": 131,
   "id": "2d696a54",
   "metadata": {},
   "outputs": [],
   "source": [
    "#dfff.head(1)"
   ]
  },
  {
   "cell_type": "code",
   "execution_count": 132,
   "id": "a6429257",
   "metadata": {},
   "outputs": [],
   "source": [
    "#ZNO = data_full['ЗНО']"
   ]
  },
  {
   "cell_type": "markdown",
   "id": "222a5a68",
   "metadata": {},
   "source": [
    "### 1.5 Lemmatize \"full request\" field"
   ]
  },
  {
   "cell_type": "code",
   "execution_count": 133,
   "id": "8a1b3251",
   "metadata": {},
   "outputs": [
    {
     "name": "stdout",
     "output_type": "stream",
     "text": [
      "Current datatime: 2024-05-16 02:26:02.885082\n"
     ]
    },
    {
     "ename": "NameError",
     "evalue": "name 'lemmatize_en_ru' is not defined",
     "output_type": "error",
     "traceback": [
      "\u001b[1;31m---------------------------------------------------------------------------\u001b[0m",
      "\u001b[1;31mNameError\u001b[0m                                 Traceback (most recent call last)",
      "Cell \u001b[1;32mIn[133], line 4\u001b[0m\n\u001b[0;32m      2\u001b[0m start_time \u001b[38;5;241m=\u001b[39m time\u001b[38;5;241m.\u001b[39mtime()\n\u001b[0;32m      3\u001b[0m \u001b[38;5;28mprint\u001b[39m (\u001b[38;5;124m'\u001b[39m\u001b[38;5;124mCurrent datatime: \u001b[39m\u001b[38;5;132;01m{}\u001b[39;00m\u001b[38;5;124m'\u001b[39m\u001b[38;5;241m.\u001b[39mformat(datetime\u001b[38;5;241m.\u001b[39mdatetime\u001b[38;5;241m.\u001b[39mnow()))\n\u001b[1;32m----> 4\u001b[0m data_full[\u001b[38;5;124m'\u001b[39m\u001b[38;5;124mfull_request_modified_lem\u001b[39m\u001b[38;5;124m'\u001b[39m]\u001b[38;5;241m=\u001b[39m data_full[\u001b[38;5;124m'\u001b[39m\u001b[38;5;124mfull_request_modified\u001b[39m\u001b[38;5;124m'\u001b[39m]\u001b[38;5;241m.\u001b[39mapply(lemmatize_en_ru)\n\u001b[0;32m      5\u001b[0m end_time \u001b[38;5;241m=\u001b[39m time\u001b[38;5;241m.\u001b[39mtime()\n\u001b[0;32m      6\u001b[0m elapsed_time \u001b[38;5;241m=\u001b[39m end_time \u001b[38;5;241m-\u001b[39m start_time\n",
      "\u001b[1;31mNameError\u001b[0m: name 'lemmatize_en_ru' is not defined"
     ]
    }
   ],
   "source": [
    "# 4. Lemmatize full request\n",
    "start_time = time.time()\n",
    "print ('Current datatime: {}'.format(datetime.datetime.now()))\n",
    "data_full['full_request_modified_lem']= data_full['full_request_modified'].apply(lemmatize_en_ru)\n",
    "end_time = time.time()\n",
    "elapsed_time = end_time - start_time\n",
    "print(f'Execution time: {elapsed_time:.2f} seconds')"
   ]
  },
  {
   "cell_type": "code",
   "execution_count": null,
   "id": "2ef1c995",
   "metadata": {},
   "outputs": [],
   "source": [
    "for i in range(10):\n",
    "    print(i, \": len = \", len(data_full['full_request_modified_lem'][i]))\n",
    "    print(data_full['full_request_modified_lem'][i])\n",
    "    print(\"\")"
   ]
  },
  {
   "cell_type": "code",
   "execution_count": 134,
   "id": "c8b489e7",
   "metadata": {},
   "outputs": [],
   "source": [
    "#data_full.to_excel(r'data_full_cleaned_lemmatized_1405.xlsx')\n",
    "data_full = pd.read_excel('data_full_cleaned_lemmatized_stopwords_applied_with_date_0805.xlsx', sheet_name='Sheet1')"
   ]
  },
  {
   "cell_type": "markdown",
   "id": "985a9d23",
   "metadata": {},
   "source": [
    "### 1.6 Calculate the frequency"
   ]
  },
  {
   "cell_type": "code",
   "execution_count": 135,
   "id": "8caa6b20",
   "metadata": {},
   "outputs": [],
   "source": [
    "# 5. Calculate the frequencey\n",
    "full_frequency = defaultdict(int)\n",
    "def calculate_word_full_frequency(text, dictionary):\n",
    "    text2list = text.split(' ')\n",
    "    for token in text2list:\n",
    "        full_frequency[token]+=1"
   ]
  },
  {
   "cell_type": "code",
   "execution_count": 136,
   "id": "451bb869",
   "metadata": {},
   "outputs": [
    {
     "data": {
      "text/plain": [
       "0        None\n",
       "1        None\n",
       "2        None\n",
       "3        None\n",
       "4        None\n",
       "         ... \n",
       "43402    None\n",
       "43403    None\n",
       "43404    None\n",
       "43405    None\n",
       "43406    None\n",
       "Name: full_request_modified_lem, Length: 43407, dtype: object"
      ]
     },
     "execution_count": 136,
     "metadata": {},
     "output_type": "execute_result"
    }
   ],
   "source": [
    "# calculate frequency\n",
    "data_full['full_request_modified_lem'].apply(lambda x: calculate_word_full_frequency(x, full_frequency))"
   ]
  },
  {
   "cell_type": "code",
   "execution_count": 221,
   "id": "712c0cbb",
   "metadata": {},
   "outputs": [],
   "source": [
    "#[x for x in sorted(full_frequency.items(), key=lambda x: x[1], reverse = True)]"
   ]
  },
  {
   "cell_type": "code",
   "execution_count": 138,
   "id": "528398d1",
   "metadata": {},
   "outputs": [],
   "source": [
    "hf_stop_words_full_set = set([\"база\", \"данных\",\"ru\", \"sbrf\", \"если\", \"или\", \"вы\", \"pprb\", \"под\", \"прошу\", \"на\", \"не\", \"ru\", \"если\", \"или\", \"то\", \"*\", \n",
    "                              \"вы\", \"tvldd\", \"pprb\", \"pangolin\", \"tklid\", \"pvlad\", \"pvlod\", \"tvlad\", \"in\", \"tkldd\", \"sberbank\", \"нет\"])"
   ]
  },
  {
   "cell_type": "code",
   "execution_count": 139,
   "id": "69ea0e96",
   "metadata": {},
   "outputs": [],
   "source": [
    "# load stop words from nltk\n",
    "stopwords_eng = set(nltk_stopwords.words('english'))\n",
    "stopwords_rus = set(nltk_stopwords.words('russian'))\n",
    "nltk_stopwords_general = stopwords_eng.union(stopwords_rus)"
   ]
  },
  {
   "cell_type": "code",
   "execution_count": 140,
   "id": "05d4bcf1",
   "metadata": {},
   "outputs": [],
   "source": [
    "# Add some seen words which carry no sense\n",
    "stop_phrases_spec = [\"добрый\", \"день\", \"вечер\", \"уважаемый\", \"коллеги\", \"спасибо\", \"заранее\", \"пожалуйста\", \"sbrf\", \"ru\", \n",
    "                \"https\",\"support_PostgreSQL_sbt@sberbank.ru\",\"https://confluence.ca.sbrf.ru/pages/viewpage.action?pageId=8049721948\",\n",
    "                \"https://sbtatlas.sigma.sbrf.ru/wiki/pages/viewpage.action?pageId=1214912031\",\n",
    "                \"[10.62.55.109]\",\"SberEdition\",\"Sberbank\", \"коллега\", \"sber\", \"прошу\", \"просить\", \"здравствовать\", \"просьба\"]\n",
    "\n",
    "stop_phrases_specific = [item.lower() for item in stop_phrases_spec]\n",
    "stop_phrases_all = nltk_stopwords_general.union(set(stop_phrases_specific))"
   ]
  },
  {
   "cell_type": "code",
   "execution_count": 141,
   "id": "dfd4819e",
   "metadata": {},
   "outputs": [],
   "source": [
    "# Exclude no sense words as well\n",
    "cust_set = set(['база', 'баз', ',базы', 'данных', 'данные'])\n",
    "stop_phrases_all.update(cust_set)\n",
    "stop_phrases_all.update(hf_stop_words_full_set)"
   ]
  },
  {
   "cell_type": "markdown",
   "id": "174c78ef",
   "metadata": {},
   "source": [
    "### 1.6 Eliminate <=5 time occuring words"
   ]
  },
  {
   "cell_type": "code",
   "execution_count": 142,
   "id": "8acd3a54",
   "metadata": {},
   "outputs": [],
   "source": [
    "# 6. Eliminate <=5 time occuring words \n",
    "def form_stop_words_by_frequency_less_than_5(frequency_dict, lower_limit):\n",
    "    stop_words_by_frequency=set()\n",
    "    for k,v in frequency_dict.items():\n",
    "        if v<=lower_limit:\n",
    "            stop_words_by_frequency.add(k)\n",
    "    return stop_words_by_frequency"
   ]
  },
  {
   "cell_type": "code",
   "execution_count": 143,
   "id": "38e7b366",
   "metadata": {},
   "outputs": [],
   "source": [
    "stop_words_full_by_frequency_5_times = form_stop_words_by_frequency_less_than_5(full_frequency,5)"
   ]
  },
  {
   "cell_type": "code",
   "execution_count": 144,
   "id": "9f4944bf",
   "metadata": {},
   "outputs": [],
   "source": [
    "stop_phrases_all.update(stop_words_full_by_frequency_5_times)"
   ]
  },
  {
   "cell_type": "code",
   "execution_count": 145,
   "id": "4ac8551b",
   "metadata": {},
   "outputs": [
    {
     "data": {
      "text/plain": [
       "15029"
      ]
     },
     "execution_count": 145,
     "metadata": {},
     "output_type": "execute_result"
    }
   ],
   "source": [
    "len(stop_phrases_all)"
   ]
  },
  {
   "cell_type": "code",
   "execution_count": 146,
   "id": "9bed38e9",
   "metadata": {},
   "outputs": [],
   "source": [
    "stop_phrases_all_list = list(stop_phrases_all)"
   ]
  },
  {
   "cell_type": "code",
   "execution_count": 147,
   "id": "a426513d",
   "metadata": {},
   "outputs": [],
   "source": [
    "with open('stop_phrases_all.pickle', 'wb') as file:\n",
    "    # Serialize the list and write it to the file\n",
    "    pickle.dump(stop_phrases_all_list, file)\n",
    "# Close the file\n",
    "file.close()"
   ]
  },
  {
   "cell_type": "code",
   "execution_count": 148,
   "id": "1b1036dc",
   "metadata": {},
   "outputs": [
    {
     "data": {
      "text/plain": [
       "\"import pickle\\n# Define the list to be saved\\nmy_list = [1, 2, 3, 4, 5]\\n# Open the file for writing\\nwith open('my_list.pickle', 'wb') as file:\\n    # Serialize the list and write it to the file\\n    pickle.dump(my_list, file)\\n# Close the file\\nfile.close()\\n\\n\\n# Open the file for reading\\nwith open('my_list.pickle', 'rb') as file:\\n    # Deserialize the list and assign it to a variable\\n    my_loaded_list = pickle.load(file)\\n# Print the loaded list\\nprint(my_loaded_list)\\n\""
      ]
     },
     "execution_count": 148,
     "metadata": {},
     "output_type": "execute_result"
    }
   ],
   "source": [
    "\"\"\"import pickle\n",
    "# Define the list to be saved\n",
    "my_list = [1, 2, 3, 4, 5]\n",
    "# Open the file for writing\n",
    "with open('my_list.pickle', 'wb') as file:\n",
    "    # Serialize the list and write it to the file\n",
    "    pickle.dump(my_list, file)\n",
    "# Close the file\n",
    "file.close()\n",
    "\n",
    "\n",
    "# Open the file for reading\n",
    "with open('my_list.pickle', 'rb') as file:\n",
    "    # Deserialize the list and assign it to a variable\n",
    "    my_loaded_list = pickle.load(file)\n",
    "# Print the loaded list\n",
    "print(my_loaded_list)\n",
    "\"\"\""
   ]
  },
  {
   "cell_type": "markdown",
   "id": "a7650d6d",
   "metadata": {},
   "source": [
    "### 1.7 Apply stop words"
   ]
  },
  {
   "cell_type": "code",
   "execution_count": 149,
   "id": "4dd61a22",
   "metadata": {},
   "outputs": [],
   "source": [
    "def delete_stop_words_not_in_phrases_all(text):\n",
    "    modified_x = [item for item in text.split(' ') if item not in stop_phrases_all]\n",
    "    no_stop_words_text = ' '.join(modified_x)\n",
    "    return no_stop_words_text"
   ]
  },
  {
   "cell_type": "code",
   "execution_count": 150,
   "id": "c3d92233",
   "metadata": {},
   "outputs": [
    {
     "name": "stdout",
     "output_type": "stream",
     "text": [
      "Current datatime: 2024-05-16 02:27:15.548492\n",
      "Execution time: 0.92 seconds\n"
     ]
    }
   ],
   "source": [
    "# 6. Lets apply stop words\n",
    "print ('Current datatime: {}'.format(datetime.datetime.now()))\n",
    "start_time = time.time()\n",
    "data_full['full_request_modified_lem_stop_words_applied'] = data_full['full_request_modified_lem'].apply(delete_stop_words_not_in_phrases_all)\n",
    "end_time = time.time()\n",
    "elapsed_time = end_time - start_time\n",
    "print(f'Execution time: {elapsed_time:.2f} seconds')"
   ]
  },
  {
   "cell_type": "code",
   "execution_count": 151,
   "id": "707878da",
   "metadata": {},
   "outputs": [
    {
     "data": {
      "text/plain": [
       "15029"
      ]
     },
     "execution_count": 151,
     "metadata": {},
     "output_type": "execute_result"
    }
   ],
   "source": [
    "len(stop_phrases_all)"
   ]
  },
  {
   "cell_type": "markdown",
   "id": "fb356a03",
   "metadata": {},
   "source": [
    "#### !!! save full cleaned and lemmatized data"
   ]
  },
  {
   "cell_type": "code",
   "execution_count": 83,
   "id": "3b21f0d7",
   "metadata": {},
   "outputs": [],
   "source": [
    "data_full.to_excel(r'data_full_cleaned_lemmatized_stopwords_applied_with_date_0805.xlsx')\n",
    "#data_full = pd.read_excel('data_full_cleaned_lemmatized_stopwords_applied_with_date_0805.xlsx', sheet_name='Sheet1')"
   ]
  },
  {
   "cell_type": "code",
   "execution_count": 148,
   "id": "c43adabb",
   "metadata": {},
   "outputs": [
    {
     "data": {
      "text/plain": [
       "(43407, 9)"
      ]
     },
     "execution_count": 148,
     "metadata": {},
     "output_type": "execute_result"
    }
   ],
   "source": [
    "data_full.shape"
   ]
  },
  {
   "cell_type": "code",
   "execution_count": 85,
   "id": "652c2062",
   "metadata": {},
   "outputs": [],
   "source": [
    "#ZNO.shape"
   ]
  },
  {
   "cell_type": "code",
   "execution_count": 86,
   "id": "ef9ab9fd",
   "metadata": {},
   "outputs": [],
   "source": [
    "#data_full.shape"
   ]
  },
  {
   "cell_type": "code",
   "execution_count": 87,
   "id": "2bc4428f",
   "metadata": {},
   "outputs": [],
   "source": [
    "#dfff =  pd.concat([data_full, ZNO], axis=1)"
   ]
  },
  {
   "cell_type": "code",
   "execution_count": 88,
   "id": "3ccbab67",
   "metadata": {},
   "outputs": [],
   "source": [
    "#data_full = dfff.copy()"
   ]
  },
  {
   "cell_type": "code",
   "execution_count": 222,
   "id": "a0c23515",
   "metadata": {},
   "outputs": [],
   "source": [
    "#data_full.head(1)"
   ]
  },
  {
   "cell_type": "code",
   "execution_count": 153,
   "id": "b6eff69d",
   "metadata": {},
   "outputs": [
    {
     "data": {
      "text/plain": [
       "Unnamed: 0                                       0\n",
       "ЗНО                                              0\n",
       "Тема ЗНО                                         0\n",
       "Информация                                      92\n",
       "Дата регистрации                                 0\n",
       "full_request                                     0\n",
       "full_request_modified                            0\n",
       "full_request_modified_lem                        0\n",
       "full_request_modified_lem_stop_words_applied     0\n",
       "dtype: int64"
      ]
     },
     "execution_count": 153,
     "metadata": {},
     "output_type": "execute_result"
    }
   ],
   "source": [
    "data_full.isna().sum()"
   ]
  },
  {
   "cell_type": "code",
   "execution_count": 154,
   "id": "b3183535",
   "metadata": {},
   "outputs": [],
   "source": [
    "data_full.dropna(inplace=True)"
   ]
  },
  {
   "cell_type": "code",
   "execution_count": 155,
   "id": "800b652e",
   "metadata": {},
   "outputs": [],
   "source": [
    "# 7. Calculate the frequencey\n",
    "frequency_full_after_lem = defaultdict(int)\n",
    "def calculate_word_frequency_after_lem(text):\n",
    "    text2list = text.split(' ')\n",
    "    for token in text2list:\n",
    "        frequency_full_after_lem[token]+=1"
   ]
  },
  {
   "cell_type": "code",
   "execution_count": 156,
   "id": "d63c1335",
   "metadata": {},
   "outputs": [
    {
     "data": {
      "text/plain": [
       "0        None\n",
       "1        None\n",
       "2        None\n",
       "3        None\n",
       "4        None\n",
       "         ... \n",
       "43402    None\n",
       "43403    None\n",
       "43404    None\n",
       "43405    None\n",
       "43406    None\n",
       "Name: full_request_modified_lem_stop_words_applied, Length: 43315, dtype: object"
      ]
     },
     "execution_count": 156,
     "metadata": {},
     "output_type": "execute_result"
    }
   ],
   "source": [
    "# calculate frequency\n",
    "data_full['full_request_modified_lem_stop_words_applied'].apply(calculate_word_frequency_after_lem)"
   ]
  },
  {
   "cell_type": "code",
   "execution_count": 157,
   "id": "fe8198df",
   "metadata": {},
   "outputs": [],
   "source": [
    "#frequency_full_after_lemm"
   ]
  },
  {
   "cell_type": "code",
   "execution_count": 158,
   "id": "f43f19fd",
   "metadata": {},
   "outputs": [],
   "source": [
    "#[x for x in sorted(frequency_full_after_lem.items(), key=lambda x: x[1], reverse = True)]"
   ]
  },
  {
   "cell_type": "code",
   "execution_count": 159,
   "id": "47628bd5",
   "metadata": {},
   "outputs": [],
   "source": [
    "additional_stop_words = set([\"*\", \"pangolin\", \"postgresql\", \"tvldd\", \"delta\", \"se\", \"tklid\", \"pvlad\", \"pvlod\", \"это\", \"коллега\", \"tvlad\", \"efs\", \"openshift\"])"
   ]
  },
  {
   "cell_type": "code",
   "execution_count": 160,
   "id": "6f29abf1",
   "metadata": {},
   "outputs": [],
   "source": [
    "stop_phrases_all.update(additional_stop_words)"
   ]
  },
  {
   "cell_type": "code",
   "execution_count": 161,
   "id": "2263b75c",
   "metadata": {},
   "outputs": [
    {
     "data": {
      "text/plain": [
       "15035"
      ]
     },
     "execution_count": 161,
     "metadata": {},
     "output_type": "execute_result"
    }
   ],
   "source": [
    "len(stop_phrases_all)"
   ]
  },
  {
   "cell_type": "code",
   "execution_count": 162,
   "id": "8543d5df",
   "metadata": {},
   "outputs": [
    {
     "name": "stdout",
     "output_type": "stream",
     "text": [
      "Current datatime: 2024-05-16 02:27:47.200683\n",
      "Execution time: 0.69 seconds\n"
     ]
    }
   ],
   "source": [
    "# 8. Lets apply stop words\n",
    "print ('Current datatime: {}'.format(datetime.datetime.now()))\n",
    "start_time = time.time()\n",
    "data_full['full_request_modified_lem_stop_words_applied'] = data_full['full_request_modified_lem_stop_words_applied'].apply(delete_stop_words_not_in_phrases_all)\n",
    "end_time = time.time()\n",
    "elapsed_time = end_time - start_time\n",
    "print(f'Execution time: {elapsed_time:.2f} seconds')"
   ]
  },
  {
   "cell_type": "code",
   "execution_count": 163,
   "id": "1f1cd4ec",
   "metadata": {},
   "outputs": [],
   "source": [
    "# Dictionary and function to calculate the frequency\n",
    "full_set_frequency = defaultdict(int)\n",
    "def calculate_word_frequency_full_set(text):\n",
    "    text2list = text.split(' ')\n",
    "    for token in text2list:\n",
    "        full_set_frequency[token]+=1"
   ]
  },
  {
   "cell_type": "code",
   "execution_count": 164,
   "id": "1be3bbb8",
   "metadata": {},
   "outputs": [
    {
     "data": {
      "text/plain": [
       "0        None\n",
       "1        None\n",
       "2        None\n",
       "3        None\n",
       "4        None\n",
       "         ... \n",
       "43402    None\n",
       "43403    None\n",
       "43404    None\n",
       "43405    None\n",
       "43406    None\n",
       "Name: full_request_modified_lem_stop_words_applied, Length: 43315, dtype: object"
      ]
     },
     "execution_count": 164,
     "metadata": {},
     "output_type": "execute_result"
    }
   ],
   "source": [
    "# Lets calculate the frequency of words using full_request lemmatized column\n",
    "data_full['full_request_modified_lem_stop_words_applied'].apply(calculate_word_frequency_full_set)"
   ]
  },
  {
   "cell_type": "code",
   "execution_count": 165,
   "id": "98094c9f",
   "metadata": {},
   "outputs": [],
   "source": [
    "#full_set_frequency"
   ]
  },
  {
   "cell_type": "markdown",
   "id": "1259f17f",
   "metadata": {},
   "source": [
    "### 1.8 Leave only 95% percentile words"
   ]
  },
  {
   "cell_type": "code",
   "execution_count": 166,
   "id": "7ab68a45",
   "metadata": {},
   "outputs": [],
   "source": [
    "# Lets bulid auxilary dataframe to calculate the frequency 95% range\n",
    "full_set_frequency_values = full_set_frequency.values()\n",
    "full_set_frequency_keys = full_set_frequency.keys()\n",
    "full_set_df_freq = pd.DataFrame()\n",
    "full_set_df_freq = pd.concat([pd.Series(full_set_frequency_values), pd.Series(full_set_frequency_keys)], axis=1)\n",
    "full_set_df_freq.columns = ['counts', 'word']"
   ]
  },
  {
   "cell_type": "code",
   "execution_count": 167,
   "id": "f173e017",
   "metadata": {},
   "outputs": [],
   "source": [
    "# Calculate the percentage (building Paretto rule)\n",
    "summ = full_set_df_freq['counts'].sum()\n",
    "full_set_df_freq['percent'] = full_set_df_freq['counts'].apply(lambda x: round(x/summ*100,4))\n",
    "full_set_df_freq = full_set_df_freq.sort_values(by='counts', ascending=False)\n",
    "full_set_df_freq['cumul_percent'] = 100*(full_set_df_freq.percent.cumsum() / full_set_df_freq.percent.sum())"
   ]
  },
  {
   "cell_type": "code",
   "execution_count": 223,
   "id": "7062275e",
   "metadata": {},
   "outputs": [],
   "source": [
    "#full_set_df_freq.head(30)"
   ]
  },
  {
   "cell_type": "code",
   "execution_count": 224,
   "id": "8fc44d32",
   "metadata": {},
   "outputs": [],
   "source": [
    "#full_set_df_freq.tail(30)"
   ]
  },
  {
   "cell_type": "code",
   "execution_count": 170,
   "id": "3a9df25d",
   "metadata": {},
   "outputs": [],
   "source": [
    "full_set_stopwords_opt_95range = full_set_df_freq[full_set_df_freq['cumul_percent']>95]['word']\n",
    "full_set_stopwords_opt_95range_set = set(full_set_stopwords_opt_95range)"
   ]
  },
  {
   "cell_type": "code",
   "execution_count": 171,
   "id": "b9d23132",
   "metadata": {},
   "outputs": [],
   "source": [
    "stop_phrases_all.update(full_set_stopwords_opt_95range_set)"
   ]
  },
  {
   "cell_type": "code",
   "execution_count": 172,
   "id": "f731a451",
   "metadata": {},
   "outputs": [],
   "source": [
    "stop_phrases_all.update(set([\"pg\", \"postgresql\", \"pplad\"]))"
   ]
  },
  {
   "cell_type": "code",
   "execution_count": 173,
   "id": "a8c6dd69",
   "metadata": {},
   "outputs": [
    {
     "name": "stdout",
     "output_type": "stream",
     "text": [
      "Current datatime: 2024-05-16 02:27:56.980809\n",
      "Execution time: 0.63 seconds\n"
     ]
    }
   ],
   "source": [
    "# 8. Lets apply stop words\n",
    "print ('Current datatime: {}'.format(datetime.datetime.now()))\n",
    "start_time = time.time()\n",
    "data_full['full_request_modified_lem_stop_words_applied'] = data_full['full_request_modified_lem_stop_words_applied'].apply(delete_stop_words_not_in_phrases_all)\n",
    "end_time = time.time()\n",
    "elapsed_time = end_time - start_time\n",
    "print(f'Execution time: {elapsed_time:.2f} seconds')"
   ]
  },
  {
   "cell_type": "code",
   "execution_count": 225,
   "id": "6b06a59c",
   "metadata": {},
   "outputs": [
    {
     "data": {
      "text/plain": [
       "'for i in range(10):\\n    print(\"---\")\\n    print(i, \": len = \", len(data_full[\\'full_request_modified_lem_stop_words_applied\\'][i]))\\n    print(data_full[\\'full_request_modified_lem_stop_words_applied\\'][i])\\n    '"
      ]
     },
     "execution_count": 225,
     "metadata": {},
     "output_type": "execute_result"
    }
   ],
   "source": [
    "\"\"\"for i in range(10):\n",
    "    print(\"---\")\n",
    "    print(i, \": len = \", len(data_full['full_request_modified_lem_stop_words_applied'][i]))\n",
    "    print(data_full['full_request_modified_lem_stop_words_applied'][i])\n",
    "    \"\"\""
   ]
  },
  {
   "cell_type": "markdown",
   "id": "f511428f",
   "metadata": {},
   "source": [
    "### 1.9 Let us apply bigramm model"
   ]
  },
  {
   "cell_type": "code",
   "execution_count": 175,
   "id": "785f61c8",
   "metadata": {},
   "outputs": [],
   "source": [
    "data_full['full_request_tokenized'] = data_full['full_request_modified_lem_stop_words_applied'].apply(simple_tokenize)"
   ]
  },
  {
   "cell_type": "code",
   "execution_count": 176,
   "id": "9f21a622",
   "metadata": {},
   "outputs": [
    {
     "data": {
      "text/plain": [
       "(43315, 10)"
      ]
     },
     "execution_count": 176,
     "metadata": {},
     "output_type": "execute_result"
    }
   ],
   "source": [
    "data_full.shape"
   ]
  },
  {
   "cell_type": "code",
   "execution_count": 177,
   "id": "0b01553b",
   "metadata": {},
   "outputs": [],
   "source": [
    "data_words = data_full['full_request_tokenized']\n",
    "\n",
    "# Build the bigram and trigram models\n",
    "bigram = gensim.models.Phrases(data_words, min_count=7, threshold=100) # higher threshold fewer phrases.\n",
    "trigram = gensim.models.Phrases(bigram[data_words], threshold=100)  \n",
    "\n",
    "# Faster way to get a sentence clubbed as a trigram/bigram\n",
    "bigram_mod = gensim.models.phrases.Phraser(bigram)\n",
    "#trigram_mod = gensim.models.phrases.Phraser(trigram)\n",
    "\n",
    "def make_bigrams(texts):\n",
    "    return [bigram_mod[doc] for doc in texts]\n",
    "\n",
    "def make_trigrams(texts):\n",
    "    return [trigram_mod[bigram_mod[doc]] for doc in texts]\n",
    "\n",
    "full_data_words_bigrams = make_bigrams(data_words)\n",
    "\n",
    "# Build Dictionary\n",
    "id2word = corpora.Dictionary(full_data_words_bigrams)\n",
    "# Build Corpus\n",
    "texts = full_data_words_bigrams\n",
    "# Build Term Document Matrix\n",
    "corpus = [id2word.doc2bow(text) for text in texts]\n"
   ]
  },
  {
   "cell_type": "markdown",
   "id": "e82011ac",
   "metadata": {},
   "source": [
    "#### 1.9.1 First probe model for the full dataset"
   ]
  },
  {
   "cell_type": "code",
   "execution_count": 151,
   "id": "628aad58",
   "metadata": {},
   "outputs": [
    {
     "name": "stdout",
     "output_type": "stream",
     "text": [
      "Model Perplexity:  -5.995968043955585\n",
      "Model Coherence Score:  0.5657664963344592\n"
     ]
    }
   ],
   "source": [
    "# first probe model\n",
    "probe_model = gensim.models.ldamodel.LdaModel(corpus=corpus,\n",
    "                                   id2word=id2word,\n",
    "                                   num_topics=15, \n",
    "                                   random_state=100,\n",
    "                                   update_every=1,\n",
    "                                   chunksize=500,\n",
    "                                   passes=30,\n",
    "                                   alpha='auto',\n",
    "                                   per_word_topics=True)\n",
    "\n",
    "#  Lets calculate the perplexity of the model\n",
    "print('Model Perplexity: ', probe_model.log_perplexity(corpus))  # the lower the better\n",
    "\n",
    "#  Coherence Score\n",
    "coherence_model_lda = CoherenceModel(model=probe_model, texts=texts, dictionary=id2word, coherence='c_v')\n",
    "coherence_lda = coherence_model_lda.get_coherence()\n",
    "print('Model Coherence Score: ', coherence_lda)"
   ]
  },
  {
   "cell_type": "code",
   "execution_count": 152,
   "id": "73a99184",
   "metadata": {},
   "outputs": [],
   "source": [
    "results_full = {}"
   ]
  },
  {
   "cell_type": "code",
   "execution_count": 153,
   "id": "fa7bce02",
   "metadata": {},
   "outputs": [],
   "source": [
    "results_full[\"1.9\"] = round(coherence_lda, 3)"
   ]
  },
  {
   "cell_type": "code",
   "execution_count": 226,
   "id": "25777f9e",
   "metadata": {},
   "outputs": [],
   "source": [
    "#probe_model.print_topics()"
   ]
  },
  {
   "cell_type": "markdown",
   "id": "f16ca3f5",
   "metadata": {},
   "source": [
    "### 1.10 Lets find the optimal number of topics"
   ]
  },
  {
   "cell_type": "code",
   "execution_count": 298,
   "id": "6f62226d",
   "metadata": {},
   "outputs": [],
   "source": [
    "start = 8\n",
    "step = 3\n",
    "limit = 21\n",
    "\n",
    "def calculate_coherence(dictionary, corpus, texts, limit, start, step):\n",
    "    coherences = []\n",
    "    models = []\n",
    "    for num_topics in range(start, limit, step):\n",
    "        model = gensim.models.ldamodel.LdaModel(corpus=corpus,\n",
    "                                           id2word=id2word,\n",
    "                                           num_topics=num_topics, \n",
    "                                           random_state=100,\n",
    "                                           update_every=1,\n",
    "                                           chunksize=700,\n",
    "                                           passes=30,\n",
    "                                           alpha='auto',\n",
    "                                           per_word_topics=True)\n",
    "        models.append(model)\n",
    "        coherencemodel = CoherenceModel(model=model, texts=texts, dictionary=id2word, coherence='c_v')\n",
    "        coherences.append(coherencemodel.get_coherence())\n",
    "\n",
    "    return models, coherences"
   ]
  },
  {
   "cell_type": "code",
   "execution_count": 299,
   "id": "b11a5a17",
   "metadata": {},
   "outputs": [
    {
     "name": "stdout",
     "output_type": "stream",
     "text": [
      "Current datatime: 2024-05-13 22:24:53.007630\n",
      "Execution time: 2388.00 seconds\n"
     ]
    }
   ],
   "source": [
    "# Time consuming task\n",
    "start_time = time.time()\n",
    "print ('Current datatime: {}'.format(datetime.datetime.now()))\n",
    "models, coherences = calculate_coherence(dictionary=id2word, corpus=corpus, texts=texts, start=start, limit=limit, step=step)\n",
    "end_time = time.time()\n",
    "elapsed_time = end_time - start_time\n",
    "print(f'Execution time: {elapsed_time:.2f} seconds')"
   ]
  },
  {
   "cell_type": "code",
   "execution_count": 300,
   "id": "6801d3e8",
   "metadata": {},
   "outputs": [
    {
     "data": {
      "image/png": "[encoded data removed]",
      "text/plain": [
       "<Figure size 640x480 with 1 Axes>"
      ]
     },
     "metadata": {},
     "output_type": "display_data"
    }
   ],
   "source": [
    "# Show graph\n",
    "#limit=30; start=5; step=5;\n",
    "x = range(start, limit, step)\n",
    "plt.plot(x, coherences)\n",
    "plt.xlabel(\"Num Topics\")\n",
    "plt.ylabel(\"Coherence score\")\n",
    "plt.legend((\"coherence_values\"), loc='best')\n",
    "plt.show()"
   ]
  },
  {
   "cell_type": "code",
   "execution_count": 301,
   "id": "33d43513",
   "metadata": {},
   "outputs": [
    {
     "name": "stdout",
     "output_type": "stream",
     "text": [
      "Num Topics = 8  has Coherence Value of 0.5379\n",
      "Num Topics = 11  has Coherence Value of 0.5537\n",
      "Num Topics = 14  has Coherence Value of 0.5583\n",
      "Num Topics = 17  has Coherence Value of 0.6019\n",
      "Num Topics = 20  has Coherence Value of 0.5623\n"
     ]
    }
   ],
   "source": [
    "# Print the coherence scores\n",
    "for m, cv in zip(x, coherences):\n",
    "    print(\"Num Topics =\", m, \" has Coherence Value of\", round(cv, 4))"
   ]
  },
  {
   "cell_type": "markdown",
   "id": "f20a034c",
   "metadata": {},
   "source": [
    "Lets use 15 topics further"
   ]
  },
  {
   "cell_type": "markdown",
   "id": "55e31e42",
   "metadata": {},
   "source": [
    "### 1.11 Lets find the optimal chunk size"
   ]
  },
  {
   "cell_type": "markdown",
   "id": "4093acd9",
   "metadata": {},
   "source": [
    "Part 1:"
   ]
  },
  {
   "cell_type": "code",
   "execution_count": 302,
   "id": "9678d9fa",
   "metadata": {},
   "outputs": [
    {
     "data": {
      "text/plain": [
       "43407"
      ]
     },
     "execution_count": 302,
     "metadata": {},
     "output_type": "execute_result"
    }
   ],
   "source": [
    "len(data_words)"
   ]
  },
  {
   "cell_type": "code",
   "execution_count": 303,
   "id": "f1b332e2",
   "metadata": {},
   "outputs": [
    {
     "name": "stdout",
     "output_type": "stream",
     "text": [
      "limit:  15469 start:  700 step:  5000\n"
     ]
    }
   ],
   "source": [
    "limit = round(len(data_words)/3)+1000\n",
    "start = 700\n",
    "temp = round(limit/10)\n",
    "step = 5000\n",
    "print(\"limit: \", limit, \"start: \", start, \"step: \",step)"
   ]
  },
  {
   "cell_type": "code",
   "execution_count": 304,
   "id": "e7b4be93",
   "metadata": {},
   "outputs": [],
   "source": [
    "def calculate_coherence(dictionary, corpus, texts, limit, start, step):\n",
    "    coherences = []\n",
    "    models = []\n",
    "    for chunksize in range(start, limit, step):\n",
    "        model = gensim.models.ldamodel.LdaModel(corpus=corpus,\n",
    "                                           id2word=id2word,\n",
    "                                           num_topics=17, \n",
    "                                           random_state=100,\n",
    "                                           update_every=1,\n",
    "                                           chunksize=chunksize,\n",
    "                                           passes=50,\n",
    "                                           alpha='auto',\n",
    "                                           per_word_topics=True)\n",
    "        models.append(model)\n",
    "        coherencemodel = CoherenceModel(model=model, texts=texts, dictionary=id2word, coherence='c_v')\n",
    "        coherences.append(coherencemodel.get_coherence())\n",
    "\n",
    "    return models, coherences"
   ]
  },
  {
   "cell_type": "code",
   "execution_count": 305,
   "id": "26b4eaf9",
   "metadata": {},
   "outputs": [
    {
     "name": "stdout",
     "output_type": "stream",
     "text": [
      "Current datatime: 2024-05-13 23:04:41.328020\n",
      "Execution time: 2570.90 seconds\n"
     ]
    }
   ],
   "source": [
    "# Time consuming task\n",
    "start_time = time.time()\n",
    "print ('Current datatime: {}'.format(datetime.datetime.now()))\n",
    "models, coherences = calculate_coherence(dictionary=id2word, corpus=corpus, texts=texts, start=start, limit=limit, step=step)\n",
    "end_time = time.time()\n",
    "elapsed_time = end_time - start_time\n",
    "print(f'Execution time: {elapsed_time:.2f} seconds')"
   ]
  },
  {
   "cell_type": "code",
   "execution_count": 306,
   "id": "5685d0ce",
   "metadata": {},
   "outputs": [
    {
     "data": {
      "image/png": "[encoded data removed]",
      "text/plain": [
       "<Figure size 640x480 with 1 Axes>"
      ]
     },
     "metadata": {},
     "output_type": "display_data"
    }
   ],
   "source": [
    "# Show graph\n",
    "#limit=30; start=5; step=5;\n",
    "x = range(start, limit, step)\n",
    "plt.plot(x, coherences)\n",
    "plt.xlabel(\"Chunk Size\")\n",
    "plt.ylabel(\"Coherence score\")\n",
    "plt.legend((\"coherence_values\"), loc='best')\n",
    "plt.show()"
   ]
  },
  {
   "cell_type": "code",
   "execution_count": 307,
   "id": "16520616",
   "metadata": {},
   "outputs": [
    {
     "name": "stdout",
     "output_type": "stream",
     "text": [
      "Chunk Size = 700  has Coherence Value of 0.6053\n",
      "Chunk Size = 5700  has Coherence Value of 0.6542\n",
      "Chunk Size = 10700  has Coherence Value of 0.6009\n"
     ]
    }
   ],
   "source": [
    "# Print the coherence scores\n",
    "for m, cv in zip(x, coherences):\n",
    "    print(\"Chunk Size =\", m, \" has Coherence Value of\", round(cv, 4))"
   ]
  },
  {
   "cell_type": "markdown",
   "id": "d45fe9d3",
   "metadata": {},
   "source": [
    "Part 2"
   ]
  },
  {
   "cell_type": "code",
   "execution_count": 308,
   "id": "29322b7c",
   "metadata": {},
   "outputs": [
    {
     "name": "stdout",
     "output_type": "stream",
     "text": [
      "limit:  5000 start:  300 step:  200\n"
     ]
    }
   ],
   "source": [
    "limit = 5000\n",
    "start = 300\n",
    "temp = round(limit/20)\n",
    "step = 200\n",
    "print(\"limit: \", limit, \"start: \", start, \"step: \",step)"
   ]
  },
  {
   "cell_type": "code",
   "execution_count": 309,
   "id": "0b7f5a7c",
   "metadata": {},
   "outputs": [
    {
     "name": "stdout",
     "output_type": "stream",
     "text": [
      "Current datatime: 2024-05-13 23:47:32.480711\n",
      "Execution time: 21977.91 seconds\n"
     ]
    }
   ],
   "source": [
    "# Time consuming task\n",
    "start_time = time.time()\n",
    "print ('Current datatime: {}'.format(datetime.datetime.now()))\n",
    "models, coherences = calculate_coherence(dictionary=id2word, corpus=corpus, texts=texts, start=start, limit=limit, step=step)\n",
    "end_time = time.time()\n",
    "elapsed_time = end_time - start_time\n",
    "print(f'Execution time: {elapsed_time:.2f} seconds')"
   ]
  },
  {
   "cell_type": "code",
   "execution_count": 310,
   "id": "5f1a5931",
   "metadata": {},
   "outputs": [
    {
     "data": {
      "image/png": "[encoded data removed]",
      "text/plain": [
       "<Figure size 640x480 with 1 Axes>"
      ]
     },
     "metadata": {},
     "output_type": "display_data"
    }
   ],
   "source": [
    "# Show graph\n",
    "#limit=30; start=5; step=5;\n",
    "x = range(start, limit, step)\n",
    "plt.plot(x, coherences)\n",
    "plt.xlabel(\"Chunk Size\")\n",
    "plt.ylabel(\"Coherence score\")\n",
    "plt.legend((\"coherence_values\"), loc='best')\n",
    "plt.show()"
   ]
  },
  {
   "cell_type": "code",
   "execution_count": 311,
   "id": "d99877bd",
   "metadata": {
    "scrolled": true
   },
   "outputs": [
    {
     "name": "stdout",
     "output_type": "stream",
     "text": [
      "Chunk Size = 300  has Coherence Value of 0.5289\n",
      "Chunk Size = 500  has Coherence Value of 0.5524\n",
      "Chunk Size = 700  has Coherence Value of 0.6053\n",
      "Chunk Size = 900  has Coherence Value of 0.564\n",
      "Chunk Size = 1100  has Coherence Value of 0.5929\n",
      "Chunk Size = 1300  has Coherence Value of 0.5954\n",
      "Chunk Size = 1500  has Coherence Value of 0.6252\n",
      "Chunk Size = 1700  has Coherence Value of 0.6155\n",
      "Chunk Size = 1900  has Coherence Value of 0.6124\n",
      "Chunk Size = 2100  has Coherence Value of 0.6118\n",
      "Chunk Size = 2300  has Coherence Value of 0.6082\n",
      "Chunk Size = 2500  has Coherence Value of 0.6054\n",
      "Chunk Size = 2700  has Coherence Value of 0.5958\n",
      "Chunk Size = 2900  has Coherence Value of 0.5943\n",
      "Chunk Size = 3100  has Coherence Value of 0.5993\n",
      "Chunk Size = 3300  has Coherence Value of 0.6165\n",
      "Chunk Size = 3500  has Coherence Value of 0.6108\n",
      "Chunk Size = 3700  has Coherence Value of 0.63\n",
      "Chunk Size = 3900  has Coherence Value of 0.6297\n",
      "Chunk Size = 4100  has Coherence Value of 0.6079\n",
      "Chunk Size = 4300  has Coherence Value of 0.5926\n",
      "Chunk Size = 4500  has Coherence Value of 0.6371\n",
      "Chunk Size = 4700  has Coherence Value of 0.6195\n",
      "Chunk Size = 4900  has Coherence Value of 0.6101\n"
     ]
    }
   ],
   "source": [
    "# Print the coherence scores\n",
    "for m, cv in zip(x, coherences):\n",
    "    print(\"Chunk Size =\", m, \" has Coherence Value of\", round(cv, 4))"
   ]
  },
  {
   "cell_type": "markdown",
   "id": "6ae187f9",
   "metadata": {},
   "source": [
    "### Chunk size = 5700, n_topics =14"
   ]
  },
  {
   "cell_type": "code",
   "execution_count": 178,
   "id": "967c7176",
   "metadata": {},
   "outputs": [],
   "source": [
    "# first probe model\n",
    "full_best_model = gensim.models.ldamodel.LdaModel(corpus=corpus,\n",
    "                                   id2word=id2word,\n",
    "                                   num_topics=14, \n",
    "                                   random_state=100,\n",
    "                                   update_every=1,\n",
    "                                   chunksize=5700,\n",
    "                                   passes=50,\n",
    "                                   alpha='auto',\n",
    "                                   per_word_topics=True)"
   ]
  },
  {
   "cell_type": "code",
   "execution_count": 179,
   "id": "43286570",
   "metadata": {},
   "outputs": [
    {
     "data": {
      "text/plain": [
       "43315"
      ]
     },
     "execution_count": 179,
     "metadata": {},
     "output_type": "execute_result"
    }
   ],
   "source": [
    "len(corpus)"
   ]
  },
  {
   "cell_type": "code",
   "execution_count": 180,
   "id": "25e503a1",
   "metadata": {},
   "outputs": [
    {
     "name": "stdout",
     "output_type": "stream",
     "text": [
      "Model Perplexity:  -5.183570743618501\n",
      "Model Coherence Score:  0.6533223038040669\n"
     ]
    }
   ],
   "source": [
    "#  Lets calculate the perplexity of the model\n",
    "print('Model Perplexity: ', full_best_model.log_perplexity(corpus))  # the lower the better\n",
    "\n",
    "#  Coherence Score\n",
    "coherence_model_lda = CoherenceModel(model=full_best_model, texts=texts, dictionary=id2word, coherence='c_v')\n",
    "coherence_lda = coherence_model_lda.get_coherence()\n",
    "print('Model Coherence Score: ', coherence_lda)"
   ]
  },
  {
   "cell_type": "code",
   "execution_count": 227,
   "id": "88b0ceb3",
   "metadata": {},
   "outputs": [],
   "source": [
    "#full_best_model.print_topics()"
   ]
  },
  {
   "cell_type": "code",
   "execution_count": 187,
   "id": "d46d7982",
   "metadata": {},
   "outputs": [],
   "source": [
    "temp_file = datapath(\"full_best_model\")\n",
    "full_best_model.save(temp_file)"
   ]
  },
  {
   "cell_type": "markdown",
   "id": "5baeec05",
   "metadata": {},
   "source": [
    "#### ---------"
   ]
  },
  {
   "cell_type": "code",
   "execution_count": 188,
   "id": "e77efd7c",
   "metadata": {},
   "outputs": [
    {
     "data": {
      "text/plain": [
       "'\\n# Build Dictionary\\nid2word = corpora.Dictionary(full_data_words_bigrams)\\n# Build Corpus\\ntexts = full_data_words_bigrams\\n# Build Term Document Matrix\\ncorpus = [id2word.doc2bow(text) for text in texts]\\n'"
      ]
     },
     "execution_count": 188,
     "metadata": {},
     "output_type": "execute_result"
    }
   ],
   "source": [
    "\"\"\"\n",
    "# Build Dictionary\n",
    "id2word = corpora.Dictionary(full_data_words_bigrams)\n",
    "# Build Corpus\n",
    "texts = full_data_words_bigrams\n",
    "# Build Term Document Matrix\n",
    "corpus = [id2word.doc2bow(text) for text in texts]\n",
    "\"\"\""
   ]
  },
  {
   "cell_type": "code",
   "execution_count": 189,
   "id": "f43ba6f8",
   "metadata": {},
   "outputs": [],
   "source": [
    "# Build topic keywords\n",
    "def retrieve_topic_keywords_from_request(ldamodel, corpus, texts, num_topics, num_words):\n",
    "    # Init output\n",
    "    sent_topics_df = pd.DataFrame()\n",
    "    temp_list = []\n",
    "    \n",
    "    # для каждого предложения - наиболее вероятные тема id, и ее вероятность\n",
    "    topic_probability = ldamodel.get_document_topics(corpus, minimum_probability=None, minimum_phi_value=None, per_word_topics=False)\n",
    "\n",
    "    # вывод наиболее значимых тем и слов к ним\n",
    "    \n",
    "    # Get main topic in each document\n",
    "    for i in range(len(corpus)):  \n",
    "        #row = sorted(topic_probability[i], key=lambda x: (x[1]), reverse=True)\n",
    "        highest_topic_prob = sorted(topic_probability[i], key=lambda x: (x[1]), reverse=True)[0]\n",
    "        topic_id = highest_topic_prob[0]\n",
    "        probability = highest_topic_prob[1]\n",
    "        \n",
    "        words_with_probabilities = ldamodel.show_topic(topic_id)\n",
    "        topic_keywords = \", \".join([word for word, prop in words_with_probabilities])\n",
    "        temp_series = pd.DataFrame([[int(topic_id), round(probability,2), topic_keywords]])\n",
    "        sent_topics_df = pd.concat([sent_topics_df, temp_series])\n",
    "        #sent_topics_df = sent_topics_df.concat(pd.Series([int(topic_id), round(probability,2), topic_keywords]), ignore_index=True)\n",
    "\n",
    "    sent_topics_df.columns = ['key_topic', 'topic_probability', 'top_keywords']\n",
    "\n",
    "    # Add request as a column\n",
    "    #requests = pd.DataFrame(texts)\n",
    "    #result = pd.concat([sent_topics_df, requests], axis=1)\n",
    "    \n",
    "    return sent_topics_df\n",
    "\n",
    "# Let us build the DataFrame with Topic overall probability, top keywords for each request\n",
    "df_requests_topic_keywords_full = retrieve_topic_keywords_from_request(ldamodel=full_best_model, corpus=corpus, \n",
    "                                                  texts=texts, num_topics = 14, num_words=10)\n",
    "df_requests_topic_keywords_full.reset_index(drop=True, inplace = True)\n"
   ]
  },
  {
   "cell_type": "code",
   "execution_count": 190,
   "id": "2eaa320f",
   "metadata": {},
   "outputs": [],
   "source": [
    "req_full = pd.DataFrame(data_full)"
   ]
  },
  {
   "cell_type": "code",
   "execution_count": 191,
   "id": "224685f8",
   "metadata": {},
   "outputs": [],
   "source": [
    "req_full.reset_index(drop=True, inplace = True)"
   ]
  },
  {
   "cell_type": "code",
   "execution_count": 192,
   "id": "f7e2821d",
   "metadata": {},
   "outputs": [],
   "source": [
    "analysis = pd.concat([df_requests_topic_keywords_full, req_full], axis=1)"
   ]
  },
  {
   "cell_type": "code",
   "execution_count": 228,
   "id": "081b509f",
   "metadata": {},
   "outputs": [],
   "source": [
    "#analysis.head(1)"
   ]
  },
  {
   "cell_type": "code",
   "execution_count": 195,
   "id": "e0e8b1a6",
   "metadata": {},
   "outputs": [],
   "source": [
    "short_validation_df = analysis[(analysis['topic_probability']>0.001)&(analysis['Дата регистрации']>'2021-01-01')]"
   ]
  },
  {
   "cell_type": "code",
   "execution_count": 196,
   "id": "a90b8a44",
   "metadata": {},
   "outputs": [],
   "source": [
    "short_validation_df.to_excel(\"validation.xlsx\")"
   ]
  },
  {
   "cell_type": "code",
   "execution_count": 197,
   "id": "dcd220bb",
   "metadata": {},
   "outputs": [],
   "source": [
    "# # of docs for each topic\n",
    "topic_counts_validation = short_validation_df['key_topic'].value_counts()\n",
    "#topic_counts\n",
    "\n",
    "# % of docs for each topic\n",
    "topic_contribution_validation = round(topic_counts_validation/topic_counts_validation.sum(), 4)\n",
    "#topic_contribution\n",
    "\n",
    "def build_topics(ldamodel):\n",
    "    # Init output\n",
    "    temp_df = pd.DataFrame()\n",
    "    \n",
    "    for topic_id in list(topic_contribution_validation.index):\n",
    "        counts = topic_counts_validation[topic_id]\n",
    "        percent = topic_contribution_validation[topic_id]\n",
    "        words_with_probabilities = ldamodel.show_topic(topic_id)\n",
    "        topic_keywords = \", \".join([word for word, prop in words_with_probabilities])\n",
    "        row_df = pd.DataFrame([[int(topic_id), counts, percent, topic_keywords]])\n",
    "        \n",
    "        temp_df = pd.concat([temp_df, row_df], ignore_index=True)\n",
    "\n",
    "    temp_df.columns = ['topic_id', 'counts', 'percent', 'keywords']\n",
    "    return temp_df      \n",
    "\n",
    "df_topics_counts_percent_validation = build_topics(full_best_model)\n",
    "\n"
   ]
  },
  {
   "cell_type": "code",
   "execution_count": 229,
   "id": "2d2256af",
   "metadata": {
    "scrolled": true
   },
   "outputs": [
    {
     "data": {
      "text/plain": [
       "'for i in range(df_topics_counts_percent_validation.shape[0]):\\n    percent = df_topics_counts_percent_validation[\\'percent\\'][i]\\n    counts = df_topics_counts_percent_validation[\\'counts\\'][i]\\n    keywords = df_topics_counts_percent_validation[\\'keywords\\'][i]\\n    print(i, \" :  % = \", percent, \" counts: = \", counts, \" keywords = \", keywords )\\n    print(\"---\")\\n    '"
      ]
     },
     "execution_count": 229,
     "metadata": {},
     "output_type": "execute_result"
    }
   ],
   "source": [
    "\"\"\"for i in range(df_topics_counts_percent_validation.shape[0]):\n",
    "    percent = df_topics_counts_percent_validation['percent'][i]\n",
    "    counts = df_topics_counts_percent_validation['counts'][i]\n",
    "    keywords = df_topics_counts_percent_validation['keywords'][i]\n",
    "    print(i, \" :  % = \", percent, \" counts: = \", counts, \" keywords = \", keywords )\n",
    "    print(\"---\")\n",
    "    \"\"\""
   ]
  },
  {
   "cell_type": "code",
   "execution_count": null,
   "id": "90df5076",
   "metadata": {},
   "outputs": [],
   "source": []
  },
  {
   "cell_type": "markdown",
   "id": "df49e339",
   "metadata": {},
   "source": [
    "### -----"
   ]
  },
  {
   "cell_type": "markdown",
   "id": "7e13f5f5",
   "metadata": {},
   "source": [
    "## Let us check if LDA is good at anomaly detection"
   ]
  },
  {
   "cell_type": "code",
   "execution_count": 230,
   "id": "86e22104",
   "metadata": {},
   "outputs": [],
   "source": [
    "#data_full.head(1)"
   ]
  },
  {
   "cell_type": "code",
   "execution_count": 177,
   "id": "98c4eee2",
   "metadata": {},
   "outputs": [],
   "source": [
    "#data_full.rename(columns = {'Тема ЗНО':'request_header', 'Информация':'request_details','Дата регистрации':'request_date'}, inplace = True )"
   ]
  },
  {
   "cell_type": "code",
   "execution_count": 178,
   "id": "c53697dc",
   "metadata": {},
   "outputs": [
    {
     "data": {
      "text/plain": [
       "(43407, 9)"
      ]
     },
     "execution_count": 178,
     "metadata": {},
     "output_type": "execute_result"
    }
   ],
   "source": [
    "data_full.shape"
   ]
  },
  {
   "cell_type": "code",
   "execution_count": 179,
   "id": "6eb28b58",
   "metadata": {},
   "outputs": [],
   "source": [
    "dataframes = []"
   ]
  },
  {
   "cell_type": "code",
   "execution_count": 180,
   "id": "80af1667",
   "metadata": {},
   "outputs": [],
   "source": [
    "intervals = [('2023-01-01', '2023-02-01'),\n",
    " ('2023-02-01', '2023-03-01'),\n",
    " ('2023-03-01', '2023-04-01'),\n",
    " ('2023-04-01', '2023-05-01'),\n",
    " ('2023-05-01', '2023-06-01'),\n",
    " ('2023-06-01', '2023-07-01'),\n",
    " ('2023-07-01', '2023-08-01'),\n",
    " ('2023-08-01', '2023-09-01'),\n",
    " ('2023-09-01', '2023-10-01'),\n",
    " ('2023-10-01', '2023-11-01'),\n",
    " ('2023-11-01', '2023-12-01'),\n",
    "('2023-12-01', '2024-01-01'),\n",
    " ('2024-01-01', '2024-02-01'),\n",
    " ('2024-02-01', '2024-03-01'),\n",
    " ('2024-03-01', '2024-04-01')]"
   ]
  },
  {
   "cell_type": "code",
   "execution_count": 181,
   "id": "a12bdef8",
   "metadata": {},
   "outputs": [],
   "source": [
    "for item in intervals:\n",
    "    temp_df = data_full[(data_full['request_date']>=item[0])&(data_full['request_date']<item[1])]\n",
    "    dataframes.append(temp_df)"
   ]
  },
  {
   "cell_type": "code",
   "execution_count": 183,
   "id": "507999fb",
   "metadata": {},
   "outputs": [],
   "source": [
    "#dataframes"
   ]
  },
  {
   "cell_type": "code",
   "execution_count": 137,
   "id": "f7ab00fa",
   "metadata": {},
   "outputs": [],
   "source": [
    "#data_full[(data_full['request_date']>'2024-01-01')&(data_full['request_date']<'2024-02-01')].shape"
   ]
  },
  {
   "cell_type": "code",
   "execution_count": 185,
   "id": "f4d49f02",
   "metadata": {},
   "outputs": [],
   "source": [
    "#dataframes[1]['request_date'].value_counts()"
   ]
  },
  {
   "cell_type": "markdown",
   "id": "f2e0a158",
   "metadata": {},
   "source": [
    "### Hypotheses check: "
   ]
  },
  {
   "cell_type": "markdown",
   "id": "f970720c",
   "metadata": {},
   "source": [
    "Use case 1: there was an activity regarding database update. It started in July 2023 and diminished in October 2023 \n",
    "\n",
    "Use case 2: issues with \"pg_bouncer\" component - started in September 2023 and diminished in November 2023\n",
    "\n",
    "Use case 3: issues with \"performance insight\" component - started in January 2023 and lasted till April 2023\n",
    "\n",
    "Use case 4: new functionality - new database role model. It lasted from January 2023 till May 2023\n",
    "\n",
    "Use case 5: issues with \"search path\" settings due to the PAM (Privilege Access Manager) - started in November 2023 and lasts till April 2024\n"
   ]
  },
  {
   "cell_type": "code",
   "execution_count": 186,
   "id": "d3b4ff3c",
   "metadata": {},
   "outputs": [],
   "source": [
    "hypo_models = []"
   ]
  },
  {
   "cell_type": "code",
   "execution_count": 187,
   "id": "ccff08fe",
   "metadata": {},
   "outputs": [],
   "source": [
    "def make_bigrams(texts):\n",
    "    return [bigram_mod[doc] for doc in texts]\n",
    "\n",
    "def make_trigrams(texts):\n",
    "    return [trigram_mod[bigram_mod[doc]] for doc in texts]"
   ]
  },
  {
   "cell_type": "code",
   "execution_count": 188,
   "id": "b48f4e6c",
   "metadata": {},
   "outputs": [],
   "source": [
    "def build_topics(ldamodel, topic_counts, topic_contribution):\n",
    "    # Init output\n",
    "    temp_df = pd.DataFrame()\n",
    "    \n",
    "    for topic_id in list(topic_counts.index):\n",
    "        counts = topic_counts[topic_id]\n",
    "        percent = topic_contribution[topic_id]\n",
    "        words_with_probabilities = ldamodel.show_topic(topic_id)\n",
    "        topic_keywords = \", \".join([word for word, prop in words_with_probabilities])\n",
    "        row_df = pd.DataFrame([[int(topic_id), counts, percent, topic_keywords]])\n",
    "        \n",
    "        temp_df = pd.concat([temp_df, row_df], ignore_index=True)\n",
    "\n",
    "    temp_df.columns = ['topic_id', 'counts', 'percent', 'keywords']\n",
    "    return temp_df "
   ]
  },
  {
   "cell_type": "code",
   "execution_count": 189,
   "id": "f166e16c",
   "metadata": {},
   "outputs": [],
   "source": [
    "def build_key_topics(analysis, model):# # of docs for each topic\n",
    "    topic_counts = analysis['key_topic'].value_counts()\n",
    "    #topic_counts\n",
    "\n",
    "    # % of docs for each topic\n",
    "    topic_contribution = round(topic_counts/topic_counts.sum(), 4)\n",
    "    #topic_contribution\n",
    "\n",
    "    df_topics_counts_percent = build_topics(model, topic_counts, topic_contribution)\n",
    "\n",
    "    for i in range(df_topics_counts_percent.shape[0]):\n",
    "        percent = df_topics_counts_percent['percent'][i]\n",
    "        keywords = df_topics_counts_percent['keywords'][i]\n",
    "        print(i, \" :  % = \", percent, \" keywords = \", keywords )\n",
    "        print(\"---\")"
   ]
  },
  {
   "cell_type": "code",
   "execution_count": 190,
   "id": "cb435619",
   "metadata": {},
   "outputs": [],
   "source": [
    "def retrieve_topic_keywords_from_request(ldamodel, corpus, texts, num_topics, num_words):\n",
    "    # Init output\n",
    "    sent_topics_df = pd.DataFrame()\n",
    "    temp_list = []\n",
    "    \n",
    "    # для каждого предложения - наиболее вероятные тема id, и ее вероятность\n",
    "    topic_probability = ldamodel.get_document_topics(corpus, minimum_probability=None, minimum_phi_value=None, per_word_topics=False)\n",
    "\n",
    "    # вывод наиболее значимых тем и слов к ним\n",
    "    \n",
    "    # Get main topic in each document\n",
    "    for i in range(len(corpus)):  \n",
    "        #row = sorted(topic_probability[i], key=lambda x: (x[1]), reverse=True)\n",
    "        highest_topic_prob = sorted(topic_probability[i], key=lambda x: (x[1]), reverse=True)[0]\n",
    "        topic_id = highest_topic_prob[0]\n",
    "        probability = highest_topic_prob[1]\n",
    "        \n",
    "        words_with_probabilities = ldamodel.show_topic(topic_id)\n",
    "        topic_keywords = \", \".join([word for word, prop in words_with_probabilities])\n",
    "        temp_series = pd.DataFrame([[int(topic_id), round(probability,2), topic_keywords]])\n",
    "        sent_topics_df = pd.concat([sent_topics_df, temp_series])\n",
    "        #sent_topics_df = sent_topics_df.concat(pd.Series([int(topic_id), round(probability,2), topic_keywords]), ignore_index=True)\n",
    "\n",
    "    sent_topics_df.columns = ['key_topic', 'topic_probability', 'top_keywords']\n",
    "\n",
    "    # Add request as a column\n",
    "    #requests = pd.DataFrame(texts)\n",
    "    #result = pd.concat([sent_topics_df, requests], axis=1)\n",
    "    \n",
    "    return sent_topics_df"
   ]
  },
  {
   "cell_type": "code",
   "execution_count": 191,
   "id": "975104aa",
   "metadata": {},
   "outputs": [],
   "source": [
    "def build_analysis(model, corpus, texts, num_topics, num_words):\n",
    "    df_requests_topic_keywords = pd.DataFrame()\n",
    "    df_requests_topic_keywords = retrieve_topic_keywords_from_request(ldamodel=model, corpus=corpus, \n",
    "                                                      texts=texts, num_topics = num_topics, num_words=num_words)\n",
    "    df_requests_topic_keywords.reset_index(drop=True, inplace = True)\n",
    "    req = pd.DataFrame(texts)\n",
    "    req.reset_index(drop=True, inplace = True)\n",
    "    analysis = pd.concat([df_requests_topic_keywords, req], axis=1)\n",
    "    \n",
    "    return analysis"
   ]
  },
  {
   "cell_type": "code",
   "execution_count": 231,
   "id": "0afa071f",
   "metadata": {},
   "outputs": [
    {
     "data": {
      "text/plain": [
       "'\\nfor i in range(len(dataframes)):\\n    data_words = dataframes[i][\\'full_request_tokenized\\']\\n    period = intervals[i]\\n    print(period)\\n    print(\"# of requests: \", data_words.shape[0])\\n    start_time = time.time()\\n    print (\\'Current datatime: {}\\'.format(datetime.datetime.now()))\\n    \\n    # Build the bigram and trigram models\\n    bigram = gensim.models.Phrases(data_words, min_count=5, threshold=100) # higher threshold fewer phrases.\\n    bigram_mod = gensim.models.phrases.Phraser(bigram)\\n    \\n    month_words_bigrams = make_bigrams(data_words)\\n\\n    # Build Dictionary\\n    id2word = corpora.Dictionary(month_words_bigrams)\\n    # Build Corpus\\n    texts = month_words_bigrams\\n    # Build Term Document Matrix\\n    corpus = [id2word.doc2bow(text) for text in texts]\\n    \\n    num_topics = 14\\n    num_words = 10\\n\\n    # build probe model\\n    probe_model = gensim.models.ldamodel.LdaModel(corpus=corpus,\\n                                       id2word=id2word,\\n                                       num_topics=num_topics, \\n                                       random_state=100,\\n                                       update_every=1,\\n                                       chunksize=500,\\n                                       passes=50,\\n                                       alpha=\\'auto\\',\\n                                       per_word_topics=True)\\n    \\n    # append model to the global models list\\n    hypo_models.append(probe_model)\\n    \\n    #  Lets calculate the perplexity of the model\\n    print(\\'Model Perplexity: \\', probe_model.log_perplexity(corpus))  # the lower the better\\n\\n    #  Coherence Score\\n    coherence_model_lda = CoherenceModel(model=probe_model, texts=texts, dictionary=id2word, coherence=\\'c_v\\')\\n    coherence_lda = coherence_model_lda.get_coherence()\\n    print(\\'Model Coherence Score: \\', coherence_lda, \"\\n\")\\n    print(\"\\nThis month topics: \\n\")\\n    \\n    # Analysis dataframe\\n    analysis = build_analysis(model=probe_model, corpus=corpus, texts=texts, num_topics=num_topics, num_words=num_words)\\n    #model, corpus, texts, n_topics, num_words\\n    \\n    # Print analysis\\n    build_key_topics(analysis, probe_model)\\n     \\n    print(\"\")\\n    end_time = time.time()\\n    elapsed_time = end_time - start_time\\n    print(f\\'Execution time: {elapsed_time:.2f} seconds\\')\\n    print(\"\")\\n'"
      ]
     },
     "execution_count": 231,
     "metadata": {},
     "output_type": "execute_result"
    }
   ],
   "source": [
    "\"\"\"\n",
    "for i in range(len(dataframes)):\n",
    "    data_words = dataframes[i]['full_request_tokenized']\n",
    "    period = intervals[i]\n",
    "    print(period)\n",
    "    print(\"# of requests: \", data_words.shape[0])\n",
    "    start_time = time.time()\n",
    "    print ('Current datatime: {}'.format(datetime.datetime.now()))\n",
    "    \n",
    "    # Build the bigram and trigram models\n",
    "    bigram = gensim.models.Phrases(data_words, min_count=5, threshold=100) # higher threshold fewer phrases.\n",
    "    bigram_mod = gensim.models.phrases.Phraser(bigram)\n",
    "    \n",
    "    month_words_bigrams = make_bigrams(data_words)\n",
    "\n",
    "    # Build Dictionary\n",
    "    id2word = corpora.Dictionary(month_words_bigrams)\n",
    "    # Build Corpus\n",
    "    texts = month_words_bigrams\n",
    "    # Build Term Document Matrix\n",
    "    corpus = [id2word.doc2bow(text) for text in texts]\n",
    "    \n",
    "    num_topics = 14\n",
    "    num_words = 10\n",
    "\n",
    "    # build probe model\n",
    "    probe_model = gensim.models.ldamodel.LdaModel(corpus=corpus,\n",
    "                                       id2word=id2word,\n",
    "                                       num_topics=num_topics, \n",
    "                                       random_state=100,\n",
    "                                       update_every=1,\n",
    "                                       chunksize=500,\n",
    "                                       passes=50,\n",
    "                                       alpha='auto',\n",
    "                                       per_word_topics=True)\n",
    "    \n",
    "    # append model to the global models list\n",
    "    hypo_models.append(probe_model)\n",
    "    \n",
    "    #  Lets calculate the perplexity of the model\n",
    "    print('Model Perplexity: ', probe_model.log_perplexity(corpus))  # the lower the better\n",
    "\n",
    "    #  Coherence Score\n",
    "    coherence_model_lda = CoherenceModel(model=probe_model, texts=texts, dictionary=id2word, coherence='c_v')\n",
    "    coherence_lda = coherence_model_lda.get_coherence()\n",
    "    print('Model Coherence Score: ', coherence_lda, \"\\n\")\n",
    "    print(\"\\nThis month topics: \\n\")\n",
    "    \n",
    "    # Analysis dataframe\n",
    "    analysis = build_analysis(model=probe_model, corpus=corpus, texts=texts, num_topics=num_topics, num_words=num_words)\n",
    "    #model, corpus, texts, n_topics, num_words\n",
    "    \n",
    "    # Print analysis\n",
    "    build_key_topics(analysis, probe_model)\n",
    "     \n",
    "    print(\"\")\n",
    "    end_time = time.time()\n",
    "    elapsed_time = end_time - start_time\n",
    "    print(f'Execution time: {elapsed_time:.2f} seconds')\n",
    "    print(\"\")\n",
    "\"\"\""
   ]
  },
  {
   "cell_type": "markdown",
   "id": "dec69fa8",
   "metadata": {},
   "source": [
    "### Conclusion: LDA segmention showed quite satisfactorial result in catching new common topics. It may be used as an additional instrument helping tech support  in finding new topics"
   ]
  },
  {
   "cell_type": "code",
   "execution_count": null,
   "id": "945888db",
   "metadata": {},
   "outputs": [],
   "source": []
  }
 ],
 "metadata": {
  "kernelspec": {
   "display_name": "Python 3 (ipykernel)",
   "language": "python",
   "name": "python3"
  },
  "language_info": {
   "codemirror_mode": {
    "name": "ipython",
    "version": 3
   },
   "file_extension": ".py",
   "mimetype": "text/x-python",
   "name": "python",
   "nbconvert_exporter": "python",
   "pygments_lexer": "ipython3",
   "version": "3.11.7"
  }
 },
 "nbformat": 4,
 "nbformat_minor": 5
}
